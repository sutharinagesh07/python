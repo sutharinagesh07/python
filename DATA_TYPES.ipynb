{
  "nbformat": 4,
  "nbformat_minor": 0,
  "metadata": {
    "colab": {
      "provenance": []
    },
    "kernelspec": {
      "name": "python3",
      "display_name": "Python 3"
    },
    "language_info": {
      "name": "python"
    }
  },
  "cells": [
    {
      "cell_type": "markdown",
      "source": [
        "**EXPLAIN ABOUT DATA TYPES**\n",
        "\n",
        "**EXPLAIN ABOUT INTEGERES WITH EXAMPLES**\n",
        "\n",
        "**EXPLAIN ABOUT FLOAT WITH EXAMPLES**\n",
        "\n",
        "**EXPLAIN ABOUT COMPLEX WITH EXAMPLES**\n",
        "\n"
      ],
      "metadata": {
        "id": "88zJUgfzpz4m"
      }
    },
    {
      "cell_type": "markdown",
      "source": [
        " 1 . **EXPLAIN ABOUT DATA TYPES**\n",
        "  \n",
        "\n",
        " -   We can say Python data types are collections of data items that help us classify or categorise data.\n",
        "  \n",
        " -   Lets see the datatype in python.\n",
        " -   integer, float, complex, boolean\n",
        " -   List, tuple, string , dictionary"
      ],
      "metadata": {
        "id": "AY5S5m1dsMwE"
      }
    },
    {
      "cell_type": "markdown",
      "source": [
        "# **EXPLAIN ABOUT INTEGERES WITH EXAMPLES**\n",
        "-  In Python, integers are classified into zero, positive, or negative whole numbers with no fractional part and infinite precision, such as 0, 100, -10, and so on."
      ],
      "metadata": {
        "id": "kd8vE1181aSs"
      }
    },
    {
      "cell_type": "code",
      "source": [
        "saikiran = 267\n",
        "print(saikiran)\n",
        "print(type(saikiran))"
      ],
      "metadata": {
        "colab": {
          "base_uri": "https://localhost:8080/"
        },
        "id": "VLD6u8Os2TJl",
        "outputId": "e9e0f69a-3f09-4a97-c4ef-9315a4395edf"
      },
      "execution_count": 2,
      "outputs": [
        {
          "output_type": "stream",
          "name": "stdout",
          "text": [
            "267\n",
            "<class 'int'>\n"
          ]
        }
      ]
    },
    {
      "cell_type": "code",
      "source": [
        "raju = 23987654321\n",
        "print(raju)\n",
        "print(type(raju))"
      ],
      "metadata": {
        "colab": {
          "base_uri": "https://localhost:8080/"
        },
        "id": "DF2mF-3d3A9f",
        "outputId": "6df3cca3-3367-4668-e049-e363f47fd6f4"
      },
      "execution_count": 3,
      "outputs": [
        {
          "output_type": "stream",
          "name": "stdout",
          "text": [
            "23987654321\n",
            "<class 'int'>\n"
          ]
        }
      ]
    },
    {
      "cell_type": "code",
      "source": [
        "atheesh = 55157890\n",
        "print(atheesh)\n",
        "print(type(atheesh))"
      ],
      "metadata": {
        "colab": {
          "base_uri": "https://localhost:8080/"
        },
        "id": "CdlH7Mw-3HEn",
        "outputId": "a53b583a-c236-4ad1-d05a-899b30e5473f"
      },
      "execution_count": 4,
      "outputs": [
        {
          "output_type": "stream",
          "name": "stdout",
          "text": [
            "55157890\n",
            "<class 'int'>\n"
          ]
        }
      ]
    },
    {
      "cell_type": "code",
      "source": [
        "a = 15467890\n",
        "print(a)\n",
        "print(type(a))"
      ],
      "metadata": {
        "colab": {
          "base_uri": "https://localhost:8080/"
        },
        "id": "zG_LLtfx3SPS",
        "outputId": "1ed2ff1c-3392-4614-9fb0-d33fd8642f40"
      },
      "execution_count": 5,
      "outputs": [
        {
          "output_type": "stream",
          "name": "stdout",
          "text": [
            "15467890\n",
            "<class 'int'>\n"
          ]
        }
      ]
    },
    {
      "cell_type": "code",
      "source": [
        "x = 1234567890\n",
        "print(x)\n",
        "print(type(x))"
      ],
      "metadata": {
        "colab": {
          "base_uri": "https://localhost:8080/"
        },
        "id": "dHT-VmZx3jjd",
        "outputId": "cc452418-3922-4ec1-97d6-fe17a00bc9c1"
      },
      "execution_count": 6,
      "outputs": [
        {
          "output_type": "stream",
          "name": "stdout",
          "text": [
            "1234567890\n",
            "<class 'int'>\n"
          ]
        }
      ]
    },
    {
      "cell_type": "code",
      "source": [
        "z = 1234567890\n",
        "print(z)\n",
        "print(type(z))\n"
      ],
      "metadata": {
        "colab": {
          "base_uri": "https://localhost:8080/"
        },
        "id": "baDB1zof3oQJ",
        "outputId": "d04f7125-cbda-47e2-8a53-e1bb23ebc438"
      },
      "execution_count": 8,
      "outputs": [
        {
          "output_type": "stream",
          "name": "stdout",
          "text": [
            "1234567890\n",
            "<class 'int'>\n"
          ]
        }
      ]
    },
    {
      "cell_type": "markdown",
      "source": [
        "# **EXPLAIN ABOUT FLOAT WITH EXAMPLES**\n",
        "-  Float is a function or reusable code in the Python programming language that converts values into floating point numbers.\n",
        "- Floating point numbers are decimal values or fractional numbers like 133.5, 2897.11, and 3571.213, whereas real numbers like 56, 2, and 33 are called integers."
      ],
      "metadata": {
        "id": "1UKJVkky36KJ"
      }
    },
    {
      "cell_type": "code",
      "source": [
        "lcuky = 12.45\n",
        "print(lcuky)\n",
        "print(type(lcuky))\n"
      ],
      "metadata": {
        "colab": {
          "base_uri": "https://localhost:8080/"
        },
        "id": "RY42jmub4NCQ",
        "outputId": "ea95e295-a2c1-49dd-e0c2-cea122954dda"
      },
      "execution_count": 9,
      "outputs": [
        {
          "output_type": "stream",
          "name": "stdout",
          "text": [
            "12.45\n",
            "<class 'float'>\n"
          ]
        }
      ]
    },
    {
      "cell_type": "code",
      "source": [
        "saikiran = 1.354789\n",
        "print(saikiran)\n",
        "print(type(saikiran))"
      ],
      "metadata": {
        "colab": {
          "base_uri": "https://localhost:8080/"
        },
        "id": "cRPkTtUa4ame",
        "outputId": "571c8162-964b-4292-9661-bb57afc27d83"
      },
      "execution_count": 10,
      "outputs": [
        {
          "output_type": "stream",
          "name": "stdout",
          "text": [
            "1.354789\n",
            "<class 'float'>\n"
          ]
        }
      ]
    },
    {
      "cell_type": "code",
      "source": [
        "x = 12.456789\n",
        "print(x)\n",
        "print(type(x))"
      ],
      "metadata": {
        "colab": {
          "base_uri": "https://localhost:8080/"
        },
        "id": "3ra5GL0z4hdi",
        "outputId": "ff9f994f-3ae4-4e26-fdb4-366a2eb97567"
      },
      "execution_count": 11,
      "outputs": [
        {
          "output_type": "stream",
          "name": "stdout",
          "text": [
            "12.456789\n",
            "<class 'float'>\n"
          ]
        }
      ]
    },
    {
      "cell_type": "code",
      "source": [
        "a = 021.456789\n",
        "print(a)\n",
        "print(type(a))\n"
      ],
      "metadata": {
        "colab": {
          "base_uri": "https://localhost:8080/"
        },
        "id": "-aydU7SO4lkx",
        "outputId": "5568bbac-7f5a-4c2e-e1df-aff26ad188b7"
      },
      "execution_count": 12,
      "outputs": [
        {
          "output_type": "stream",
          "name": "stdout",
          "text": [
            "21.456789\n",
            "<class 'float'>\n"
          ]
        }
      ]
    },
    {
      "cell_type": "code",
      "source": [
        "atheesh = 9.034612\n",
        "print(atheesh)\n",
        "print(type(atheesh))"
      ],
      "metadata": {
        "colab": {
          "base_uri": "https://localhost:8080/"
        },
        "id": "r2q-mlx84uVa",
        "outputId": "b7d3bebe-42b7-4cc4-a9c1-03850bb4f7df"
      },
      "execution_count": 13,
      "outputs": [
        {
          "output_type": "stream",
          "name": "stdout",
          "text": [
            "9.034612\n",
            "<class 'float'>\n"
          ]
        }
      ]
    },
    {
      "cell_type": "code",
      "source": [
        "bhanu = 3.456789\n",
        "print(bhanu)\n",
        "print(type(bhanu))"
      ],
      "metadata": {
        "colab": {
          "base_uri": "https://localhost:8080/"
        },
        "id": "lbRfB_im44DR",
        "outputId": "cb386ee0-c982-42f7-b2ba-a1d557ccb80d"
      },
      "execution_count": 14,
      "outputs": [
        {
          "output_type": "stream",
          "name": "stdout",
          "text": [
            "3.456789\n",
            "<class 'float'>\n"
          ]
        }
      ]
    },
    {
      "cell_type": "markdown",
      "source": [
        "# **EXPLAIN ABOUT COMPLEX WITH EXAMPLES**\n",
        "-  In Python, complex numbers are created from two real numbers using the complex\n",
        "-\n",
        "Syntax: complex([real[, imag]])\n",
        "-Parameters: real is the required input for the real part of the complex number, and imag is the optional input for the imaginary part\n",
        "-  \n",
        "Examples: z = complex(5, 7), z = complex(3), z = complex(), z = complex('1+1j'), z = complex(1, -4)\n"
      ],
      "metadata": {
        "id": "CvNJW-v05Dvc"
      }
    },
    {
      "cell_type": "code",
      "source": [
        " x = 3+5j\n",
        " print(x)\n",
        " print(type(x))"
      ],
      "metadata": {
        "colab": {
          "base_uri": "https://localhost:8080/"
        },
        "id": "5EmbF6ZE5Mc1",
        "outputId": "a800e5b8-8daf-472f-9190-073b63fea847"
      },
      "execution_count": 15,
      "outputs": [
        {
          "output_type": "stream",
          "name": "stdout",
          "text": [
            "(3+5j)\n",
            "<class 'complex'>\n"
          ]
        }
      ]
    },
    {
      "cell_type": "code",
      "source": [
        "y = 2+5j\n",
        "print(y)\n",
        "print(type(y))"
      ],
      "metadata": {
        "colab": {
          "base_uri": "https://localhost:8080/"
        },
        "id": "ZtWkiJSE5RbI",
        "outputId": "1775bebc-9980-4239-854b-67d21aad7594"
      },
      "execution_count": 17,
      "outputs": [
        {
          "output_type": "stream",
          "name": "stdout",
          "text": [
            "(2+5j)\n",
            "<class 'complex'>\n"
          ]
        }
      ]
    },
    {
      "cell_type": "code",
      "source": [
        "suresh = -2+6j\n",
        "print(suresh)\n",
        "print(type(suresh))"
      ],
      "metadata": {
        "colab": {
          "base_uri": "https://localhost:8080/"
        },
        "id": "NyzxIEKx5ado",
        "outputId": "6046bc00-273c-48e4-c0a6-016a41ce575c"
      },
      "execution_count": 18,
      "outputs": [
        {
          "output_type": "stream",
          "name": "stdout",
          "text": [
            "(-2+6j)\n",
            "<class 'complex'>\n"
          ]
        }
      ]
    },
    {
      "cell_type": "code",
      "source": [
        " mahesh = 2+6j\n",
        " print(mahesh)\n",
        " print(type(mahesh))\n"
      ],
      "metadata": {
        "colab": {
          "base_uri": "https://localhost:8080/"
        },
        "id": "zLF39B8_5scZ",
        "outputId": "3a7b9b2d-bf13-44ef-b87e-4070eb330f74"
      },
      "execution_count": 20,
      "outputs": [
        {
          "output_type": "stream",
          "name": "stdout",
          "text": [
            "(2+6j)\n",
            "<class 'complex'>\n"
          ]
        }
      ]
    },
    {
      "cell_type": "code",
      "source": [
        "b = 7+ 9j\n",
        "print(b)\n",
        "print(type(b))"
      ],
      "metadata": {
        "colab": {
          "base_uri": "https://localhost:8080/"
        },
        "id": "fp5G-5cg6Abe",
        "outputId": "c804c750-97e5-44a4-bf42-adf0a709cbf2"
      },
      "execution_count": 21,
      "outputs": [
        {
          "output_type": "stream",
          "name": "stdout",
          "text": [
            "(7+9j)\n",
            "<class 'complex'>\n"
          ]
        }
      ]
    }
  ]
}