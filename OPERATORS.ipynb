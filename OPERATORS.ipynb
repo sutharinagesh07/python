{
  "nbformat": 4,
  "nbformat_minor": 0,
  "metadata": {
    "colab": {
      "provenance": []
    },
    "kernelspec": {
      "name": "python3",
      "display_name": "Python 3"
    },
    "language_info": {
      "name": "python"
    }
  },
  "cells": [
    {
      "cell_type": "markdown",
      "source": [
        " **EXPLAIN ABOUT OPERATORS**\n",
        "\n",
        " **DEFINE THE TYPES OF OPERATORS IN PYTHON**\n",
        "\n",
        "**EXPLAIN EACH AND EVERY OPERATOR WITH 10 EXAMPLES**\n"
      ],
      "metadata": {
        "id": "4y2u6z3S_nxc"
      }
    },
    {
      "cell_type": "markdown",
      "source": [
        "# **EXPLAIN ABOUT OPERATOS**\n",
        "\n",
        "-  **Arithmetic operators**\n",
        "\n",
        "-  **Comparison operators**\n",
        "\n",
        "-  **Assignment operators**\n",
        "\n",
        "-  **Logical operators**\n",
        "\n",
        "-  **identity operators**\n",
        "\n",
        "-  **membership operators**\n",
        "\n",
        "\n",
        "\n",
        "-    **Arithmetic operators**  :\n",
        "\n",
        "     Python has a variety of arithmetic operators that can be used to perform mathematical calculations.\n",
        "\n",
        "-\n",
        "Addition: The symbol \"+\" is used to add two numbers together.\n",
        "-  \n",
        "Subtraction: The symbol \"-\" is used to subtract one number from another.\n",
        "-  \n",
        "Multiplication: The symbol \"*\" is used to multiply two numbers.\n",
        "-  \n",
        "Division: The symbol \"/\" is used to divide one number by another, returning a float.\n",
        "-  \n",
        "Floor Division: The symbol \"//\" is used to divide one number by another and return the integer part of the quotient.\n",
        "-  \n",
        "Modulus: The symbol \"%\" is used to calculate the remainder of the division.\n",
        "-  \n",
        "Exponentiation: The symbol \"**\" is used to raise a number to the power of another number.\n",
        "\n",
        "     "
      ],
      "metadata": {
        "id": "qzrPf5YgBKUv"
      }
    },
    {
      "cell_type": "code",
      "source": [
        " # Addition exaples\n",
        "\n",
        "# 1\n",
        "a = 5\n",
        "b = 3\n",
        "c = a + b\n",
        "print(c)"
      ],
      "metadata": {
        "colab": {
          "base_uri": "https://localhost:8080/"
        },
        "id": "jz52FN_LEwJK",
        "outputId": "3955e695-8063-4277-df23-9b69d8fe8031"
      },
      "execution_count": null,
      "outputs": [
        {
          "output_type": "stream",
          "name": "stdout",
          "text": [
            "8\n"
          ]
        }
      ]
    },
    {
      "cell_type": "code",
      "source": [
        "# 2\n",
        "\n",
        "x = 2369\n",
        "y = 3974\n",
        "z = x + y\n",
        "print(z)\n"
      ],
      "metadata": {
        "colab": {
          "base_uri": "https://localhost:8080/"
        },
        "id": "MmtoRE2rFSa5",
        "outputId": "2713a589-78f1-4958-d556-85af54d90016"
      },
      "execution_count": null,
      "outputs": [
        {
          "output_type": "stream",
          "name": "stdout",
          "text": [
            "6343\n"
          ]
        }
      ]
    },
    {
      "cell_type": "code",
      "source": [
        " # 3\n",
        " x = 69369\n",
        "y = 39879\n",
        "z = x + y\n",
        "print(z)"
      ],
      "metadata": {
        "colab": {
          "base_uri": "https://localhost:8080/"
        },
        "id": "SDBRPbjgG0kz",
        "outputId": "8083b5ba-38be-4c78-a664-fe635c1035db"
      },
      "execution_count": null,
      "outputs": [
        {
          "output_type": "stream",
          "name": "stdout",
          "text": [
            "109248\n"
          ]
        }
      ]
    },
    {
      "cell_type": "code",
      "source": [
        " # 4\n",
        " x = 36.3633\n",
        " y = 96.3664\n",
        " z = x + y\n",
        " print(z)"
      ],
      "metadata": {
        "colab": {
          "base_uri": "https://localhost:8080/"
        },
        "id": "yiMFNHDmH2qh",
        "outputId": "ea0e663a-40e1-4b54-bcfa-c39fdec49e89"
      },
      "execution_count": null,
      "outputs": [
        {
          "output_type": "stream",
          "name": "stdout",
          "text": [
            "132.7297\n"
          ]
        }
      ]
    },
    {
      "cell_type": "code",
      "source": [
        " # 5\n",
        " sai = 256.36\n",
        " raju = 363.363\n",
        " sum = sai + raju\n",
        " print(sum)"
      ],
      "metadata": {
        "colab": {
          "base_uri": "https://localhost:8080/"
        },
        "id": "49lIEKe0T4jN",
        "outputId": "49117d36-8db2-4095-d6d7-e2d2821f3fc3"
      },
      "execution_count": null,
      "outputs": [
        {
          "output_type": "stream",
          "name": "stdout",
          "text": [
            "619.723\n"
          ]
        }
      ]
    },
    {
      "cell_type": "code",
      "source": [
        "# 6\n",
        "aa = 236.34789\n",
        "bh = 2479.398\n",
        "sum = aa + bh\n",
        "print(sum)"
      ],
      "metadata": {
        "colab": {
          "base_uri": "https://localhost:8080/"
        },
        "id": "b3NoFohAUMbt",
        "outputId": "2c5a1484-dd25-406b-cf62-c9f2be944742"
      },
      "execution_count": null,
      "outputs": [
        {
          "output_type": "stream",
          "name": "stdout",
          "text": [
            "2715.74589\n"
          ]
        }
      ]
    },
    {
      "cell_type": "code",
      "source": [
        " # 7\n",
        " jkr = 369369369369\n",
        " lik = 1297458696969\n",
        " sum = jkr + lik\n",
        " print(sum)"
      ],
      "metadata": {
        "colab": {
          "base_uri": "https://localhost:8080/"
        },
        "id": "0q-PLeCsUbvC",
        "outputId": "e30c533d-235d-46d6-e9ae-bb4185608efe"
      },
      "execution_count": null,
      "outputs": [
        {
          "output_type": "stream",
          "name": "stdout",
          "text": [
            "1666828066338\n"
          ]
        }
      ]
    },
    {
      "cell_type": "code",
      "source": [
        "# subtraction examples\n",
        "\n",
        "# 1\n",
        "x = 2369\n",
        "y = 1974\n",
        "z = x - y\n",
        "print(z)"
      ],
      "metadata": {
        "colab": {
          "base_uri": "https://localhost:8080/"
        },
        "id": "7khP7YrrU2k8",
        "outputId": "5af463ca-6f6b-45a1-c930-0c551211d1e4"
      },
      "execution_count": null,
      "outputs": [
        {
          "output_type": "stream",
          "name": "stdout",
          "text": [
            "395\n"
          ]
        }
      ]
    },
    {
      "cell_type": "code",
      "source": [
        "# 2\n",
        "a = 2369745589\n",
        "b = 1236978523\n",
        "c = a - b\n",
        "print(c)"
      ],
      "metadata": {
        "colab": {
          "base_uri": "https://localhost:8080/"
        },
        "id": "A-uupMt0VRxR",
        "outputId": "0d2fd10d-7e65-42a3-fcc8-5fb0e5515c97"
      },
      "execution_count": null,
      "outputs": [
        {
          "output_type": "stream",
          "name": "stdout",
          "text": [
            "1132767066\n"
          ]
        }
      ]
    },
    {
      "cell_type": "code",
      "source": [
        "# 3\n",
        "kiran = 98749.39\n",
        "charan = 36936.36\n",
        "sum = kiran - charan\n",
        "print(sum)"
      ],
      "metadata": {
        "colab": {
          "base_uri": "https://localhost:8080/"
        },
        "id": "xX2pBEAFVgp7",
        "outputId": "51fd0753-2112-4e03-ac3b-f61950fb3214"
      },
      "execution_count": null,
      "outputs": [
        {
          "output_type": "stream",
          "name": "stdout",
          "text": [
            "61813.03\n"
          ]
        }
      ]
    },
    {
      "cell_type": "code",
      "source": [
        "# 4\n",
        "sai = 2561236.36\n",
        "raju = 36333333.363\n",
        "sum = sai - raju\n",
        "print(sum)"
      ],
      "metadata": {
        "colab": {
          "base_uri": "https://localhost:8080/"
        },
        "id": "KcvuHhHGVqK-",
        "outputId": "570b41e7-1b1a-4c80-e9d5-40f546b5efa5"
      },
      "execution_count": null,
      "outputs": [
        {
          "output_type": "stream",
          "name": "stdout",
          "text": [
            "-33772097.003\n"
          ]
        }
      ]
    },
    {
      "cell_type": "code",
      "source": [
        "# 5\n",
        "kkk = 0.32364112\n",
        "ddd = 0.10321456\n",
        "sum = kkk - ddd\n",
        "print (sum)\n"
      ],
      "metadata": {
        "colab": {
          "base_uri": "https://localhost:8080/"
        },
        "id": "zCZ-bM2zVy9n",
        "outputId": "41615c8e-d258-4092-a873-b4dae9f5f02a"
      },
      "execution_count": null,
      "outputs": [
        {
          "output_type": "stream",
          "name": "stdout",
          "text": [
            "0.22042656\n"
          ]
        }
      ]
    },
    {
      "cell_type": "code",
      "source": [
        "# 6\n",
        "c = 74785.3369\n",
        "m = 336.1232\n",
        "v = c - m\n",
        "print (v)\n"
      ],
      "metadata": {
        "colab": {
          "base_uri": "https://localhost:8080/"
        },
        "id": "dw2AQKvlWeN4",
        "outputId": "2987fd99-f6ab-44b7-e989-e000b1683c6d"
      },
      "execution_count": null,
      "outputs": [
        {
          "output_type": "stream",
          "name": "stdout",
          "text": [
            "74449.2137\n"
          ]
        }
      ]
    },
    {
      "cell_type": "code",
      "source": [
        "# 7\n",
        "lki = 36363636393636363\n",
        "kil = 22363423663\n",
        "mmm = lki - kil\n",
        "print (mmm)"
      ],
      "metadata": {
        "colab": {
          "base_uri": "https://localhost:8080/"
        },
        "id": "0pVRJQsoW1J0",
        "outputId": "a903cc06-d8fb-48b4-dd86-6925b5e8aa4c"
      },
      "execution_count": null,
      "outputs": [
        {
          "output_type": "stream",
          "name": "stdout",
          "text": [
            "36363614030212700\n"
          ]
        }
      ]
    },
    {
      "cell_type": "code",
      "source": [
        " # multiplication examples\n",
        "\n",
        "# 1\n",
        "\n",
        "a = 3636\n",
        "b = 3475\n",
        "c = a * b\n",
        "print(c)"
      ],
      "metadata": {
        "colab": {
          "base_uri": "https://localhost:8080/"
        },
        "id": "yGdKX02pXzbz",
        "outputId": "2e72e613-4421-4e7e-94d2-eb04f60dfffc"
      },
      "execution_count": null,
      "outputs": [
        {
          "output_type": "stream",
          "name": "stdout",
          "text": [
            "12635100\n"
          ]
        }
      ]
    },
    {
      "cell_type": "code",
      "source": [
        " # 2\n",
        " vv = 253363\n",
        " bb = 125636\n",
        " ss = vv * bb\n",
        " print(ss)"
      ],
      "metadata": {
        "colab": {
          "base_uri": "https://localhost:8080/"
        },
        "id": "gaIcaO10YZb3",
        "outputId": "3fcb9e87-03a3-42ff-c804-fe5992344469"
      },
      "execution_count": null,
      "outputs": [
        {
          "output_type": "stream",
          "name": "stdout",
          "text": [
            "31831513868\n"
          ]
        }
      ]
    },
    {
      "cell_type": "code",
      "source": [
        "# 3\n",
        "ark = 36.36\n",
        "krk = 26.26\n",
        "srk= ark * krk\n",
        "print(srk)"
      ],
      "metadata": {
        "colab": {
          "base_uri": "https://localhost:8080/"
        },
        "id": "UQLQds4tYnwc",
        "outputId": "034b047f-12f8-44b5-c47b-ed7cd1684f81"
      },
      "execution_count": null,
      "outputs": [
        {
          "output_type": "stream",
          "name": "stdout",
          "text": [
            "954.8136000000001\n"
          ]
        }
      ]
    },
    {
      "cell_type": "code",
      "source": [
        "# 4\n",
        "aws = 9999\n",
        "ggl = 8888\n",
        "lll = aws * ggl\n",
        "print(lll)\n"
      ],
      "metadata": {
        "colab": {
          "base_uri": "https://localhost:8080/"
        },
        "id": "LgGaQ6NoY653",
        "outputId": "ce8ee236-3dbd-4e15-82b0-437e824346b6"
      },
      "execution_count": null,
      "outputs": [
        {
          "output_type": "stream",
          "name": "stdout",
          "text": [
            "88871112\n"
          ]
        }
      ]
    },
    {
      "cell_type": "code",
      "source": [
        "# 5\n",
        "k = 0.1\n",
        "l = 0.2\n",
        "v= k * l\n",
        "print(v)"
      ],
      "metadata": {
        "colab": {
          "base_uri": "https://localhost:8080/"
        },
        "id": "rF2jW48lZcVE",
        "outputId": "0b0f02dd-7f68-4841-d95e-9e4ff5073041"
      },
      "execution_count": null,
      "outputs": [
        {
          "output_type": "stream",
          "name": "stdout",
          "text": [
            "0.020000000000000004\n"
          ]
        }
      ]
    },
    {
      "cell_type": "code",
      "source": [
        "# 6\n",
        "rgv = 1.3\n",
        "grb = 1.2\n",
        "hhh = rgv * grb\n",
        "print(hhh)"
      ],
      "metadata": {
        "colab": {
          "base_uri": "https://localhost:8080/"
        },
        "id": "NbHwJSzXaIjo",
        "outputId": "ce9b1b7d-b18f-4da1-9f0a-5f2760880654"
      },
      "execution_count": null,
      "outputs": [
        {
          "output_type": "stream",
          "name": "stdout",
          "text": [
            "1.56\n"
          ]
        }
      ]
    },
    {
      "cell_type": "code",
      "source": [
        "# 7\n",
        "prj = 0.77\n",
        "pk = 0.7\n",
        "lnj = prj * pk\n",
        "print(lnj)"
      ],
      "metadata": {
        "colab": {
          "base_uri": "https://localhost:8080/"
        },
        "id": "CIjCi6jsa1Bc",
        "outputId": "e29fcea6-ded5-4007-dee9-2dffb363273c"
      },
      "execution_count": null,
      "outputs": [
        {
          "output_type": "stream",
          "name": "stdout",
          "text": [
            "0.5389999999999999\n"
          ]
        }
      ]
    },
    {
      "cell_type": "code",
      "source": [
        " # division\n",
        "\n",
        " # 1\n",
        "a = 36\n",
        "b = 6\n",
        "c= a/b\n",
        "print (c)"
      ],
      "metadata": {
        "colab": {
          "base_uri": "https://localhost:8080/"
        },
        "id": "G1im1YmDbU8r",
        "outputId": "00902d24-4fbd-4280-a0cd-79fd12363dd5"
      },
      "execution_count": null,
      "outputs": [
        {
          "output_type": "stream",
          "name": "stdout",
          "text": [
            "6.0\n"
          ]
        }
      ]
    },
    {
      "cell_type": "code",
      "source": [
        "# 2\n",
        "x = 450\n",
        "y = 25\n",
        "z = x/y\n",
        "print (z)"
      ],
      "metadata": {
        "colab": {
          "base_uri": "https://localhost:8080/"
        },
        "id": "V1hCLa8NcDP3",
        "outputId": "37c8f3ea-7265-445d-cae9-eb75a260af8c"
      },
      "execution_count": null,
      "outputs": [
        {
          "output_type": "stream",
          "name": "stdout",
          "text": [
            "18.0\n"
          ]
        }
      ]
    },
    {
      "cell_type": "code",
      "source": [
        "# 3\n",
        "erb = 5.25\n",
        "rgv = 2.25\n",
        "sss = erb / rgv\n",
        "print(sss)"
      ],
      "metadata": {
        "colab": {
          "base_uri": "https://localhost:8080/"
        },
        "id": "eFgKca7DdFeu",
        "outputId": "0dcd83c3-5100-46fc-ab2d-9d874208c980"
      },
      "execution_count": null,
      "outputs": [
        {
          "output_type": "stream",
          "name": "stdout",
          "text": [
            "2.3333333333333335\n"
          ]
        }
      ]
    },
    {
      "cell_type": "code",
      "source": [
        "# 4\n",
        "dvr = 122.33\n",
        "mgr = 11\n",
        "ttt = dvr / mgr\n",
        "print(ttt)\n"
      ],
      "metadata": {
        "colab": {
          "base_uri": "https://localhost:8080/"
        },
        "id": "pZ7eoluveqIO",
        "outputId": "24a0695e-9bbf-49b3-9e13-3011175b678d"
      },
      "execution_count": null,
      "outputs": [
        {
          "output_type": "stream",
          "name": "stdout",
          "text": [
            "11.120909090909091\n"
          ]
        }
      ]
    },
    {
      "cell_type": "code",
      "source": [
        "# 5\n",
        "a = 15425\n",
        "b = 3636\n",
        "c = a / b\n",
        "print (c)"
      ],
      "metadata": {
        "colab": {
          "base_uri": "https://localhost:8080/"
        },
        "id": "fPMeIjv7fsmz",
        "outputId": "c2803124-e5e9-4252-e033-b69bc27b916a"
      },
      "execution_count": null,
      "outputs": [
        {
          "output_type": "stream",
          "name": "stdout",
          "text": [
            "4.242299229922993\n"
          ]
        }
      ]
    },
    {
      "cell_type": "code",
      "source": [
        "# 7\n",
        "ee = 999\n",
        "ss = 33\n",
        "ii = ee / ss\n",
        "print(ii)\n"
      ],
      "metadata": {
        "colab": {
          "base_uri": "https://localhost:8080/"
        },
        "id": "_HjGKR9WgHK4",
        "outputId": "3349afcd-e02a-458e-b979-23de81952414"
      },
      "execution_count": null,
      "outputs": [
        {
          "output_type": "stream",
          "name": "stdout",
          "text": [
            "30.272727272727273\n"
          ]
        }
      ]
    },
    {
      "cell_type": "code",
      "source": [
        "# Floor Division\n",
        "# 1\n",
        "a = 25\n",
        "b = 5\n",
        "c = a // b\n",
        "print (c)"
      ],
      "metadata": {
        "colab": {
          "base_uri": "https://localhost:8080/"
        },
        "id": "DUxePsvUgnkE",
        "outputId": "c4e3064e-daa6-4075-e29a-80bc5a1e5c48"
      },
      "execution_count": null,
      "outputs": [
        {
          "output_type": "stream",
          "name": "stdout",
          "text": [
            "5\n"
          ]
        }
      ]
    },
    {
      "cell_type": "code",
      "source": [
        "# 2\n",
        "x = 525\n",
        "y = 25\n",
        "z= x // y\n",
        "print (z)"
      ],
      "metadata": {
        "colab": {
          "base_uri": "https://localhost:8080/"
        },
        "id": "l2iAHlVui2q5",
        "outputId": "06a1e94c-e6a3-4589-de75-2206e2dc959a"
      },
      "execution_count": null,
      "outputs": [
        {
          "output_type": "stream",
          "name": "stdout",
          "text": [
            "21\n"
          ]
        }
      ]
    },
    {
      "cell_type": "code",
      "source": [
        "# 3\n",
        "er = 152\n",
        "tg = 36\n",
        "zz = er // tg\n",
        "print (zz)\n",
        "\n"
      ],
      "metadata": {
        "colab": {
          "base_uri": "https://localhost:8080/"
        },
        "id": "F2LRD97uj_QC",
        "outputId": "20fdab7a-fda6-49e6-db76-cddb2fe34283"
      },
      "execution_count": null,
      "outputs": [
        {
          "output_type": "stream",
          "name": "stdout",
          "text": [
            "4\n"
          ]
        }
      ]
    },
    {
      "cell_type": "code",
      "source": [
        "# 4\n",
        "cng = 200\n",
        "bbb = 100\n",
        "zzz = cng // bbb\n",
        "print (zzz)\n"
      ],
      "metadata": {
        "colab": {
          "base_uri": "https://localhost:8080/"
        },
        "id": "OsoskrdomzWE",
        "outputId": "3ecd4ea4-f034-433f-d94e-500bdaac5377"
      },
      "execution_count": null,
      "outputs": [
        {
          "output_type": "stream",
          "name": "stdout",
          "text": [
            "2\n"
          ]
        }
      ]
    },
    {
      "cell_type": "code",
      "source": [
        "# 5\n",
        "bbc = 100.20\n",
        "ccb = 10\n",
        "aaa = bbc // ccb\n",
        "print(aaa)"
      ],
      "metadata": {
        "colab": {
          "base_uri": "https://localhost:8080/"
        },
        "id": "2Khz5lnR7SQo",
        "outputId": "62977d47-654c-426a-8678-b06ebb79a004"
      },
      "execution_count": null,
      "outputs": [
        {
          "output_type": "stream",
          "name": "stdout",
          "text": [
            "10.0\n"
          ]
        }
      ]
    },
    {
      "cell_type": "code",
      "source": [
        "# 6\n",
        "v = 111.22\n",
        "x = 33\n",
        "w = v // x\n",
        "print(w)"
      ],
      "metadata": {
        "colab": {
          "base_uri": "https://localhost:8080/"
        },
        "id": "5GuANK-674Rh",
        "outputId": "9f2e00c2-e648-4860-a7c5-bfea5be3df84"
      },
      "execution_count": null,
      "outputs": [
        {
          "output_type": "stream",
          "name": "stdout",
          "text": [
            "3.0\n"
          ]
        }
      ]
    },
    {
      "cell_type": "code",
      "source": [
        "# 7\n",
        "p = 520\n",
        "s = 10\n",
        "k = p // s\n",
        "print(k)"
      ],
      "metadata": {
        "colab": {
          "base_uri": "https://localhost:8080/"
        },
        "id": "GXK2Avas8Rv2",
        "outputId": "479cb1b6-4039-4da9-85ea-b3e03f9516eb"
      },
      "execution_count": null,
      "outputs": [
        {
          "output_type": "stream",
          "name": "stdout",
          "text": [
            "52\n"
          ]
        }
      ]
    },
    {
      "cell_type": "code",
      "source": [
        " # Modulus\n",
        " # 1\n",
        " a = 652\n",
        " b = 25\n",
        " c = a % b\n",
        " print(c)"
      ],
      "metadata": {
        "colab": {
          "base_uri": "https://localhost:8080/"
        },
        "id": "fjR9dNTJ8-cM",
        "outputId": "65ab8cfe-a8aa-4ce5-e49e-5b4d5f7eb877"
      },
      "execution_count": null,
      "outputs": [
        {
          "output_type": "stream",
          "name": "stdout",
          "text": [
            "0\n"
          ]
        }
      ]
    },
    {
      "cell_type": "code",
      "source": [
        "# 2\n",
        "x = 365\n",
        "y = 15\n",
        "z = x % y\n",
        "print (z)"
      ],
      "metadata": {
        "colab": {
          "base_uri": "https://localhost:8080/"
        },
        "id": "3Y8YW-fwBCMM",
        "outputId": "0556e959-eccb-4314-f082-e00d4c9d58fb"
      },
      "execution_count": null,
      "outputs": [
        {
          "output_type": "stream",
          "name": "stdout",
          "text": [
            "5\n"
          ]
        }
      ]
    },
    {
      "cell_type": "code",
      "source": [
        "# 3\n",
        "lky = 65000\n",
        "jky = 75\n",
        "sh = lky % jky\n",
        "print (sh)"
      ],
      "metadata": {
        "colab": {
          "base_uri": "https://localhost:8080/"
        },
        "id": "WjS2KfJMBcsk",
        "outputId": "723ab31c-5a17-431e-8216-bda7024ac283"
      },
      "execution_count": null,
      "outputs": [
        {
          "output_type": "stream",
          "name": "stdout",
          "text": [
            "50\n"
          ]
        }
      ]
    },
    {
      "cell_type": "code",
      "source": [
        "# 4\n",
        "sai = 25000\n",
        "raju = 99\n",
        "zzz = sai % raju\n",
        "print(zzz)"
      ],
      "metadata": {
        "colab": {
          "base_uri": "https://localhost:8080/"
        },
        "id": "3X07Q9DaB4QT",
        "outputId": "e3ef3202-5ddb-40f4-9961-6f43f0889e43"
      },
      "execution_count": null,
      "outputs": [
        {
          "output_type": "stream",
          "name": "stdout",
          "text": [
            "52\n"
          ]
        }
      ]
    },
    {
      "cell_type": "code",
      "source": [
        "# 5\n",
        "atheesh = 120000\n",
        "rakesh = 85\n",
        "mm = atheesh % rakesh\n",
        "print (mm)"
      ],
      "metadata": {
        "colab": {
          "base_uri": "https://localhost:8080/"
        },
        "id": "uzrALTORCbDT",
        "outputId": "de87dacb-de44-4ac8-e08f-87b3f043d56a"
      },
      "execution_count": null,
      "outputs": [
        {
          "output_type": "stream",
          "name": "stdout",
          "text": [
            "65\n"
          ]
        }
      ]
    },
    {
      "cell_type": "markdown",
      "source": [
        "# **COMPARISON OPERATORS**\n",
        "  Comparison operators in Python, also called relational operators, are used to compare two operands. They return a Boolean True or False depending on whether the comparison condition is true or false.\n",
        "\n",
        "-  \tEqual ==\n",
        "-  \tNot equal\t!=\n",
        "-\tGreater than >\n",
        "-  Less than <\n",
        "-\tGreater than or equal to >=\n",
        "-   Less than or equal to <="
      ],
      "metadata": {
        "id": "51JsHtS-F3vK"
      }
    },
    {
      "cell_type": "code",
      "source": [
        " # really equal ==\n",
        " # 1\n",
        " a = 25\n",
        " b = 36\n",
        " c = a==b\n",
        " print (c)\n"
      ],
      "metadata": {
        "colab": {
          "base_uri": "https://localhost:8080/"
        },
        "id": "h3D_AEnWZsl8",
        "outputId": "4e481a20-eb56-4301-8cb7-b03c31d61fa3"
      },
      "execution_count": null,
      "outputs": [
        {
          "output_type": "stream",
          "name": "stdout",
          "text": [
            "False\n"
          ]
        }
      ]
    },
    {
      "cell_type": "code",
      "source": [
        "# 2\n",
        "x = 598\n",
        "y = 598\n",
        "z = x==y\n",
        "print(z)"
      ],
      "metadata": {
        "colab": {
          "base_uri": "https://localhost:8080/"
        },
        "id": "MdXOIA0-bgoI",
        "outputId": "0634d588-82ba-4401-deb5-cda8dabdaea6"
      },
      "execution_count": null,
      "outputs": [
        {
          "output_type": "stream",
          "name": "stdout",
          "text": [
            "True\n"
          ]
        }
      ]
    },
    {
      "cell_type": "code",
      "source": [
        "# 3\n",
        "ajk = 0.0333\n",
        "jkl = 1.0333\n",
        "lll = ajk==jkl\n",
        "print (lll)\n",
        "\n"
      ],
      "metadata": {
        "colab": {
          "base_uri": "https://localhost:8080/"
        },
        "id": "k020oh3mbudR",
        "outputId": "9562a781-1ac0-425c-ed4a-68dbe7423061"
      },
      "execution_count": null,
      "outputs": [
        {
          "output_type": "stream",
          "name": "stdout",
          "text": [
            "False\n"
          ]
        }
      ]
    },
    {
      "cell_type": "code",
      "source": [
        "# 4\n",
        "t = -267\n",
        "r = +267\n",
        "y = t==r\n",
        "print(y)"
      ],
      "metadata": {
        "colab": {
          "base_uri": "https://localhost:8080/"
        },
        "id": "QBj1lWifcAk2",
        "outputId": "eb325bd5-f0d8-48ba-a843-0566c419724d"
      },
      "execution_count": null,
      "outputs": [
        {
          "output_type": "stream",
          "name": "stdout",
          "text": [
            "False\n"
          ]
        }
      ]
    },
    {
      "cell_type": "code",
      "source": [
        "# 5\n",
        "tkr = 7896\n",
        "srk = 7896\n",
        "erp = tkr==srk\n",
        "print(erp)"
      ],
      "metadata": {
        "colab": {
          "base_uri": "https://localhost:8080/"
        },
        "id": "51ExP4oPcTZF",
        "outputId": "4bb04f30-7c12-4ee5-fc5c-4eeafb90c9c7"
      },
      "execution_count": null,
      "outputs": [
        {
          "output_type": "stream",
          "name": "stdout",
          "text": [
            "True\n"
          ]
        }
      ]
    },
    {
      "cell_type": "code",
      "source": [
        " # Not equal !=\n",
        "\n",
        " # 1\n",
        " a = 5\n",
        " b = 5\n",
        " c = a != b\n",
        " print (c)"
      ],
      "metadata": {
        "colab": {
          "base_uri": "https://localhost:8080/"
        },
        "id": "EgoibCmZcpYF",
        "outputId": "a1f8c2fa-7fc2-4333-cfae-4eb8fea2a45f"
      },
      "execution_count": null,
      "outputs": [
        {
          "output_type": "stream",
          "name": "stdout",
          "text": [
            "False\n"
          ]
        }
      ]
    },
    {
      "cell_type": "code",
      "source": [
        "# 2\n",
        "x = 6963\n",
        "b = 6961\n",
        "c = a != b\n",
        "print (c)"
      ],
      "metadata": {
        "colab": {
          "base_uri": "https://localhost:8080/"
        },
        "id": "tVPDIHQfdPpx",
        "outputId": "5a2e535d-7a9c-4e34-bf3a-beab121d86c4"
      },
      "execution_count": null,
      "outputs": [
        {
          "output_type": "stream",
          "name": "stdout",
          "text": [
            "True\n"
          ]
        }
      ]
    },
    {
      "cell_type": "code",
      "source": [
        "# 3\n",
        "p = 0.33\n",
        "o = 0.33\n",
        "q = p != o\n",
        "print (q)\n"
      ],
      "metadata": {
        "colab": {
          "base_uri": "https://localhost:8080/"
        },
        "id": "Uoufvbh-dzPr",
        "outputId": "55e28422-b612-4706-c139-e0781241b694"
      },
      "execution_count": null,
      "outputs": [
        {
          "output_type": "stream",
          "name": "stdout",
          "text": [
            "False\n"
          ]
        }
      ]
    },
    {
      "cell_type": "code",
      "source": [
        "# 4\n",
        "oo = 1254\n",
        "bc = 3264\n",
        "dc = oo != bc\n",
        "print(dc)"
      ],
      "metadata": {
        "colab": {
          "base_uri": "https://localhost:8080/"
        },
        "id": "mYX2xorufYBs",
        "outputId": "bbcb86cc-5723-4a64-ee81-ee5c275e4a40"
      },
      "execution_count": null,
      "outputs": [
        {
          "output_type": "stream",
          "name": "stdout",
          "text": [
            "True\n"
          ]
        }
      ]
    },
    {
      "cell_type": "code",
      "source": [
        "# 5\n",
        "jkl = 99999\n",
        "lkj = 99998\n",
        "zzz = jkl != lkj\n",
        "print (zzz)"
      ],
      "metadata": {
        "colab": {
          "base_uri": "https://localhost:8080/"
        },
        "id": "b6BIFqy6gFs9",
        "outputId": "328ef22d-88ec-4f58-bf62-26f14f1078bf"
      },
      "execution_count": null,
      "outputs": [
        {
          "output_type": "stream",
          "name": "stdout",
          "text": [
            "True\n"
          ]
        }
      ]
    },
    {
      "cell_type": "code",
      "source": [
        " # Greater than >\n",
        " # 1\n",
        "a = 5\n",
        "b = 3\n",
        "c = a > b\n",
        "print (c)"
      ],
      "metadata": {
        "colab": {
          "base_uri": "https://localhost:8080/"
        },
        "id": "en-T2VdrhjLW",
        "outputId": "1aee0d74-a31b-45a1-f337-f10a40f3703d"
      },
      "execution_count": null,
      "outputs": [
        {
          "output_type": "stream",
          "name": "stdout",
          "text": [
            "True\n"
          ]
        }
      ]
    },
    {
      "cell_type": "code",
      "source": [
        "# 2\n",
        "x = 25\n",
        "y = 26\n",
        "z = x > y\n",
        "print(z)"
      ],
      "metadata": {
        "colab": {
          "base_uri": "https://localhost:8080/"
        },
        "id": "SkcgNGxXiPuU",
        "outputId": "85a037ba-d5d9-4585-eb75-52e0fed5c828"
      },
      "execution_count": null,
      "outputs": [
        {
          "output_type": "stream",
          "name": "stdout",
          "text": [
            "False\n"
          ]
        }
      ]
    },
    {
      "cell_type": "code",
      "source": [
        "# 3\n",
        "r = 1236\n",
        "d = 2355\n",
        "z = r > d\n",
        "print(z)"
      ],
      "metadata": {
        "colab": {
          "base_uri": "https://localhost:8080/"
        },
        "id": "LW6utMFdipMP",
        "outputId": "fd4f6264-93a0-4458-c4e9-8faad1f4f32a"
      },
      "execution_count": null,
      "outputs": [
        {
          "output_type": "stream",
          "name": "stdout",
          "text": [
            "False\n"
          ]
        }
      ]
    },
    {
      "cell_type": "code",
      "source": [
        "# 4\n",
        "kd = 1.111\n",
        "ds = 1.000\n",
        "pp = kd > ds\n",
        "print(pp)"
      ],
      "metadata": {
        "colab": {
          "base_uri": "https://localhost:8080/"
        },
        "id": "an2JRugvi0L9",
        "outputId": "e31c1950-34d7-4f31-ee64-590d0a7a5b2b"
      },
      "execution_count": null,
      "outputs": [
        {
          "output_type": "stream",
          "name": "stdout",
          "text": [
            "True\n"
          ]
        }
      ]
    },
    {
      "cell_type": "code",
      "source": [
        "# 5\n",
        "trs = 2525\n",
        "bjp = 5252\n",
        "www = trs > bjp\n",
        "print(www)"
      ],
      "metadata": {
        "colab": {
          "base_uri": "https://localhost:8080/"
        },
        "id": "s_noj9NrjFP7",
        "outputId": "19a5fc87-5ec1-4961-815a-585c47a638fb"
      },
      "execution_count": null,
      "outputs": [
        {
          "output_type": "stream",
          "name": "stdout",
          "text": [
            "False\n"
          ]
        }
      ]
    },
    {
      "cell_type": "code",
      "source": [
        "# Less than <\n",
        "# 1\n",
        "a = 125\n",
        "b = 124\n",
        "c = a < b\n",
        "print(c)\n"
      ],
      "metadata": {
        "colab": {
          "base_uri": "https://localhost:8080/"
        },
        "id": "3eaFsd8NjW9n",
        "outputId": "9c2e9276-a1f3-4465-ea0e-82835b980681"
      },
      "execution_count": null,
      "outputs": [
        {
          "output_type": "stream",
          "name": "stdout",
          "text": [
            "False\n"
          ]
        }
      ]
    },
    {
      "cell_type": "code",
      "source": [
        "# 2\n",
        "x = 5\n",
        "y = 4\n",
        "z = y < x\n",
        "print(z)\n",
        "\n"
      ],
      "metadata": {
        "colab": {
          "base_uri": "https://localhost:8080/"
        },
        "id": "JmHSqlDNj33h",
        "outputId": "46bac29f-092f-4473-93fa-b192484814f8"
      },
      "execution_count": null,
      "outputs": [
        {
          "output_type": "stream",
          "name": "stdout",
          "text": [
            "True\n"
          ]
        }
      ]
    },
    {
      "cell_type": "code",
      "source": [
        "# 3\n",
        "aa = 100\n",
        "bb = 101\n",
        "cc = aa < bb\n",
        "print (c)"
      ],
      "metadata": {
        "colab": {
          "base_uri": "https://localhost:8080/"
        },
        "id": "RzPd9drEks6B",
        "outputId": "77cf0717-31a6-42c1-c350-18cf23ddf110"
      },
      "execution_count": null,
      "outputs": [
        {
          "output_type": "stream",
          "name": "stdout",
          "text": [
            "False\n"
          ]
        }
      ]
    },
    {
      "cell_type": "code",
      "source": [
        "# 4\n",
        "o = 1.222\n",
        "p = 0.333\n",
        "r = o < p\n",
        "print (r)\n"
      ],
      "metadata": {
        "colab": {
          "base_uri": "https://localhost:8080/"
        },
        "id": "x00MMyTGk7w6",
        "outputId": "b3005190-4f2f-464d-fa9e-3e41d92964e5"
      },
      "execution_count": null,
      "outputs": [
        {
          "output_type": "stream",
          "name": "stdout",
          "text": [
            "False\n"
          ]
        }
      ]
    },
    {
      "cell_type": "code",
      "source": [
        "# 5\n",
        "tt = 256\n",
        "rd = 250\n",
        "zz = tt < rd\n",
        "print(zz)"
      ],
      "metadata": {
        "colab": {
          "base_uri": "https://localhost:8080/"
        },
        "id": "TOJ6u0bcli1A",
        "outputId": "0975564e-9148-4e62-8c0b-d0c3a3fd4322"
      },
      "execution_count": null,
      "outputs": [
        {
          "output_type": "stream",
          "name": "stdout",
          "text": [
            "False\n"
          ]
        }
      ]
    },
    {
      "cell_type": "code",
      "source": [
        "# Greater than or equal to >=\n",
        "\n",
        "# 1\n",
        "a = 10\n",
        "b = 20\n",
        "c = a >= b\n",
        "print(c)"
      ],
      "metadata": {
        "colab": {
          "base_uri": "https://localhost:8080/"
        },
        "id": "vviP4mgzmByv",
        "outputId": "24d089fd-117b-4d88-916f-cd184e54c589"
      },
      "execution_count": null,
      "outputs": [
        {
          "output_type": "stream",
          "name": "stdout",
          "text": [
            "False\n"
          ]
        }
      ]
    },
    {
      "cell_type": "code",
      "source": [
        "# 2\n",
        "a = 20\n",
        "b = 10\n",
        "c = a >= b\n",
        "print (c)\n"
      ],
      "metadata": {
        "colab": {
          "base_uri": "https://localhost:8080/"
        },
        "id": "2_PBdGlamrCv",
        "outputId": "6eaf778c-0c05-4efc-c1af-0be8fcc4518f"
      },
      "execution_count": null,
      "outputs": [
        {
          "output_type": "stream",
          "name": "stdout",
          "text": [
            "True\n"
          ]
        }
      ]
    },
    {
      "cell_type": "code",
      "source": [
        "# 3\n",
        "a = 200\n",
        "b = 100\n",
        "c = b >=a\n",
        "print(c)"
      ],
      "metadata": {
        "colab": {
          "base_uri": "https://localhost:8080/"
        },
        "id": "tgiBN6I5nTqz",
        "outputId": "60344f4e-99b9-4daf-cd24-e0bd7c3b0472"
      },
      "execution_count": null,
      "outputs": [
        {
          "output_type": "stream",
          "name": "stdout",
          "text": [
            "False\n"
          ]
        }
      ]
    },
    {
      "cell_type": "code",
      "source": [
        "# 4\n",
        "x = 63.33\n",
        "y = 33.11\n",
        "z = x >= y\n",
        "print(z)"
      ],
      "metadata": {
        "colab": {
          "base_uri": "https://localhost:8080/"
        },
        "id": "FgxHlb8lnrCX",
        "outputId": "84be07c4-02d7-4b47-f720-684e50619fdd"
      },
      "execution_count": null,
      "outputs": [
        {
          "output_type": "stream",
          "name": "stdout",
          "text": [
            "True\n"
          ]
        }
      ]
    },
    {
      "cell_type": "code",
      "source": [
        "# 5\n",
        "bb = 555\n",
        "xx = 33.3\n",
        "vv =  bb >= xx\n",
        "print(vv)\n"
      ],
      "metadata": {
        "colab": {
          "base_uri": "https://localhost:8080/"
        },
        "id": "ch9sxM96n8_Y",
        "outputId": "e2bcf296-36d8-4ce5-e8d6-75dcd32cb932"
      },
      "execution_count": null,
      "outputs": [
        {
          "output_type": "stream",
          "name": "stdout",
          "text": [
            "True\n"
          ]
        }
      ]
    },
    {
      "cell_type": "code",
      "source": [
        " # Less than or equal to <=\n",
        " # 1\n",
        " a = 45\n",
        " b = 35\n",
        " c = a <= b\n",
        " print(c)"
      ],
      "metadata": {
        "colab": {
          "base_uri": "https://localhost:8080/"
        },
        "id": "7LDDM7suotiL",
        "outputId": "ed2c0a4f-774a-42d7-a558-f60bbb276b11"
      },
      "execution_count": null,
      "outputs": [
        {
          "output_type": "stream",
          "name": "stdout",
          "text": [
            "False\n"
          ]
        }
      ]
    },
    {
      "cell_type": "code",
      "source": [
        "# 2\n",
        "x = 350\n",
        "y = 250\n",
        "z = x <= y\n",
        "print(z)"
      ],
      "metadata": {
        "colab": {
          "base_uri": "https://localhost:8080/"
        },
        "id": "dYby2DTopVcr",
        "outputId": "1e0f4aae-6196-4960-a970-2b0b1c39478e"
      },
      "execution_count": null,
      "outputs": [
        {
          "output_type": "stream",
          "name": "stdout",
          "text": [
            "False\n"
          ]
        }
      ]
    },
    {
      "cell_type": "code",
      "source": [
        "# 3\n",
        "s = 350\n",
        "r = 250\n",
        "t = r <= s\n",
        "print (t)"
      ],
      "metadata": {
        "colab": {
          "base_uri": "https://localhost:8080/"
        },
        "id": "QNxnPPgXphPU",
        "outputId": "90d52ca3-db0c-45a2-d8d9-07fb4e47b137"
      },
      "execution_count": null,
      "outputs": [
        {
          "output_type": "stream",
          "name": "stdout",
          "text": [
            "True\n"
          ]
        }
      ]
    },
    {
      "cell_type": "code",
      "source": [
        "# 4\n",
        "ts = 1000\n",
        "pp = 5200\n",
        "yy = ts <= pp\n",
        "print(yy)"
      ],
      "metadata": {
        "colab": {
          "base_uri": "https://localhost:8080/"
        },
        "id": "bLgCLjmjqi4A",
        "outputId": "6941db35-d47b-463c-d558-22670216a9c0"
      },
      "execution_count": null,
      "outputs": [
        {
          "output_type": "stream",
          "name": "stdout",
          "text": [
            "True\n"
          ]
        }
      ]
    },
    {
      "cell_type": "code",
      "source": [
        "# 5\n",
        "jkl = 9999\n",
        "fgh = 8888\n",
        "ooo = jkl <= fgh\n",
        "print(ooo)"
      ],
      "metadata": {
        "colab": {
          "base_uri": "https://localhost:8080/"
        },
        "id": "mF4xZuq5q__M",
        "outputId": "f5aa37ff-4000-48b3-8da2-804f0b5282ba"
      },
      "execution_count": null,
      "outputs": [
        {
          "output_type": "stream",
          "name": "stdout",
          "text": [
            "False\n"
          ]
        }
      ]
    },
    {
      "cell_type": "markdown",
      "source": [
        "# **Assignment operators**\n",
        "- Python has an assignment operator that helps to assign values or expressions to the left-hand-side variable. The assignment operator is represented as the \"=\" symbol used in assignment statements and assignment expressions.\n",
        "\n",
        "-  Adds the value on the right to the variable on the left +=\n",
        "-  \n",
        "Subtracts the value on the right from the variable on the left -=\n",
        "-  \n",
        "Multiplies the value on the right by the variable on the left*=\n",
        "-   \n",
        "Divides the value on the right by the variable on the left /="
      ],
      "metadata": {
        "id": "Ae9yv9TOr7V5"
      }
    },
    {
      "cell_type": "code",
      "source": [
        " # addition assigment +=\n",
        " # 1\n",
        " a = 3\n",
        " b = 2\n",
        " a+=b\n",
        " print(a)"
      ],
      "metadata": {
        "colab": {
          "base_uri": "https://localhost:8080/"
        },
        "id": "X0hHKoPI2E6l",
        "outputId": "a5edb116-0dda-45c2-9a57-4cb7f5fedcfb"
      },
      "execution_count": null,
      "outputs": [
        {
          "output_type": "stream",
          "name": "stdout",
          "text": [
            "5\n"
          ]
        }
      ]
    },
    {
      "cell_type": "code",
      "source": [
        "# 2\n",
        "x = 633\n",
        "y = 33\n",
        "x+=y\n",
        "print(x)"
      ],
      "metadata": {
        "colab": {
          "base_uri": "https://localhost:8080/"
        },
        "id": "AG8KWHLT2jaH",
        "outputId": "4afe046b-94de-4f4a-c0cd-25fda5f35865"
      },
      "execution_count": null,
      "outputs": [
        {
          "output_type": "stream",
          "name": "stdout",
          "text": [
            "666\n"
          ]
        }
      ]
    },
    {
      "cell_type": "code",
      "source": [
        "# 3\n",
        "z = 125.36\n",
        "a = 125.3\n",
        "z+=a\n",
        "print(z)"
      ],
      "metadata": {
        "colab": {
          "base_uri": "https://localhost:8080/"
        },
        "id": "MLVyW1w22xao",
        "outputId": "26cf672c-7b84-4168-8321-0546d139eed5"
      },
      "execution_count": null,
      "outputs": [
        {
          "output_type": "stream",
          "name": "stdout",
          "text": [
            "250.66\n"
          ]
        }
      ]
    },
    {
      "cell_type": "code",
      "source": [
        "# 4\n",
        "cc = 2363\n",
        "dd = 2520\n",
        "cc+=dd\n",
        "print(cc)"
      ],
      "metadata": {
        "colab": {
          "base_uri": "https://localhost:8080/"
        },
        "id": "MGnq2fnk3Kk2",
        "outputId": "18e9f6c3-a043-4b14-d338-6235f555a643"
      },
      "execution_count": null,
      "outputs": [
        {
          "output_type": "stream",
          "name": "stdout",
          "text": [
            "4883\n"
          ]
        }
      ]
    },
    {
      "cell_type": "code",
      "source": [
        "# 4\n",
        "ar = 56\n",
        "bg = 35\n",
        "ar+=bg\n",
        "print(ar)"
      ],
      "metadata": {
        "colab": {
          "base_uri": "https://localhost:8080/"
        },
        "id": "G0a9NZl03krA",
        "outputId": "52396249-335c-4a8c-9965-21ea9c498745"
      },
      "execution_count": null,
      "outputs": [
        {
          "output_type": "stream",
          "name": "stdout",
          "text": [
            "91\n"
          ]
        }
      ]
    },
    {
      "cell_type": "code",
      "source": [
        "# 5\n",
        "r = 78\n",
        "t = 65\n",
        "r+=t\n",
        "print(r)"
      ],
      "metadata": {
        "colab": {
          "base_uri": "https://localhost:8080/"
        },
        "id": "-rJPjHLz3zld",
        "outputId": "16cb8385-bc89-4931-c49b-ec84f799ac2c"
      },
      "execution_count": null,
      "outputs": [
        {
          "output_type": "stream",
          "name": "stdout",
          "text": [
            "143\n"
          ]
        }
      ]
    },
    {
      "cell_type": "code",
      "source": [
        "# Subtraction Assignment\n",
        "# 1\n",
        "a = 30\n",
        "b = 20\n",
        "a-=b\n",
        "print(a)"
      ],
      "metadata": {
        "colab": {
          "base_uri": "https://localhost:8080/"
        },
        "id": "IKUsXvhS3_CE",
        "outputId": "2ea46d97-ddd2-4cfb-bfc8-92d92f89f68d"
      },
      "execution_count": null,
      "outputs": [
        {
          "output_type": "stream",
          "name": "stdout",
          "text": [
            "10\n"
          ]
        }
      ]
    },
    {
      "cell_type": "code",
      "source": [
        "# 2\n",
        "a = 250\n",
        "b = 150\n",
        "a-=b\n",
        "print(a)"
      ],
      "metadata": {
        "colab": {
          "base_uri": "https://localhost:8080/"
        },
        "id": "u9Y7bVi54sFh",
        "outputId": "d669a8e2-2cf2-4404-e318-6b882ddb81da"
      },
      "execution_count": null,
      "outputs": [
        {
          "output_type": "stream",
          "name": "stdout",
          "text": [
            "100\n"
          ]
        }
      ]
    },
    {
      "cell_type": "code",
      "source": [
        "# 3\n",
        "x = 500\n",
        "y = 300\n",
        "x-=y\n",
        "print(x)"
      ],
      "metadata": {
        "colab": {
          "base_uri": "https://localhost:8080/"
        },
        "id": "jBOhVokB4xl8",
        "outputId": "5c429ea8-2efc-43f1-f1e5-14064f7c547f"
      },
      "execution_count": null,
      "outputs": [
        {
          "output_type": "stream",
          "name": "stdout",
          "text": [
            "200\n"
          ]
        }
      ]
    },
    {
      "cell_type": "code",
      "source": [
        "# 4\n",
        "z = 125.36\n",
        "a = 125.3\n",
        "z-=a\n",
        "print(z)"
      ],
      "metadata": {
        "colab": {
          "base_uri": "https://localhost:8080/"
        },
        "id": "mWVMR3rC46Gv",
        "outputId": "9a51fa27-8ad5-4dc1-c36b-fb226dd4c1a7"
      },
      "execution_count": null,
      "outputs": [
        {
          "output_type": "stream",
          "name": "stdout",
          "text": [
            "0.060000000000002274\n"
          ]
        }
      ]
    },
    {
      "cell_type": "code",
      "source": [
        "# 5\n",
        "t = 250000\n",
        "b = 125000\n",
        "t-=b\n",
        "print(t)"
      ],
      "metadata": {
        "colab": {
          "base_uri": "https://localhost:8080/"
        },
        "id": "rZbGgyiq5Bbv",
        "outputId": "9271359f-0fac-4f33-9f78-6bc7f228c0f0"
      },
      "execution_count": null,
      "outputs": [
        {
          "output_type": "stream",
          "name": "stdout",
          "text": [
            "125000\n"
          ]
        }
      ]
    },
    {
      "cell_type": "code",
      "source": [
        "# Multiplication Assignment\n",
        "# 1\n",
        "a = 4\n",
        "b = 3\n",
        "a*=b\n",
        "print(a)"
      ],
      "metadata": {
        "colab": {
          "base_uri": "https://localhost:8080/"
        },
        "id": "tK7ijQgy5KvM",
        "outputId": "2061ff22-7cdd-4dc6-a49a-eada08a59c07"
      },
      "execution_count": null,
      "outputs": [
        {
          "output_type": "stream",
          "name": "stdout",
          "text": [
            "12\n"
          ]
        }
      ]
    },
    {
      "cell_type": "code",
      "source": [
        "# 2\n",
        "x = 25\n",
        "y = 5\n",
        "x*=y\n",
        "print(x)"
      ],
      "metadata": {
        "colab": {
          "base_uri": "https://localhost:8080/"
        },
        "id": "KMXeS1sy5bxd",
        "outputId": "cb5dc899-c260-4b79-e727-06ce16fe087c"
      },
      "execution_count": null,
      "outputs": [
        {
          "output_type": "stream",
          "name": "stdout",
          "text": [
            "125\n"
          ]
        }
      ]
    },
    {
      "cell_type": "code",
      "source": [
        "# 3\n",
        "z = 520\n",
        "a = 33\n",
        "z*=a\n",
        "print(z)"
      ],
      "metadata": {
        "colab": {
          "base_uri": "https://localhost:8080/"
        },
        "id": "XmKO7Mpt5h6r",
        "outputId": "253480e4-0cc5-4eec-8db8-162c31802ec7"
      },
      "execution_count": null,
      "outputs": [
        {
          "output_type": "stream",
          "name": "stdout",
          "text": [
            "17160\n"
          ]
        }
      ]
    },
    {
      "cell_type": "code",
      "source": [
        "# 4\n",
        "cc = 2363\n",
        "dd = 2520\n",
        "cc*=dd\n",
        "print(cc)"
      ],
      "metadata": {
        "colab": {
          "base_uri": "https://localhost:8080/"
        },
        "id": "8atIVK6h5pc5",
        "outputId": "1e3a0a2d-5240-4148-ca55-c9d4f2cd2c96"
      },
      "execution_count": null,
      "outputs": [
        {
          "output_type": "stream",
          "name": "stdout",
          "text": [
            "5954760\n"
          ]
        }
      ]
    },
    {
      "cell_type": "code",
      "source": [
        "# 5\n",
        "rt =  65\n",
        "ty = 35\n",
        "rt*=ty\n",
        "print(rt)"
      ],
      "metadata": {
        "colab": {
          "base_uri": "https://localhost:8080/"
        },
        "id": "ZQ83xLI-5sjg",
        "outputId": "96b6f981-972f-40db-ca47-29de5200ab60"
      },
      "execution_count": null,
      "outputs": [
        {
          "output_type": "stream",
          "name": "stdout",
          "text": [
            "2275\n"
          ]
        }
      ]
    },
    {
      "cell_type": "code",
      "source": [
        "# Division Assignment\n",
        "# 1\n",
        "a = 10\n",
        "b = 5\n",
        "a/=b\n",
        "print(a)"
      ],
      "metadata": {
        "colab": {
          "base_uri": "https://localhost:8080/"
        },
        "id": "XcvExi615z5j",
        "outputId": "f402dfd1-912f-42d4-83d7-5d3f1a0422cd"
      },
      "execution_count": null,
      "outputs": [
        {
          "output_type": "stream",
          "name": "stdout",
          "text": [
            "2.0\n"
          ]
        }
      ]
    },
    {
      "cell_type": "code",
      "source": [
        "# 2\n",
        "x = 25\n",
        "y = 5\n",
        "x/=y\n",
        "print(x)"
      ],
      "metadata": {
        "colab": {
          "base_uri": "https://localhost:8080/"
        },
        "id": "mXCBneyV59z0",
        "outputId": "aecbbaec-7e4b-478d-98d9-c89c51f9b7cd"
      },
      "execution_count": null,
      "outputs": [
        {
          "output_type": "stream",
          "name": "stdout",
          "text": [
            "5.0\n"
          ]
        }
      ]
    },
    {
      "cell_type": "code",
      "source": [
        "# 3\n",
        "b = 150\n",
        "d = 5\n",
        "b/=d\n",
        "print(b)"
      ],
      "metadata": {
        "colab": {
          "base_uri": "https://localhost:8080/"
        },
        "id": "0n1Nh5rR6CQT",
        "outputId": "528967a8-8652-447d-c4b8-95e8c8bf3625"
      },
      "execution_count": null,
      "outputs": [
        {
          "output_type": "stream",
          "name": "stdout",
          "text": [
            "30.0\n"
          ]
        }
      ]
    },
    {
      "cell_type": "code",
      "source": [
        "# 4\n",
        "s = 125.36\n",
        "r = 125.3\n",
        "s/=r\n",
        "print(s)"
      ],
      "metadata": {
        "colab": {
          "base_uri": "https://localhost:8080/"
        },
        "id": "oVUEvhkR6LBv",
        "outputId": "1a544322-90d5-49a0-b9cc-df64fde7cad0"
      },
      "execution_count": null,
      "outputs": [
        {
          "output_type": "stream",
          "name": "stdout",
          "text": [
            "1.0004788507581803\n"
          ]
        }
      ]
    },
    {
      "cell_type": "code",
      "source": [
        "# 5\n",
        "o = 45\n",
        "p = 9\n",
        "o/=p\n",
        "print(o)"
      ],
      "metadata": {
        "colab": {
          "base_uri": "https://localhost:8080/"
        },
        "id": "qIdduz5j6PDl",
        "outputId": "1edb5d1d-09aa-49ab-9ed2-d8c69813cc6b"
      },
      "execution_count": null,
      "outputs": [
        {
          "output_type": "stream",
          "name": "stdout",
          "text": [
            "5.0\n"
          ]
        }
      ]
    },
    {
      "cell_type": "markdown",
      "source": [
        "# **Logical operators**\n",
        "A logical operator is a symbol or word that connects two or more expressions to determine if the resulting expression is true or false. The result is based on the truth values of the original expressions and the meaning of the operator.\n",
        "\n",
        "- AND: Returns true if both operands satisfy the conditions.\n",
        "-  OR: Returns true if either operand satisfies the conditions.\n",
        "-NOT: Reverses the logical state of its operand.\n"
      ],
      "metadata": {
        "id": "y_uTcpdHpqDD"
      }
    },
    {
      "cell_type": "code",
      "source": [
        "# 1\n",
        "\n",
        "print (25>12 and 15<25)"
      ],
      "metadata": {
        "colab": {
          "base_uri": "https://localhost:8080/"
        },
        "id": "ETcLpU7t5mBq",
        "outputId": "c57f4c57-bdf5-4179-b64f-af4e517f28f1"
      },
      "execution_count": 1,
      "outputs": [
        {
          "output_type": "stream",
          "name": "stdout",
          "text": [
            "True\n"
          ]
        }
      ]
    },
    {
      "cell_type": "code",
      "source": [
        "# 2\n",
        "print (57>30 and 17<6)"
      ],
      "metadata": {
        "colab": {
          "base_uri": "https://localhost:8080/"
        },
        "id": "BlDxdqTm6OLK",
        "outputId": "c9b7ad28-aba4-4246-abdd-9c0e6d8d29da"
      },
      "execution_count": 2,
      "outputs": [
        {
          "output_type": "stream",
          "name": "stdout",
          "text": [
            "False\n"
          ]
        }
      ]
    },
    {
      "cell_type": "code",
      "source": [
        "# 3\n",
        "print (20.6>10.6 and 10.6<11.5)"
      ],
      "metadata": {
        "colab": {
          "base_uri": "https://localhost:8080/"
        },
        "id": "uxivrSq667SB",
        "outputId": "a0c59ba1-e43b-40b1-c1e8-a604c8fc80df"
      },
      "execution_count": 3,
      "outputs": [
        {
          "output_type": "stream",
          "name": "stdout",
          "text": [
            "True\n"
          ]
        }
      ]
    },
    {
      "cell_type": "code",
      "source": [
        "# 4\n",
        "print(50>45 and 50<40)\n"
      ],
      "metadata": {
        "colab": {
          "base_uri": "https://localhost:8080/"
        },
        "id": "ShMErF277NSL",
        "outputId": "ba712f0d-149e-4a83-9be9-f429bceb43c4"
      },
      "execution_count": 5,
      "outputs": [
        {
          "output_type": "stream",
          "name": "stdout",
          "text": [
            "False\n"
          ]
        }
      ]
    },
    {
      "cell_type": "code",
      "source": [
        "# 5\n",
        "print (100>150 and 25<36)\n"
      ],
      "metadata": {
        "colab": {
          "base_uri": "https://localhost:8080/"
        },
        "id": "jh1JiX8b7brw",
        "outputId": "fe450f0c-c03a-4d2a-92b6-b56d5f4e29f8"
      },
      "execution_count": 6,
      "outputs": [
        {
          "output_type": "stream",
          "name": "stdout",
          "text": [
            "False\n"
          ]
        }
      ]
    },
    {
      "cell_type": "code",
      "source": [
        "# or\n",
        "\n",
        "# 1\n",
        "print (25>12 or 50<10)"
      ],
      "metadata": {
        "colab": {
          "base_uri": "https://localhost:8080/"
        },
        "id": "BV_fBwe27rTD",
        "outputId": "d9752777-f3c6-4732-9fe2-30c5d479bb65"
      },
      "execution_count": 9,
      "outputs": [
        {
          "output_type": "stream",
          "name": "stdout",
          "text": [
            "True\n"
          ]
        }
      ]
    },
    {
      "cell_type": "code",
      "source": [
        "# 2\n",
        "print (60>100 or 8<10)"
      ],
      "metadata": {
        "colab": {
          "base_uri": "https://localhost:8080/"
        },
        "id": "GIsPcsGh8UAU",
        "outputId": "db0cb9d0-0cbc-470e-c8c7-d7031c2539b6"
      },
      "execution_count": 11,
      "outputs": [
        {
          "output_type": "stream",
          "name": "stdout",
          "text": [
            "True\n"
          ]
        }
      ]
    },
    {
      "cell_type": "code",
      "source": [
        "# 3\n",
        "print (100>150 or 100<95)"
      ],
      "metadata": {
        "colab": {
          "base_uri": "https://localhost:8080/"
        },
        "id": "gLrRSPiV8iST",
        "outputId": "f3cc0260-f5c5-4a4f-aa66-cb60f0521e44"
      },
      "execution_count": 13,
      "outputs": [
        {
          "output_type": "stream",
          "name": "stdout",
          "text": [
            "False\n"
          ]
        }
      ]
    },
    {
      "cell_type": "code",
      "source": [
        "# 4\n",
        "print (50>45 or 50<40)"
      ],
      "metadata": {
        "colab": {
          "base_uri": "https://localhost:8080/"
        },
        "id": "8wDgeQ2l9BpP",
        "outputId": "ac7f3921-bc5f-4369-f5df-b97e11b0acdc"
      },
      "execution_count": 14,
      "outputs": [
        {
          "output_type": "stream",
          "name": "stdout",
          "text": [
            "True\n"
          ]
        }
      ]
    },
    {
      "cell_type": "code",
      "source": [
        "# 5\n",
        "print (2560>6352 or 254<102)\n"
      ],
      "metadata": {
        "colab": {
          "base_uri": "https://localhost:8080/"
        },
        "id": "P7SSca1n9Jz5",
        "outputId": "5020dc9f-24d6-4ef1-96da-ab1be8722067"
      },
      "execution_count": 15,
      "outputs": [
        {
          "output_type": "stream",
          "name": "stdout",
          "text": [
            "False\n"
          ]
        }
      ]
    },
    {
      "cell_type": "code",
      "source": [
        "# not\n",
        "# 1\n",
        "x = 5\n",
        "print(not(x > 3 and x < 10))"
      ],
      "metadata": {
        "colab": {
          "base_uri": "https://localhost:8080/"
        },
        "id": "p80QQu_C9YKW",
        "outputId": "1718eaf1-20c5-4228-e3e9-5583513369f5"
      },
      "execution_count": 16,
      "outputs": [
        {
          "output_type": "stream",
          "name": "stdout",
          "text": [
            "False\n"
          ]
        }
      ]
    },
    {
      "cell_type": "code",
      "source": [
        "# 2\n",
        "a = 150\n",
        "print(not(a > 100 or a < 200))"
      ],
      "metadata": {
        "colab": {
          "base_uri": "https://localhost:8080/"
        },
        "id": "eKhmNXP0-C4Y",
        "outputId": "9d7a07fe-8483-40c0-a76b-79eae97a3ec5"
      },
      "execution_count": 18,
      "outputs": [
        {
          "output_type": "stream",
          "name": "stdout",
          "text": [
            "False\n"
          ]
        }
      ]
    },
    {
      "cell_type": "code",
      "source": [
        "# 3\n",
        "p = 250\n",
        "print(not(p > 200 and p < 100))"
      ],
      "metadata": {
        "colab": {
          "base_uri": "https://localhost:8080/"
        },
        "id": "iV2ispJp-RJv",
        "outputId": "33abfbcf-c741-48bb-d173-89508b47f2c5"
      },
      "execution_count": 21,
      "outputs": [
        {
          "output_type": "stream",
          "name": "stdout",
          "text": [
            "True\n"
          ]
        }
      ]
    },
    {
      "cell_type": "code",
      "source": [
        "# 4\n",
        "kl = 142\n",
        "print(not(kl > 143 or kl < 126))"
      ],
      "metadata": {
        "colab": {
          "base_uri": "https://localhost:8080/"
        },
        "id": "Aq0z1Ye--zoR",
        "outputId": "de664dd2-37de-4734-bbf9-2d68f8a598a8"
      },
      "execution_count": 22,
      "outputs": [
        {
          "output_type": "stream",
          "name": "stdout",
          "text": [
            "True\n"
          ]
        }
      ]
    },
    {
      "cell_type": "code",
      "source": [
        "# 5\n",
        "we = 500\n",
        "print(not (we >200 and we < 300))"
      ],
      "metadata": {
        "colab": {
          "base_uri": "https://localhost:8080/"
        },
        "id": "jX85ftWa_eB5",
        "outputId": "fc771b53-8a46-4aea-f183-b03fe3f96389"
      },
      "execution_count": 26,
      "outputs": [
        {
          "output_type": "stream",
          "name": "stdout",
          "text": [
            "True\n"
          ]
        }
      ]
    },
    {
      "cell_type": "markdown",
      "source": [
        "# **identity operators**\n",
        " Identity operators are used to compare the objects, not if they are equal, but if they are actually the same object, with the same memory location\n",
        " -   IS Operator\n",
        " -   IS NOT Operator"
      ],
      "metadata": {
        "id": "tnZy91jk__6R"
      }
    },
    {
      "cell_type": "code",
      "source": [
        " # IS\n",
        " # 1\n",
        "a = 5\n",
        "b = 5\n",
        "c = a is b\n",
        "print(c)"
      ],
      "metadata": {
        "colab": {
          "base_uri": "https://localhost:8080/"
        },
        "id": "zJD4u4FdBvAa",
        "outputId": "1217afb3-a3ea-4e69-bce1-9e47bf15aa92"
      },
      "execution_count": 27,
      "outputs": [
        {
          "output_type": "stream",
          "name": "stdout",
          "text": [
            "True\n"
          ]
        }
      ]
    },
    {
      "cell_type": "code",
      "source": [
        "# 2\n",
        "x = 1250\n",
        "y = 12369\n",
        "z = x is y\n",
        "print(z)"
      ],
      "metadata": {
        "colab": {
          "base_uri": "https://localhost:8080/"
        },
        "id": "gbD3OHjvCcYv",
        "outputId": "e1d6195e-413a-408e-aad3-e99bd3214525"
      },
      "execution_count": 28,
      "outputs": [
        {
          "output_type": "stream",
          "name": "stdout",
          "text": [
            "False\n"
          ]
        }
      ]
    },
    {
      "cell_type": "code",
      "source": [
        "# 3\n",
        "a = 'python'\n",
        "b = 'Python'\n",
        "c = a is b\n",
        "print(c)"
      ],
      "metadata": {
        "colab": {
          "base_uri": "https://localhost:8080/"
        },
        "id": "sn3-G-g7CmaF",
        "outputId": "6cf7455e-def6-4556-96d1-e849231dac8d"
      },
      "execution_count": 30,
      "outputs": [
        {
          "output_type": "stream",
          "name": "stdout",
          "text": [
            "False\n"
          ]
        }
      ]
    },
    {
      "cell_type": "code",
      "source": [
        "# 4\n",
        "d = 36985\n",
        "j = 23472\n",
        "e = d is j\n",
        "print(e)"
      ],
      "metadata": {
        "colab": {
          "base_uri": "https://localhost:8080/"
        },
        "id": "lQRou5mwC-U_",
        "outputId": "f0bfe57a-155e-493a-a06a-778a4f93da13"
      },
      "execution_count": 31,
      "outputs": [
        {
          "output_type": "stream",
          "name": "stdout",
          "text": [
            "False\n"
          ]
        }
      ]
    },
    {
      "cell_type": "code",
      "source": [
        "# is not\n",
        "\n",
        "# 1\n",
        "a = 15\n",
        "b = 15\n",
        "c = a is not b\n",
        "print(c)\n"
      ],
      "metadata": {
        "colab": {
          "base_uri": "https://localhost:8080/"
        },
        "id": "lH2OP9FxDOUp",
        "outputId": "009a8847-38f0-4a96-96d0-3d93df5cf505"
      },
      "execution_count": 32,
      "outputs": [
        {
          "output_type": "stream",
          "name": "stdout",
          "text": [
            "False\n"
          ]
        }
      ]
    },
    {
      "cell_type": "code",
      "source": [
        "# 2\n",
        "x = 1250\n",
        "y = 12369\n",
        "z = x is not y\n",
        "print(z)"
      ],
      "metadata": {
        "colab": {
          "base_uri": "https://localhost:8080/"
        },
        "id": "gSCRtyeCDbWT",
        "outputId": "ac0b0100-6bd6-43cb-a0e7-ebe86c8983c3"
      },
      "execution_count": 33,
      "outputs": [
        {
          "output_type": "stream",
          "name": "stdout",
          "text": [
            "True\n"
          ]
        }
      ]
    },
    {
      "cell_type": "code",
      "source": [
        "# 3\n",
        "s = 'kiran'\n",
        "b = 'kiRan'\n",
        "x = s is not b\n",
        "print(x)"
      ],
      "metadata": {
        "colab": {
          "base_uri": "https://localhost:8080/"
        },
        "id": "Av-0OU0kDfOY",
        "outputId": "36ccbefe-934e-45b1-c65e-a6af5faf3736"
      },
      "execution_count": 34,
      "outputs": [
        {
          "output_type": "stream",
          "name": "stdout",
          "text": [
            "True\n"
          ]
        }
      ]
    },
    {
      "cell_type": "code",
      "source": [
        "# 4\n",
        "erp = -2233\n",
        "poi = +2369\n",
        "pp = erp is not poi\n",
        "print(pp)"
      ],
      "metadata": {
        "colab": {
          "base_uri": "https://localhost:8080/"
        },
        "id": "S7mrpcjnDyPA",
        "outputId": "07d37f62-76de-4172-86de-f49e15e522c1"
      },
      "execution_count": 35,
      "outputs": [
        {
          "output_type": "stream",
          "name": "stdout",
          "text": [
            "True\n"
          ]
        }
      ]
    },
    {
      "cell_type": "markdown",
      "source": [
        "# Membership operators\n",
        "-  We use membership operators in Python to check whether a sequence is present in the object or not.\n",
        "-  To check the membership, we have two types of membership operators in Python, in and not in.\n",
        "-   The in operator returns True if it encounters the sequence in any object, whereas not in is the total opposite\n",
        "\n",
        "-  IN OPERATOR\n",
        "-  NOT IN OPERATOR"
      ],
      "metadata": {
        "id": "F1A4BNQQEFZo"
      }
    },
    {
      "cell_type": "code",
      "source": [
        "# in\n",
        "\n",
        "# 1\n",
        "j = 'sai kiran'\n",
        "print('S' in j)"
      ],
      "metadata": {
        "colab": {
          "base_uri": "https://localhost:8080/"
        },
        "id": "LEIg3xd7E_jn",
        "outputId": "43ee01e0-d9be-43cd-a068-58fb46bf62fc"
      },
      "execution_count": 36,
      "outputs": [
        {
          "output_type": "stream",
          "name": "stdout",
          "text": [
            "False\n"
          ]
        }
      ]
    },
    {
      "cell_type": "code",
      "source": [
        "# 2\n",
        "l = 'sai kiran'\n",
        "print('s' in l)"
      ],
      "metadata": {
        "colab": {
          "base_uri": "https://localhost:8080/"
        },
        "id": "btZQrhdMFxCD",
        "outputId": "f3f2db61-a03f-438b-cf38-7176a3e2e0f6"
      },
      "execution_count": 39,
      "outputs": [
        {
          "output_type": "stream",
          "name": "stdout",
          "text": [
            "True\n"
          ]
        }
      ]
    },
    {
      "cell_type": "code",
      "source": [
        "# 3\n",
        "a = 1,2,5,6,9\n",
        "print(5 in a)"
      ],
      "metadata": {
        "colab": {
          "base_uri": "https://localhost:8080/"
        },
        "id": "3jQ3tBBoGeQ5",
        "outputId": "7522c584-885d-4a68-9ad7-8cc899bb416b"
      },
      "execution_count": 40,
      "outputs": [
        {
          "output_type": "stream",
          "name": "stdout",
          "text": [
            "True\n"
          ]
        }
      ]
    },
    {
      "cell_type": "code",
      "source": [
        "# not in\n",
        "# 1\n",
        "a = 'hello world'\n",
        "print('a' not in a)"
      ],
      "metadata": {
        "colab": {
          "base_uri": "https://localhost:8080/"
        },
        "id": "eNcu9B1wGqDL",
        "outputId": "8100bf83-3ddc-476a-bd11-74cd05f901cf"
      },
      "execution_count": 41,
      "outputs": [
        {
          "output_type": "stream",
          "name": "stdout",
          "text": [
            "True\n"
          ]
        }
      ]
    },
    {
      "cell_type": "code",
      "source": [
        "# 2\n",
        "u = (1,2,5,6,9)\n",
        "print(10 not in u)"
      ],
      "metadata": {
        "colab": {
          "base_uri": "https://localhost:8080/"
        },
        "id": "yPJUzsepHynJ",
        "outputId": "256cf295-b52c-419c-bb41-b50c73088441"
      },
      "execution_count": 46,
      "outputs": [
        {
          "output_type": "stream",
          "name": "stdout",
          "text": [
            "True\n"
          ]
        }
      ]
    },
    {
      "cell_type": "code",
      "source": [
        "# 3\n",
        "s = 'shiva Krishna'\n",
        "print('k' not in s)"
      ],
      "metadata": {
        "colab": {
          "base_uri": "https://localhost:8080/"
        },
        "id": "nRbjN_lMIH1G",
        "outputId": "8d0fff3e-cc8f-494b-f8d1-175a377c85a1"
      },
      "execution_count": 48,
      "outputs": [
        {
          "output_type": "stream",
          "name": "stdout",
          "text": [
            "True\n"
          ]
        }
      ]
    },
    {
      "cell_type": "code",
      "source": [
        "# 4\n",
        "x = 1,2,5,6,9\n",
        "print(1 not in x)"
      ],
      "metadata": {
        "colab": {
          "base_uri": "https://localhost:8080/"
        },
        "id": "2c6W386KIdsv",
        "outputId": "510f0a61-0295-4c0c-ad9a-6ad3155b8d95"
      },
      "execution_count": 50,
      "outputs": [
        {
          "output_type": "stream",
          "name": "stdout",
          "text": [
            "False\n"
          ]
        }
      ]
    },
    {
      "cell_type": "code",
      "source": [
        "# 5\n",
        "r = 'hello World'\n",
        "print('w' not in r)"
      ],
      "metadata": {
        "colab": {
          "base_uri": "https://localhost:8080/"
        },
        "id": "KaMkdDxtIl4F",
        "outputId": "28c25c8b-5e76-4e5d-894b-34feae2758c6"
      },
      "execution_count": 51,
      "outputs": [
        {
          "output_type": "stream",
          "name": "stdout",
          "text": [
            "True\n"
          ]
        }
      ]
    }
  ]
}