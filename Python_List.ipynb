{
  "nbformat": 4,
  "nbformat_minor": 0,
  "metadata": {
    "colab": {
      "provenance": []
    },
    "kernelspec": {
      "name": "python3",
      "display_name": "Python 3"
    },
    "language_info": {
      "name": "python"
    }
  },
  "cells": [
    {
      "cell_type": "code",
      "source": [
        "# define about list\n",
        "# create 10 example storing different data types\n",
        "# creating a list with 15 elements you need to access each and every element from list both positive and negative\n",
        "# slicing both positive and negative\n",
        "# concatenation any 5 list\n",
        "# Repetition and 5 list\n",
        "# modifiy 5 element in list of 15 elements buy using index and slicing\n",
        "# list of methods"
      ],
      "metadata": {
        "id": "KG0zOqD4F3Dp"
      },
      "execution_count": null,
      "outputs": []
    },
    {
      "cell_type": "markdown",
      "source": [
        "# **Define about list**\n",
        "-  A Python list is mutable.\n",
        "-  Any item from the list can be accessed using its index, and can be modified.\n",
        "-  One or more objects from the list can be removed or added.\n",
        "-  A list may have same item at more than one index positions.\n",
        "-  A Python list is a sequence of comma separated items, enclosed in square\n",
        "   brackets [ ]."
      ],
      "metadata": {
        "id": "0M7tVlbY8ppW"
      }
    },
    {
      "cell_type": "code",
      "source": [
        " # Create 10 Example Storing Different Data Types\n",
        "# 1\n",
        " a = 58965\n",
        " b = 33.369\n",
        " c = 6+9j\n",
        " d = 759\n",
        " print(type(a))\n",
        " print(type(b))\n",
        " print(type(c))\n",
        " bool(d)"
      ],
      "metadata": {
        "colab": {
          "base_uri": "https://localhost:8080/"
        },
        "id": "hxcxJyCi_L2G",
        "outputId": "197da5a1-9fc2-4e04-8144-741dcd79f98d"
      },
      "execution_count": 8,
      "outputs": [
        {
          "output_type": "stream",
          "name": "stdout",
          "text": [
            "<class 'int'>\n",
            "<class 'float'>\n",
            "<class 'complex'>\n"
          ]
        },
        {
          "output_type": "execute_result",
          "data": {
            "text/plain": [
              "True"
            ]
          },
          "metadata": {},
          "execution_count": 8
        }
      ]
    },
    {
      "cell_type": "code",
      "source": [
        "# 2\n",
        "w = 9567\n",
        "x = 1.363\n",
        "y= 36+9j\n",
        "z = 0\n",
        "print(type(w))\n",
        "print(type(x))\n",
        "print(type(y))\n",
        "bool (z)"
      ],
      "metadata": {
        "colab": {
          "base_uri": "https://localhost:8080/"
        },
        "id": "ErAuKru3Cav3",
        "outputId": "42cfc72d-3bbd-4797-81b9-40c60eb5606f"
      },
      "execution_count": 9,
      "outputs": [
        {
          "output_type": "stream",
          "name": "stdout",
          "text": [
            "<class 'int'>\n",
            "<class 'float'>\n",
            "<class 'complex'>\n"
          ]
        },
        {
          "output_type": "execute_result",
          "data": {
            "text/plain": [
              "False"
            ]
          },
          "metadata": {},
          "execution_count": 9
        }
      ]
    },
    {
      "cell_type": "code",
      "source": [
        "# 3\n",
        "sai = 9475\n",
        "atheesh = 1.39752\n",
        "raju = 3+29j\n",
        "shiva = 777\n",
        "print(type(sai))\n",
        "print(type(atheesh))\n",
        "print(type(raju))\n",
        "bool(shiva)"
      ],
      "metadata": {
        "colab": {
          "base_uri": "https://localhost:8080/"
        },
        "id": "GeVq5lybDCj7",
        "outputId": "f6ae3703-d25d-4855-8287-26ff6ad16384"
      },
      "execution_count": 14,
      "outputs": [
        {
          "output_type": "stream",
          "name": "stdout",
          "text": [
            "<class 'int'>\n",
            "<class 'float'>\n",
            "<class 'complex'>\n"
          ]
        },
        {
          "output_type": "execute_result",
          "data": {
            "text/plain": [
              "True"
            ]
          },
          "metadata": {},
          "execution_count": 14
        }
      ]
    },
    {
      "cell_type": "code",
      "source": [
        "# 4\n",
        "apple = 23600.35452\n",
        "banana =236542\n",
        "cherry = 0+96j\n",
        "dates = 23\n",
        "print(type(apple))\n",
        "print(type(banana))\n",
        "print(type(cherry))\n",
        "bool(dates)"
      ],
      "metadata": {
        "colab": {
          "base_uri": "https://localhost:8080/"
        },
        "id": "VY-FbtXfFkg_",
        "outputId": "5d3fd2d7-5d96-49a4-e05c-8552270ba9c7"
      },
      "execution_count": 15,
      "outputs": [
        {
          "output_type": "stream",
          "name": "stdout",
          "text": [
            "<class 'float'>\n",
            "<class 'int'>\n",
            "<class 'complex'>\n"
          ]
        },
        {
          "output_type": "execute_result",
          "data": {
            "text/plain": [
              "True"
            ]
          },
          "metadata": {},
          "execution_count": 15
        }
      ]
    },
    {
      "cell_type": "code",
      "source": [
        "# 5\n",
        "k = 6+3j\n",
        "d = 0.1111\n",
        "r = 1631\n",
        "u = 0+0j\n",
        "print(type(k))\n",
        "print(type(d))\n",
        "print(type(r))\n",
        "bool(u)"
      ],
      "metadata": {
        "colab": {
          "base_uri": "https://localhost:8080/"
        },
        "id": "9oDHS4zcF3WR",
        "outputId": "5ce6186b-a504-4264-8c5b-708e4d3515a0"
      },
      "execution_count": 16,
      "outputs": [
        {
          "output_type": "stream",
          "name": "stdout",
          "text": [
            "<class 'complex'>\n",
            "<class 'float'>\n",
            "<class 'int'>\n"
          ]
        },
        {
          "output_type": "execute_result",
          "data": {
            "text/plain": [
              "False"
            ]
          },
          "metadata": {},
          "execution_count": 16
        }
      ]
    },
    {
      "cell_type": "code",
      "source": [
        "# 6\n",
        "aa = 1233\n",
        "bb = 33636\n",
        "CC = 0+0j\n",
        "dd = 0\n",
        "print(type(aa))\n",
        "print(type(bb))\n",
        "print(type(CC))\n",
        "bool(dd)"
      ],
      "metadata": {
        "colab": {
          "base_uri": "https://localhost:8080/"
        },
        "id": "LdEYLT2VGS8_",
        "outputId": "c576787d-ba82-4ce2-d511-7d82264352f5"
      },
      "execution_count": 18,
      "outputs": [
        {
          "output_type": "stream",
          "name": "stdout",
          "text": [
            "<class 'int'>\n",
            "<class 'int'>\n",
            "<class 'complex'>\n"
          ]
        },
        {
          "output_type": "execute_result",
          "data": {
            "text/plain": [
              "False"
            ]
          },
          "metadata": {},
          "execution_count": 18
        }
      ]
    },
    {
      "cell_type": "code",
      "source": [
        "# 7\n",
        "erp = 333.369\n",
        "jkl = 363+5j\n",
        "zxc = 363636\n",
        "qwe = -39\n",
        "print(type(erp))\n",
        "print(type(jkl))\n",
        "print(type(zxc))\n",
        "bool(qwe)\n"
      ],
      "metadata": {
        "colab": {
          "base_uri": "https://localhost:8080/"
        },
        "id": "I4gzY7rXGj6J",
        "outputId": "294cb033-654d-4c8f-d423-414ec7c79b5b"
      },
      "execution_count": 19,
      "outputs": [
        {
          "output_type": "stream",
          "name": "stdout",
          "text": [
            "<class 'float'>\n",
            "<class 'complex'>\n",
            "<class 'int'>\n"
          ]
        },
        {
          "output_type": "execute_result",
          "data": {
            "text/plain": [
              "True"
            ]
          },
          "metadata": {},
          "execution_count": 19
        }
      ]
    },
    {
      "cell_type": "code",
      "source": [
        "# creating a list with 15 elements you need to access each and every element from list both positive and negative\n",
        "# Creating a list with elements\n",
        "\n",
        "a = [100,200,300,400,500,600,700,800,900,1000,1100,1200,1300,1400,1500]\n",
        "print(a)\n",
        "\n",
        "'positive'\n",
        "print(a[0])\n",
        "print(a[1])\n",
        "print(a[2])\n",
        "print(a[3])\n",
        "print(a[4])\n",
        "print(a[5])"
      ],
      "metadata": {
        "colab": {
          "base_uri": "https://localhost:8080/"
        },
        "id": "qt2YIAlqK0WW",
        "outputId": "f3570c24-9161-4b4b-fae2-26a8a38e3b46"
      },
      "execution_count": 76,
      "outputs": [
        {
          "output_type": "stream",
          "name": "stdout",
          "text": [
            "[100, 200, 300, 400, 500, 600, 700, 800, 900, 1000, 1100, 1200, 1300, 1400, 1500]\n",
            "100\n",
            "200\n",
            "300\n",
            "400\n",
            "500\n",
            "600\n"
          ]
        }
      ]
    },
    {
      "cell_type": "code",
      "source": [
        "'negative'\n",
        "print(a[-1])\n",
        "print(a[-2])\n",
        "print(a[-3])\n",
        "print(a[-4])\n",
        "print(a[-5])\n",
        "print(a[-6])\n"
      ],
      "metadata": {
        "colab": {
          "base_uri": "https://localhost:8080/"
        },
        "id": "7Sr5qPjkfByO",
        "outputId": "83a99332-ca00-4804-c54c-09b715ee3926"
      },
      "execution_count": 77,
      "outputs": [
        {
          "output_type": "stream",
          "name": "stdout",
          "text": [
            "1500\n",
            "1400\n",
            "1300\n",
            "1200\n",
            "1100\n",
            "1000\n"
          ]
        }
      ]
    },
    {
      "cell_type": "code",
      "source": [
        "# slicing both positive and negative\n",
        "'positive'\n",
        "list = ['s','o','c','i','a','l','m','a','n','a','q','p']\n",
        "print(list[0:5])"
      ],
      "metadata": {
        "colab": {
          "base_uri": "https://localhost:8080/"
        },
        "id": "MjJFK58aZovq",
        "outputId": "a6a567b2-c22a-4f24-8aef-1ba5e5267dbe"
      },
      "execution_count": 51,
      "outputs": [
        {
          "output_type": "stream",
          "name": "stdout",
          "text": [
            "['s', 'o', 'c', 'i', 'a']\n"
          ]
        }
      ]
    },
    {
      "cell_type": "code",
      "source": [
        "print(list[6:11])"
      ],
      "metadata": {
        "colab": {
          "base_uri": "https://localhost:8080/"
        },
        "id": "wnxRq2_Yive2",
        "outputId": "6175cb58-8d8b-4de2-c9ac-c0fc56f13afc"
      },
      "execution_count": 52,
      "outputs": [
        {
          "output_type": "stream",
          "name": "stdout",
          "text": [
            "['m', 'a', 'n', 'a', 'q']\n"
          ]
        }
      ]
    },
    {
      "cell_type": "code",
      "source": [
        "print(list[6:9])"
      ],
      "metadata": {
        "colab": {
          "base_uri": "https://localhost:8080/"
        },
        "id": "iS1hoCvbi4PA",
        "outputId": "db3d453e-72b0-4608-f23a-6ed31d774137"
      },
      "execution_count": 54,
      "outputs": [
        {
          "output_type": "stream",
          "name": "stdout",
          "text": [
            "['m', 'a', 'n']\n"
          ]
        }
      ]
    },
    {
      "cell_type": "code",
      "source": [
        "print(list[:3])\n"
      ],
      "metadata": {
        "colab": {
          "base_uri": "https://localhost:8080/"
        },
        "id": "52fD-s4WjmAx",
        "outputId": "1a284eee-a425-44c2-8eb9-364266c4107c"
      },
      "execution_count": 55,
      "outputs": [
        {
          "output_type": "stream",
          "name": "stdout",
          "text": [
            "['s', 'o', 'c']\n"
          ]
        }
      ]
    },
    {
      "cell_type": "code",
      "source": [
        "print(list[1:])"
      ],
      "metadata": {
        "colab": {
          "base_uri": "https://localhost:8080/"
        },
        "id": "P8VkcMLajr8W",
        "outputId": "760b3a8e-280c-493d-923a-683c565b7e35"
      },
      "execution_count": 56,
      "outputs": [
        {
          "output_type": "stream",
          "name": "stdout",
          "text": [
            "['o', 'c', 'i', 'a', 'l', 'm', 'a', 'n', 'a', 'q', 'p']\n"
          ]
        }
      ]
    },
    {
      "cell_type": "code",
      "source": [
        "# 'negative'\n",
        "print(list[-11:-6])"
      ],
      "metadata": {
        "colab": {
          "base_uri": "https://localhost:8080/"
        },
        "id": "336dKaOgj9DJ",
        "outputId": "794b82fb-52fc-4a07-a42d-26ca600d3740"
      },
      "execution_count": 58,
      "outputs": [
        {
          "output_type": "stream",
          "name": "stdout",
          "text": [
            "['o', 'c', 'i', 'a', 'l']\n"
          ]
        }
      ]
    },
    {
      "cell_type": "code",
      "source": [
        "print(list[-3:-1])"
      ],
      "metadata": {
        "colab": {
          "base_uri": "https://localhost:8080/"
        },
        "id": "tkQf_Tkbkbxf",
        "outputId": "a2ced2ab-84ca-454d-8620-3c5bcbe87e08"
      },
      "execution_count": 59,
      "outputs": [
        {
          "output_type": "stream",
          "name": "stdout",
          "text": [
            "['a', 'q']\n"
          ]
        }
      ]
    },
    {
      "cell_type": "code",
      "source": [
        "print(list[:-1])"
      ],
      "metadata": {
        "colab": {
          "base_uri": "https://localhost:8080/"
        },
        "id": "-uIIgVPOkkNQ",
        "outputId": "20fc6932-8853-4c0b-f029-446c088f2da2"
      },
      "execution_count": 61,
      "outputs": [
        {
          "output_type": "stream",
          "name": "stdout",
          "text": [
            "['s', 'o', 'c', 'i', 'a', 'l', 'm', 'a', 'n', 'a', 'q']\n"
          ]
        }
      ]
    },
    {
      "cell_type": "code",
      "source": [
        "print(list[-0:])"
      ],
      "metadata": {
        "colab": {
          "base_uri": "https://localhost:8080/"
        },
        "id": "EZ1pFO3NkxL1",
        "outputId": "3fa039ec-27ab-4aac-cdf4-4cc8be27f0dc"
      },
      "execution_count": 62,
      "outputs": [
        {
          "output_type": "stream",
          "name": "stdout",
          "text": [
            "['s', 'o', 'c', 'i', 'a', 'l', 'm', 'a', 'n', 'a', 'q', 'p']\n"
          ]
        }
      ]
    },
    {
      "cell_type": "markdown",
      "source": [
        "list operations\n",
        "1. concatenation\n",
        "2. Repetition"
      ],
      "metadata": {
        "id": "k2iPdFOSozN9"
      }
    },
    {
      "cell_type": "code",
      "source": [
        "# concatenation any 5\n",
        "# 1\n",
        "a = [1,2,3,4,5]\n",
        "b = [6,7,8,9,10]\n",
        "c = a+b\n",
        "print(c)"
      ],
      "metadata": {
        "colab": {
          "base_uri": "https://localhost:8080/"
        },
        "id": "7ZJVUADMo80P",
        "outputId": "0b95073e-4a72-42b7-bd3b-fab235f67e4e"
      },
      "execution_count": 65,
      "outputs": [
        {
          "output_type": "stream",
          "name": "stdout",
          "text": [
            "[1, 2, 3, 4, 5, 6, 7, 8, 9, 10]\n"
          ]
        }
      ]
    },
    {
      "cell_type": "code",
      "source": [
        "# 2\n",
        "x = ['kiwi','mango','orange']\n",
        "y = ['apple','banana','cherry','kiwi']\n",
        "z = x+y\n",
        "print(z)"
      ],
      "metadata": {
        "colab": {
          "base_uri": "https://localhost:8080/"
        },
        "id": "kKuukZ-hphKP",
        "outputId": "f290d8f5-c900-4e83-dd7f-f106e6abadb8"
      },
      "execution_count": 67,
      "outputs": [
        {
          "output_type": "stream",
          "name": "stdout",
          "text": [
            "['kiwi', 'mango', 'orange', 'apple', 'banana', 'cherry', 'kiwi']\n"
          ]
        }
      ]
    },
    {
      "cell_type": "code",
      "source": [
        "# 3\n",
        "p = [100,200,300,400,500]\n",
        "q = [1000,2000,3000,4000,5000]\n",
        "r = p+q\n",
        "print(r)"
      ],
      "metadata": {
        "colab": {
          "base_uri": "https://localhost:8080/"
        },
        "id": "okvK7SArpuNv",
        "outputId": "299ea8f9-f815-40da-b864-a436a91be132"
      },
      "execution_count": 69,
      "outputs": [
        {
          "output_type": "stream",
          "name": "stdout",
          "text": [
            "[100, 200, 300, 400, 500, 1000, 2000, 3000, 4000, 5000]\n"
          ]
        }
      ]
    },
    {
      "cell_type": "code",
      "source": [
        "# Repetition\n",
        "\n",
        "a = [9,8,7,6,1]\n",
        "b = a*2\n",
        "print(b)\n"
      ],
      "metadata": {
        "colab": {
          "base_uri": "https://localhost:8080/"
        },
        "id": "bqM8yLLqqRnN",
        "outputId": "4763ab46-6ac9-4dac-d1a2-e7c9499373b1"
      },
      "execution_count": 70,
      "outputs": [
        {
          "output_type": "stream",
          "name": "stdout",
          "text": [
            "[9, 8, 7, 6, 1, 9, 8, 7, 6, 1]\n"
          ]
        }
      ]
    },
    {
      "cell_type": "code",
      "source": [
        "x = [1,2,3,4,5]\n",
        "y = x*3\n",
        "print(y)"
      ],
      "metadata": {
        "colab": {
          "base_uri": "https://localhost:8080/"
        },
        "id": "LLQfdzdwrTrk",
        "outputId": "00cbe7c3-c63c-4994-b596-d0ef538c0dfb"
      },
      "execution_count": 71,
      "outputs": [
        {
          "output_type": "stream",
          "name": "stdout",
          "text": [
            "[1, 2, 3, 4, 5, 1, 2, 3, 4, 5, 1, 2, 3, 4, 5]\n"
          ]
        }
      ]
    },
    {
      "cell_type": "code",
      "source": [
        "z = ['apple','banana','cherry']\n",
        "a = z*2\n",
        "print(a)"
      ],
      "metadata": {
        "colab": {
          "base_uri": "https://localhost:8080/"
        },
        "id": "Y2cUzDQSrYEO",
        "outputId": "2986f67a-1539-49f7-d071-43d9e2bdeb7d"
      },
      "execution_count": 72,
      "outputs": [
        {
          "output_type": "stream",
          "name": "stdout",
          "text": [
            "['apple', 'banana', 'cherry', 'apple', 'banana', 'cherry']\n"
          ]
        }
      ]
    },
    {
      "cell_type": "code",
      "source": [
        "p = ['kiwi','mango','orange']\n",
        "q = p*7\n",
        "print(q)"
      ],
      "metadata": {
        "colab": {
          "base_uri": "https://localhost:8080/"
        },
        "id": "ouuaxHFJrePx",
        "outputId": "83aed84f-c269-4c7c-f13e-7d2fdb90dc6d"
      },
      "execution_count": 73,
      "outputs": [
        {
          "output_type": "stream",
          "name": "stdout",
          "text": [
            "['kiwi', 'mango', 'orange', 'kiwi', 'mango', 'orange', 'kiwi', 'mango', 'orange', 'kiwi', 'mango', 'orange', 'kiwi', 'mango', 'orange', 'kiwi', 'mango', 'orange', 'kiwi', 'mango', 'orange']\n"
          ]
        }
      ]
    },
    {
      "cell_type": "code",
      "source": [
        "t = [100,200,300,400,500]\n",
        "u = t*5\n",
        "print(u)"
      ],
      "metadata": {
        "colab": {
          "base_uri": "https://localhost:8080/"
        },
        "id": "FTXQBhOfrmLh",
        "outputId": "1ab80e5f-498d-4fe5-dde0-2f5d87716afd"
      },
      "execution_count": 75,
      "outputs": [
        {
          "output_type": "stream",
          "name": "stdout",
          "text": [
            "[100, 200, 300, 400, 500, 100, 200, 300, 400, 500, 100, 200, 300, 400, 500, 100, 200, 300, 400, 500, 100, 200, 300, 400, 500]\n"
          ]
        }
      ]
    },
    {
      "cell_type": "code",
      "source": [
        "# modifiy 5 element in list of 15 elements buy using index and slicing\n",
        "\n",
        "list = ['apple','banana','cherry','kiwi','mango','orange','watermelon','avocado','blueberry','blackberry','pineapple','guava','papaya','plum','grapes']\n",
        "list [2] = 'strawberry'\n",
        "print(list)"
      ],
      "metadata": {
        "colab": {
          "base_uri": "https://localhost:8080/"
        },
        "id": "Xt0nSEjwsl1D",
        "outputId": "414de5d3-4167-413f-ef63-b6eff3c2b49f"
      },
      "execution_count": 80,
      "outputs": [
        {
          "output_type": "stream",
          "name": "stdout",
          "text": [
            "['apple', 'banana', 'strawberry', 'kiwi', 'mango', 'orange', 'watermelon', 'avocado', 'blueberry', 'blackberry', 'pineapple', 'guava', 'papaya', 'plum', 'grapes']\n"
          ]
        }
      ]
    },
    {
      "cell_type": "code",
      "source": [
        "list [6] = 'kiwi'\n",
        "print(list)"
      ],
      "metadata": {
        "colab": {
          "base_uri": "https://localhost:8080/"
        },
        "id": "xq7Q19Nmvz0r",
        "outputId": "956602fa-9974-44ac-de65-c8a2ca294680"
      },
      "execution_count": 82,
      "outputs": [
        {
          "output_type": "stream",
          "name": "stdout",
          "text": [
            "['apple', 'banana', 'strawberry', 'kiwi', 'mango', 'orange', 'kiwi', 'avocado', 'blueberry', 'blackberry', 'pineapple', 'guava', 'papaya', 'plum', 'grapes']\n"
          ]
        }
      ]
    },
    {
      "cell_type": "code",
      "source": [
        "list [-8] = 'cherry'\n",
        "print(list)"
      ],
      "metadata": {
        "colab": {
          "base_uri": "https://localhost:8080/"
        },
        "id": "B-i-W8W8wIWI",
        "outputId": "649dd130-2fd6-4d0d-ec46-ea798a6060ba"
      },
      "execution_count": 83,
      "outputs": [
        {
          "output_type": "stream",
          "name": "stdout",
          "text": [
            "['apple', 'banana', 'strawberry', 'kiwi', 'mango', 'orange', 'kiwi', 'cherry', 'blueberry', 'blackberry', 'pineapple', 'guava', 'papaya', 'plum', 'grapes']\n"
          ]
        }
      ]
    },
    {
      "cell_type": "code",
      "source": [
        "list [-10] = 'orange'\n",
        "print(list)"
      ],
      "metadata": {
        "colab": {
          "base_uri": "https://localhost:8080/"
        },
        "id": "Gy0ZkgtpwXyE",
        "outputId": "593f3eba-2488-4189-c0d9-3606b5dd7dca"
      },
      "execution_count": 84,
      "outputs": [
        {
          "output_type": "stream",
          "name": "stdout",
          "text": [
            "['apple', 'banana', 'strawberry', 'kiwi', 'mango', 'orange', 'kiwi', 'cherry', 'blueberry', 'blackberry', 'pineapple', 'guava', 'papaya', 'plum', 'grapes']\n"
          ]
        }
      ]
    },
    {
      "cell_type": "code",
      "source": [
        "list [7] = 'blueberry'\n",
        "print(list)"
      ],
      "metadata": {
        "colab": {
          "base_uri": "https://localhost:8080/"
        },
        "id": "-PJomc1ewfBn",
        "outputId": "e2e5553c-0de7-4f50-c700-cc89aab2872d"
      },
      "execution_count": 87,
      "outputs": [
        {
          "output_type": "stream",
          "name": "stdout",
          "text": [
            "['apple', 'banana', 'strawberry', 'kiwi', 'mango', 'orange', 'kiwi', 'blueberry', 'blueberry', 'blackberry', 'pineapple', 'guava', 'papaya', 'plum', 'grapes']\n"
          ]
        }
      ]
    },
    {
      "cell_type": "code",
      "source": [
        "#  list of methods with examples\n",
        "\n",
        "\n",
        "1 . append()\n",
        "2 . extend()\n",
        "3 . insert()\n",
        "4 . remove()\n",
        "5 . pop()\n",
        "6 . index()\n",
        "7 . count()\n",
        "8 . sort()\n",
        "9 . reverse()\n",
        "10 . clear()"
      ],
      "metadata": {
        "id": "T4lMYFzn2POp"
      },
      "execution_count": null,
      "outputs": []
    },
    {
      "cell_type": "code",
      "source": [
        " 'append'\n",
        "\n",
        "# add an element to the end of the list\n",
        "\n",
        "a = [1,2,3,4,5]\n",
        "a.append(10)\n",
        "print(a)\n"
      ],
      "metadata": {
        "colab": {
          "base_uri": "https://localhost:8080/"
        },
        "id": "7ikJtGId3AmQ",
        "outputId": "1c1ba789-459e-4611-c60f-d7c679b64580"
      },
      "execution_count": 96,
      "outputs": [
        {
          "output_type": "stream",
          "name": "stdout",
          "text": [
            "[1, 2, 3, 4, 5, 10]\n"
          ]
        }
      ]
    },
    {
      "cell_type": "code",
      "source": [
        "x = [100,200,300,400,500]\n",
        "x.append(1000)\n",
        "print(x)"
      ],
      "metadata": {
        "colab": {
          "base_uri": "https://localhost:8080/"
        },
        "id": "i0wZNh6A4Tgx",
        "outputId": "c5b4fc56-ba75-4542-cd22-f808e99ada02"
      },
      "execution_count": 97,
      "outputs": [
        {
          "output_type": "stream",
          "name": "stdout",
          "text": [
            "[100, 200, 300, 400, 500, 1000]\n"
          ]
        }
      ]
    },
    {
      "cell_type": "code",
      "source": [
        "t = ['kiwi','mango','orange']\n",
        "t.append('apple')\n",
        "print(t)"
      ],
      "metadata": {
        "colab": {
          "base_uri": "https://localhost:8080/"
        },
        "id": "oPR2TvTK4dWh",
        "outputId": "df435e38-f90c-4493-a472-5daa163c1a9b"
      },
      "execution_count": 98,
      "outputs": [
        {
          "output_type": "stream",
          "name": "stdout",
          "text": [
            "['kiwi', 'mango', 'orange', 'apple']\n"
          ]
        }
      ]
    },
    {
      "cell_type": "code",
      "source": [
        "# extend\n",
        "\n",
        "# appends elements from another iterable to the end.\n",
        "\n",
        "x = [1,2,3,4,5]\n",
        "y = [6,7,8,9,10]\n",
        "x.extend(y)\n",
        "print(x)\n"
      ],
      "metadata": {
        "colab": {
          "base_uri": "https://localhost:8080/"
        },
        "id": "Ovc7I8KY4lb9",
        "outputId": "fc7f83bf-205d-4105-ea27-46107e6677f9"
      },
      "execution_count": 101,
      "outputs": [
        {
          "output_type": "stream",
          "name": "stdout",
          "text": [
            "[1, 2, 3, 4, 5, 6, 7, 8, 9, 10]\n"
          ]
        }
      ]
    },
    {
      "cell_type": "code",
      "source": [
        "aa = [25,50,75,100,125]\n",
        "bb = [150,175,200,225,250]\n",
        "aa.extend(bb)\n",
        "print(aa)"
      ],
      "metadata": {
        "colab": {
          "base_uri": "https://localhost:8080/"
        },
        "id": "41bxR7bi6Itz",
        "outputId": "2e424a3d-9e63-4c8f-c5d1-d39c0b8e542a"
      },
      "execution_count": 102,
      "outputs": [
        {
          "output_type": "stream",
          "name": "stdout",
          "text": [
            "[25, 50, 75, 100, 125, 150, 175, 200, 225, 250]\n"
          ]
        }
      ]
    },
    {
      "cell_type": "code",
      "source": [
        "xx = ['kiwi','mango','orange']\n",
        "yy = ['apple','banana','cherry','kiwi']\n",
        "xx.extend(yy)\n",
        "print(xx)"
      ],
      "metadata": {
        "colab": {
          "base_uri": "https://localhost:8080/"
        },
        "id": "xtGQwbFk6SC3",
        "outputId": "73971c4e-8dca-46e0-d5e3-263aa249766d"
      },
      "execution_count": 103,
      "outputs": [
        {
          "output_type": "stream",
          "name": "stdout",
          "text": [
            "['kiwi', 'mango', 'orange', 'apple', 'banana', 'cherry', 'kiwi']\n"
          ]
        }
      ]
    },
    {
      "cell_type": "code",
      "source": [
        "# insert\n",
        "\n",
        "# insert an element at a specified position\n",
        "\n",
        "a = [1,2,3,4,5]\n",
        "a.insert(2,10)\n",
        "print(a)"
      ],
      "metadata": {
        "colab": {
          "base_uri": "https://localhost:8080/"
        },
        "id": "yiRJ4ZYT6bhI",
        "outputId": "3aa18ab3-b2ee-4891-c7f4-ef5e291ccd09"
      },
      "execution_count": 104,
      "outputs": [
        {
          "output_type": "stream",
          "name": "stdout",
          "text": [
            "[1, 2, 10, 3, 4, 5]\n"
          ]
        }
      ]
    },
    {
      "cell_type": "code",
      "source": [
        "x = [100,200,300,400,500]\n",
        "x.insert(4,1000)\n",
        "print(x)"
      ],
      "metadata": {
        "colab": {
          "base_uri": "https://localhost:8080/"
        },
        "id": "AckKsFaw7AS7",
        "outputId": "e6ff597d-6b1d-47a0-a240-ce5dc46f42d1"
      },
      "execution_count": 105,
      "outputs": [
        {
          "output_type": "stream",
          "name": "stdout",
          "text": [
            "[100, 200, 300, 400, 1000, 500]\n"
          ]
        }
      ]
    },
    {
      "cell_type": "code",
      "source": [
        "z = [23,36,49,64,81,25,36]\n",
        "z.insert(-2,150)\n",
        "print(z)"
      ],
      "metadata": {
        "colab": {
          "base_uri": "https://localhost:8080/"
        },
        "id": "a3Pi1VCx7NkG",
        "outputId": "4cc02f64-f787-4a99-cf08-c2710fdcb82a"
      },
      "execution_count": 107,
      "outputs": [
        {
          "output_type": "stream",
          "name": "stdout",
          "text": [
            "[23, 36, 49, 64, 81, 150, 25, 36]\n"
          ]
        }
      ]
    },
    {
      "cell_type": "code",
      "source": [
        "# 'remove'\n",
        "\n",
        "# removes the first occurrence of a value\n",
        "\n",
        "\n",
        "a = [1,2,3,4,5]\n",
        "a.remove(3)\n",
        "print(a)"
      ],
      "metadata": {
        "colab": {
          "base_uri": "https://localhost:8080/"
        },
        "id": "oLkMKDKn7hk5",
        "outputId": "5ca56f53-69c7-48e8-a79c-a4302f46634a"
      },
      "execution_count": 113,
      "outputs": [
        {
          "output_type": "stream",
          "name": "stdout",
          "text": [
            "[1, 2, 4, 5]\n"
          ]
        }
      ]
    },
    {
      "cell_type": "code",
      "source": [
        "x = ['kiwi','mango','orange']\n",
        "x.remove('mango')\n",
        "print(x)"
      ],
      "metadata": {
        "colab": {
          "base_uri": "https://localhost:8080/"
        },
        "id": "ZF0vrzUo8xWQ",
        "outputId": "66de8d44-f328-4a11-f70a-541c06f203ec"
      },
      "execution_count": 114,
      "outputs": [
        {
          "output_type": "stream",
          "name": "stdout",
          "text": [
            "['kiwi', 'orange']\n"
          ]
        }
      ]
    },
    {
      "cell_type": "code",
      "source": [
        "z = [100,200,300,400,500]\n",
        "z.remove(200)\n",
        "print(z)"
      ],
      "metadata": {
        "colab": {
          "base_uri": "https://localhost:8080/"
        },
        "id": "0WwtsMGd852C",
        "outputId": "f128c863-e29d-4a96-b208-970284ae19dd"
      },
      "execution_count": 115,
      "outputs": [
        {
          "output_type": "stream",
          "name": "stdout",
          "text": [
            "[100, 300, 400, 500]\n"
          ]
        }
      ]
    },
    {
      "cell_type": "code",
      "source": [
        "# pop\n",
        "\n",
        "# removes and returns an element at a specifeid index.\n",
        "\n",
        "a = [1,2,3,4,5]\n",
        "a.pop(3)\n",
        "print(a)"
      ],
      "metadata": {
        "colab": {
          "base_uri": "https://localhost:8080/"
        },
        "id": "CSMQ25-Z9C0J",
        "outputId": "33e8fe98-17fb-4016-a71a-0fa8b95894dd"
      },
      "execution_count": 116,
      "outputs": [
        {
          "output_type": "stream",
          "name": "stdout",
          "text": [
            "[1, 2, 3, 5]\n"
          ]
        }
      ]
    },
    {
      "cell_type": "code",
      "source": [
        "x = ['kiwi','mango','orange']\n",
        "x.pop(2)\n",
        "print(x)"
      ],
      "metadata": {
        "colab": {
          "base_uri": "https://localhost:8080/"
        },
        "id": "P2jBvtUF9rrV",
        "outputId": "3cb51565-e78f-45d4-8162-21442d5c92f7"
      },
      "execution_count": 117,
      "outputs": [
        {
          "output_type": "stream",
          "name": "stdout",
          "text": [
            "['kiwi', 'mango']\n"
          ]
        }
      ]
    },
    {
      "cell_type": "code",
      "source": [
        "z = [100,200,300,400,500]\n",
        "z.pop(4)\n",
        "print(z)"
      ],
      "metadata": {
        "colab": {
          "base_uri": "https://localhost:8080/"
        },
        "id": "GCYJs1ht90bX",
        "outputId": "4016c3ae-12e0-4d2a-e7f5-1f19ce9bcf96"
      },
      "execution_count": 118,
      "outputs": [
        {
          "output_type": "stream",
          "name": "stdout",
          "text": [
            "[100, 200, 300, 400]\n"
          ]
        }
      ]
    },
    {
      "cell_type": "code",
      "source": [
        "# index\n",
        "\n",
        "# returns the index of the first occurance of a value\n",
        "\n",
        "\n",
        "z = ['kiwi','mango','orange']\n",
        "index = z.index('mango')\n",
        "print(index)"
      ],
      "metadata": {
        "colab": {
          "base_uri": "https://localhost:8080/"
        },
        "id": "_zVLCh24_ab4",
        "outputId": "7e6dfa3d-8417-45f3-9f64-789fbf94678f"
      },
      "execution_count": 122,
      "outputs": [
        {
          "output_type": "stream",
          "name": "stdout",
          "text": [
            "1\n"
          ]
        }
      ]
    },
    {
      "cell_type": "code",
      "source": [
        "y = [100,200,300,400,500]\n",
        "index = y.index(300)\n",
        "print(index)"
      ],
      "metadata": {
        "colab": {
          "base_uri": "https://localhost:8080/"
        },
        "id": "9Ab9kzd8_kGS",
        "outputId": "f98c39d9-15f4-4425-9981-045788b0b896"
      },
      "execution_count": 123,
      "outputs": [
        {
          "output_type": "stream",
          "name": "stdout",
          "text": [
            "2\n"
          ]
        }
      ]
    },
    {
      "cell_type": "code",
      "source": [
        "# count\n",
        "\n",
        "# returns the number of occurences of a value\n",
        "\n",
        "t = [1,2,3,4,5,6,7,5,9,10,5]\n",
        "count = t.count(5)\n",
        "print(count)"
      ],
      "metadata": {
        "colab": {
          "base_uri": "https://localhost:8080/"
        },
        "id": "_z4GJLVC_xpi",
        "outputId": "d43bf99d-c085-4de6-e5e9-d5698238d107"
      },
      "execution_count": 129,
      "outputs": [
        {
          "output_type": "stream",
          "name": "stdout",
          "text": [
            "3\n"
          ]
        }
      ]
    },
    {
      "cell_type": "code",
      "source": [
        "u = ['kiwi','mango','orange','kiwi']\n",
        "count = u.count('kiwi')\n",
        "print(count)"
      ],
      "metadata": {
        "colab": {
          "base_uri": "https://localhost:8080/"
        },
        "id": "c-XkRpUKANPT",
        "outputId": "760fbbbe-0a20-4e95-abb2-489197387fc8"
      },
      "execution_count": 125,
      "outputs": [
        {
          "output_type": "stream",
          "name": "stdout",
          "text": [
            "2\n"
          ]
        }
      ]
    },
    {
      "cell_type": "code",
      "source": [
        "s = [100,200,500,400,500,600,700,500,900,1000]\n",
        "count = s.count(500)\n",
        "print(count)"
      ],
      "metadata": {
        "colab": {
          "base_uri": "https://localhost:8080/"
        },
        "id": "sWASB7fcAQZJ",
        "outputId": "4849f6f7-4059-4934-d494-8dad3aae4ef1"
      },
      "execution_count": 127,
      "outputs": [
        {
          "output_type": "stream",
          "name": "stdout",
          "text": [
            "3\n"
          ]
        }
      ]
    },
    {
      "cell_type": "code",
      "source": [
        "# sort\n",
        "\n",
        "# sorts the list in ascending order.\n",
        "\n",
        "a = [5,4,3,2,1,6,9,7,3,6,7]\n",
        "a.sort()\n",
        "print(a)"
      ],
      "metadata": {
        "colab": {
          "base_uri": "https://localhost:8080/"
        },
        "id": "8GdY3DYaAhtq",
        "outputId": "6d33dd0b-b419-4dba-ad2a-c172321f394e"
      },
      "execution_count": 130,
      "outputs": [
        {
          "output_type": "stream",
          "name": "stdout",
          "text": [
            "[1, 2, 3, 3, 4, 5, 6, 6, 7, 7, 9]\n"
          ]
        }
      ]
    },
    {
      "cell_type": "code",
      "source": [
        "x  = ['kiwi','mango','orange','apple','cherry']\n",
        "x.sort()\n",
        "print(x)"
      ],
      "metadata": {
        "colab": {
          "base_uri": "https://localhost:8080/"
        },
        "id": "MVee07yIA-GN",
        "outputId": "0cb34f3a-4c7a-486d-e239-8956bf6bee62"
      },
      "execution_count": 131,
      "outputs": [
        {
          "output_type": "stream",
          "name": "stdout",
          "text": [
            "['apple', 'cherry', 'kiwi', 'mango', 'orange']\n"
          ]
        }
      ]
    },
    {
      "cell_type": "code",
      "source": [
        "y = [100,200,500,400,500,600,700,500,900,1000]\n",
        "y.sort()\n",
        "print(y)"
      ],
      "metadata": {
        "colab": {
          "base_uri": "https://localhost:8080/"
        },
        "id": "hlCG9kfYBDtC",
        "outputId": "7ceb3e1b-745a-4d10-c2f2-9e6914dc04ed"
      },
      "execution_count": 132,
      "outputs": [
        {
          "output_type": "stream",
          "name": "stdout",
          "text": [
            "[100, 200, 400, 500, 500, 500, 600, 700, 900, 1000]\n"
          ]
        }
      ]
    },
    {
      "cell_type": "code",
      "source": [
        "# reverse\n",
        "\n",
        "# reverses the order of elements in the list\n",
        "\n",
        "e = [1,2,3,4,5,6,7,8,9]\n",
        "e.reverse()\n",
        "print(e)\n"
      ],
      "metadata": {
        "colab": {
          "base_uri": "https://localhost:8080/"
        },
        "id": "5SyVVCPOBI43",
        "outputId": "ee2fd603-c9b6-44a2-87e4-1659379124ca"
      },
      "execution_count": 133,
      "outputs": [
        {
          "output_type": "stream",
          "name": "stdout",
          "text": [
            "[9, 8, 7, 6, 5, 4, 3, 2, 1]\n"
          ]
        }
      ]
    },
    {
      "cell_type": "code",
      "source": [
        "a = ['kiwi','mango','orange','apple','cherry']\n",
        "a.reverse()\n",
        "print(a)"
      ],
      "metadata": {
        "colab": {
          "base_uri": "https://localhost:8080/"
        },
        "id": "Xfk1YGHzBjmo",
        "outputId": "66bbfccb-771e-4421-9ac2-899e9cdd3239"
      },
      "execution_count": 134,
      "outputs": [
        {
          "output_type": "stream",
          "name": "stdout",
          "text": [
            "['cherry', 'apple', 'orange', 'mango', 'kiwi']\n"
          ]
        }
      ]
    },
    {
      "cell_type": "code",
      "source": [
        "# clear\n",
        "\n",
        "# removes all elements from the list, making it empty\n",
        "\n",
        "a = [1,2,3,4,5]\n",
        "a.clear()\n",
        "print(a)\n"
      ],
      "metadata": {
        "colab": {
          "base_uri": "https://localhost:8080/"
        },
        "id": "VeovyAgJCDy2",
        "outputId": "55edda26-cb92-4889-d05c-8e425bd6faef"
      },
      "execution_count": 137,
      "outputs": [
        {
          "output_type": "stream",
          "name": "stdout",
          "text": [
            "[]\n"
          ]
        }
      ]
    },
    {
      "cell_type": "code",
      "source": [
        "x = ['kiwi','mango','orange']\n",
        "x.clear()\n",
        "print(x)"
      ],
      "metadata": {
        "colab": {
          "base_uri": "https://localhost:8080/"
        },
        "id": "EKIaD21NDg4B",
        "outputId": "290481a1-6618-4cb0-8fe9-32f70ebafb4b"
      },
      "execution_count": 138,
      "outputs": [
        {
          "output_type": "stream",
          "name": "stdout",
          "text": [
            "[]\n"
          ]
        }
      ]
    }
  ]
}