{
  "nbformat": 4,
  "nbformat_minor": 0,
  "metadata": {
    "colab": {
      "provenance": []
    },
    "kernelspec": {
      "name": "python3",
      "display_name": "Python 3"
    },
    "language_info": {
      "name": "python"
    }
  },
  "cells": [
    {
      "cell_type": "code",
      "execution_count": null,
      "metadata": {
        "id": "vSzpAKevWQQE"
      },
      "outputs": [],
      "source": []
    },
    {
      "cell_type": "markdown",
      "source": [
        "Define the Oops and types of Oops ?\n",
        "\n",
        "Object-oriented programming (OOP) is a style of programming characterized by the identification of classes of objects closely linked with the methods (functions) with which they are associated.\n",
        "\n",
        "-  Types\n",
        "\n",
        "-    Inheritance.\n",
        "-   Encapsulation.\n",
        "-  Abstraction.\n",
        "-  Polymorphism.\n",
        "\n",
        "\n",
        "-   **INHERITANCE** :\n",
        "   Inheritance in Python is a mechanism that allows a class to inherit attributes and methods from another class."
      ],
      "metadata": {
        "id": "kpi-7QSWWvSh"
      }
    },
    {
      "cell_type": "markdown",
      "source": [
        "Create a Object\n",
        "- Now we can use the class named My class to create objects.\n",
        "\n",
        "-  Object is physical entity\n",
        "- we can create any no of object for class\n",
        "-  memory is allocated when we create object for class"
      ],
      "metadata": {
        "id": "VB67npx0cmO6"
      }
    },
    {
      "cell_type": "code",
      "source": [
        "class my class :\n",
        "  a = 7\n",
        "  b = 'hello'"
      ],
      "metadata": {
        "id": "f3x0_cPzeUy5"
      },
      "execution_count": null,
      "outputs": []
    },
    {
      "cell_type": "code",
      "source": [
        "class mobile:\n",
        "  def __init__(self,name,price):\n",
        "    self.name = name\n",
        "    self.price = price\n",
        "  def show(self):\n",
        "    print(self.name,self.price)\n",
        "\n",
        "mobile1=mobile('samsung',20000)\n",
        "print(mobile1)"
      ],
      "metadata": {
        "colab": {
          "base_uri": "https://localhost:8080/"
        },
        "id": "iTLa7tkyfkXz",
        "outputId": "f7e2cf42-98ac-407b-8aa5-cf8e83e54d40"
      },
      "execution_count": 17,
      "outputs": [
        {
          "output_type": "stream",
          "name": "stdout",
          "text": [
            "<__main__.mobile object at 0x7fb223afe680>\n"
          ]
        }
      ]
    },
    {
      "cell_type": "code",
      "source": [
        "print(f'it is my mobile {mobile1.name} and this price is {mobile1.price}')"
      ],
      "metadata": {
        "colab": {
          "base_uri": "https://localhost:8080/"
        },
        "id": "ktp2oi1JjUPY",
        "outputId": "dfd307a7-0e3b-4e77-c71e-edd2acad5b1f"
      },
      "execution_count": 21,
      "outputs": [
        {
          "output_type": "stream",
          "name": "stdout",
          "text": [
            "it is my mobile samsung and this price is 20000\n"
          ]
        }
      ]
    },
    {
      "cell_type": "code",
      "source": [
        "class financial:\n",
        "  def __init__(self,name,salary):\n",
        "    self.name = name\n",
        "    self.salary = salary\n",
        "  def show(self):\n",
        "    financial1 = financial('sai',20000)\n",
        "\n",
        "print('financial1')\n",
        "print(f'my name is {financial1.name} and my salary is {financial1.salary}')\n"
      ],
      "metadata": {
        "colab": {
          "base_uri": "https://localhost:8080/"
        },
        "id": "ElS10xl4kAI9",
        "outputId": "183c6c68-a8c1-4c23-d3b6-5ca9ae9794f4"
      },
      "execution_count": 33,
      "outputs": [
        {
          "output_type": "stream",
          "name": "stdout",
          "text": [
            "financial1\n",
            "my name is sai and my salary is 20000\n"
          ]
        }
      ]
    },
    {
      "cell_type": "code",
      "source": [
        "class hospital:\n",
        "  def __init__(self,patientname,disease):\n",
        "    self.patientname = patientname\n",
        "    self.disease = disease\n",
        "  def show(self):\n",
        "    print(self.patientname,self.disease)\n",
        "\n",
        "hospital1 = hospital('raju','fever')\n",
        "print(f'my patient name is {hospital1.patientname} and my disease is {hospital1.disease}')"
      ],
      "metadata": {
        "colab": {
          "base_uri": "https://localhost:8080/"
        },
        "id": "3witou_nntRU",
        "outputId": "d7914c52-1032-4dcd-e3b7-e9ba618bc553"
      },
      "execution_count": 35,
      "outputs": [
        {
          "output_type": "stream",
          "name": "stdout",
          "text": [
            "my patient name is raju and my disease is fever\n"
          ]
        }
      ]
    },
    {
      "cell_type": "code",
      "source": [
        "class education:\n",
        "  def __init__(self,studentname,studentclass):\n",
        "    self.studentname = studentname\n",
        "    self.studentclass = studentclass\n",
        "  def show(self):\n",
        "    print(self.studentname,self.studentclass)\n",
        "\n",
        "education1 = education('atheesh','10th')\n",
        "print(f'my student name is {education1.studentname} and my class is {education1.studentclass}')"
      ],
      "metadata": {
        "colab": {
          "base_uri": "https://localhost:8080/"
        },
        "id": "9gXXoKGUo8bT",
        "outputId": "738a4625-a976-44b0-f029-691d7f02fe5d"
      },
      "execution_count": 36,
      "outputs": [
        {
          "output_type": "stream",
          "name": "stdout",
          "text": [
            "my student name is atheesh and my class is 10th\n"
          ]
        }
      ]
    },
    {
      "cell_type": "code",
      "source": [
        "class transport:\n",
        "  def __init__(bike,mt15,highway):\n",
        "    bike.mt15 = mt15\n",
        "    bike.highway = highway\n",
        "  def show(bike):\n",
        "    print(bike.mt15,bike.highway)\n",
        "\n",
        "rider = transport('mt15','highway')\n",
        "print(f'my bike is {rider.mt15} and iam riding only {rider.highway}')\n",
        "\n"
      ],
      "metadata": {
        "colab": {
          "base_uri": "https://localhost:8080/"
        },
        "id": "yUf1Xr_LpVM1",
        "outputId": "9688e715-ecdc-44b2-c942-cce129f1da34"
      },
      "execution_count": 41,
      "outputs": [
        {
          "output_type": "stream",
          "name": "stdout",
          "text": [
            "my bike is mt15 and iam riding only highway\n"
          ]
        }
      ]
    },
    {
      "cell_type": "code",
      "source": [],
      "metadata": {
        "id": "4xKSb1VHrqAG"
      },
      "execution_count": null,
      "outputs": []
    }
  ]
}