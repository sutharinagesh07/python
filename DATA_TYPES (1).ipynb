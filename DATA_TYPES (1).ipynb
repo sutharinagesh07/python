{
  "nbformat": 4,
  "nbformat_minor": 0,
  "metadata": {
    "colab": {
      "provenance": []
    },
    "kernelspec": {
      "name": "python3",
      "display_name": "Python 3"
    },
    "language_info": {
      "name": "python"
    }
  },
  "cells": [
    {
      "cell_type": "markdown",
      "source": [
        "**EXPLAIN ABOUT DATA TYPES**\n",
        "\n",
        "**EXPLAIN ABOUT INTEGERES WITH EXAMPLES**\n",
        "\n",
        "**EXPLAIN ABOUT FLOAT WITH EXAMPLES**\n",
        "\n",
        "**EXPLAIN ABOUT COMPLEX WITH EXAMPLES**\n",
        "\n",
        "**EXPLAIN BOOLEAN WITH 10 EXAMPLES**\n",
        "\n",
        "**BOOL FUNCTION WITH 10 EXAMPLES**\n",
        "\n",
        "**EXPLAIN CONVERSATION OR TYPE CASTING FOR EACH TYPE 5 EXAMPLES**\n",
        "\n",
        "\n"
      ],
      "metadata": {
        "id": "88zJUgfzpz4m"
      }
    },
    {
      "cell_type": "markdown",
      "source": [
        " 1 . **EXPLAIN ABOUT DATA TYPES**\n",
        "  \n",
        "\n",
        " -   We can say Python data types are collections of data items that help us classify or categorise data.\n",
        "  \n",
        " -   Lets see the datatype in python.\n",
        " -   integer, float, complex, boolean\n",
        " -   List, tuple, string , dictionary"
      ],
      "metadata": {
        "id": "AY5S5m1dsMwE"
      }
    },
    {
      "cell_type": "markdown",
      "source": [
        "# **EXPLAIN ABOUT INTEGERES WITH EXAMPLES**\n",
        "-  In Python, integers are classified into zero, positive, or negative whole numbers with no fractional part and infinite precision, such as 0, 100, -10, and so on."
      ],
      "metadata": {
        "id": "kd8vE1181aSs"
      }
    },
    {
      "cell_type": "code",
      "source": [
        "saikiran = 267\n",
        "print(saikiran)\n",
        "print(type(saikiran))"
      ],
      "metadata": {
        "colab": {
          "base_uri": "https://localhost:8080/"
        },
        "id": "VLD6u8Os2TJl",
        "outputId": "e9e0f69a-3f09-4a97-c4ef-9315a4395edf"
      },
      "execution_count": null,
      "outputs": [
        {
          "output_type": "stream",
          "name": "stdout",
          "text": [
            "267\n",
            "<class 'int'>\n"
          ]
        }
      ]
    },
    {
      "cell_type": "code",
      "source": [
        "raju = 23987654321\n",
        "print(raju)\n",
        "print(type(raju))"
      ],
      "metadata": {
        "colab": {
          "base_uri": "https://localhost:8080/"
        },
        "id": "DF2mF-3d3A9f",
        "outputId": "6df3cca3-3367-4668-e049-e363f47fd6f4"
      },
      "execution_count": null,
      "outputs": [
        {
          "output_type": "stream",
          "name": "stdout",
          "text": [
            "23987654321\n",
            "<class 'int'>\n"
          ]
        }
      ]
    },
    {
      "cell_type": "code",
      "source": [
        "atheesh = 55157890\n",
        "print(atheesh)\n",
        "print(type(atheesh))"
      ],
      "metadata": {
        "colab": {
          "base_uri": "https://localhost:8080/"
        },
        "id": "CdlH7Mw-3HEn",
        "outputId": "a53b583a-c236-4ad1-d05a-899b30e5473f"
      },
      "execution_count": null,
      "outputs": [
        {
          "output_type": "stream",
          "name": "stdout",
          "text": [
            "55157890\n",
            "<class 'int'>\n"
          ]
        }
      ]
    },
    {
      "cell_type": "code",
      "source": [
        "a = 15467890\n",
        "print(a)\n",
        "print(type(a))"
      ],
      "metadata": {
        "colab": {
          "base_uri": "https://localhost:8080/"
        },
        "id": "zG_LLtfx3SPS",
        "outputId": "1ed2ff1c-3392-4614-9fb0-d33fd8642f40"
      },
      "execution_count": null,
      "outputs": [
        {
          "output_type": "stream",
          "name": "stdout",
          "text": [
            "15467890\n",
            "<class 'int'>\n"
          ]
        }
      ]
    },
    {
      "cell_type": "code",
      "source": [
        "x = 1234567890\n",
        "print(x)\n",
        "print(type(x))"
      ],
      "metadata": {
        "colab": {
          "base_uri": "https://localhost:8080/"
        },
        "id": "dHT-VmZx3jjd",
        "outputId": "cc452418-3922-4ec1-97d6-fe17a00bc9c1"
      },
      "execution_count": null,
      "outputs": [
        {
          "output_type": "stream",
          "name": "stdout",
          "text": [
            "1234567890\n",
            "<class 'int'>\n"
          ]
        }
      ]
    },
    {
      "cell_type": "code",
      "source": [
        "z = 1234567890\n",
        "print(z)\n",
        "print(type(z))\n"
      ],
      "metadata": {
        "colab": {
          "base_uri": "https://localhost:8080/"
        },
        "id": "baDB1zof3oQJ",
        "outputId": "d04f7125-cbda-47e2-8a53-e1bb23ebc438"
      },
      "execution_count": null,
      "outputs": [
        {
          "output_type": "stream",
          "name": "stdout",
          "text": [
            "1234567890\n",
            "<class 'int'>\n"
          ]
        }
      ]
    },
    {
      "cell_type": "markdown",
      "source": [
        "# **EXPLAIN ABOUT FLOAT WITH EXAMPLES**\n",
        "-  Float is a function or reusable code in the Python programming language that converts values into floating point numbers.\n",
        "- Floating point numbers are decimal values or fractional numbers like 133.5, 2897.11, and 3571.213, whereas real numbers like 56, 2, and 33 are called integers."
      ],
      "metadata": {
        "id": "1UKJVkky36KJ"
      }
    },
    {
      "cell_type": "code",
      "source": [
        "lcuky = 12.45\n",
        "print(lcuky)\n",
        "print(type(lcuky))\n"
      ],
      "metadata": {
        "colab": {
          "base_uri": "https://localhost:8080/"
        },
        "id": "RY42jmub4NCQ",
        "outputId": "ea95e295-a2c1-49dd-e0c2-cea122954dda"
      },
      "execution_count": null,
      "outputs": [
        {
          "output_type": "stream",
          "name": "stdout",
          "text": [
            "12.45\n",
            "<class 'float'>\n"
          ]
        }
      ]
    },
    {
      "cell_type": "code",
      "source": [
        "saikiran = 1.354789\n",
        "print(saikiran)\n",
        "print(type(saikiran))"
      ],
      "metadata": {
        "colab": {
          "base_uri": "https://localhost:8080/"
        },
        "id": "cRPkTtUa4ame",
        "outputId": "571c8162-964b-4292-9661-bb57afc27d83"
      },
      "execution_count": null,
      "outputs": [
        {
          "output_type": "stream",
          "name": "stdout",
          "text": [
            "1.354789\n",
            "<class 'float'>\n"
          ]
        }
      ]
    },
    {
      "cell_type": "code",
      "source": [
        "x = 12.456789\n",
        "print(x)\n",
        "print(type(x))"
      ],
      "metadata": {
        "colab": {
          "base_uri": "https://localhost:8080/"
        },
        "id": "3ra5GL0z4hdi",
        "outputId": "ff9f994f-3ae4-4e26-fdb4-366a2eb97567"
      },
      "execution_count": null,
      "outputs": [
        {
          "output_type": "stream",
          "name": "stdout",
          "text": [
            "12.456789\n",
            "<class 'float'>\n"
          ]
        }
      ]
    },
    {
      "cell_type": "code",
      "source": [
        "a = 021.456789\n",
        "print(a)\n",
        "print(type(a))\n"
      ],
      "metadata": {
        "colab": {
          "base_uri": "https://localhost:8080/"
        },
        "id": "-aydU7SO4lkx",
        "outputId": "5568bbac-7f5a-4c2e-e1df-aff26ad188b7"
      },
      "execution_count": null,
      "outputs": [
        {
          "output_type": "stream",
          "name": "stdout",
          "text": [
            "21.456789\n",
            "<class 'float'>\n"
          ]
        }
      ]
    },
    {
      "cell_type": "code",
      "source": [
        "atheesh = 9.034612\n",
        "print(atheesh)\n",
        "print(type(atheesh))"
      ],
      "metadata": {
        "colab": {
          "base_uri": "https://localhost:8080/"
        },
        "id": "r2q-mlx84uVa",
        "outputId": "b7d3bebe-42b7-4cc4-a9c1-03850bb4f7df"
      },
      "execution_count": null,
      "outputs": [
        {
          "output_type": "stream",
          "name": "stdout",
          "text": [
            "9.034612\n",
            "<class 'float'>\n"
          ]
        }
      ]
    },
    {
      "cell_type": "code",
      "source": [
        "bhanu = 3.456789\n",
        "print(bhanu)\n",
        "print(type(bhanu))"
      ],
      "metadata": {
        "colab": {
          "base_uri": "https://localhost:8080/"
        },
        "id": "lbRfB_im44DR",
        "outputId": "cb386ee0-c982-42f7-b2ba-a1d557ccb80d"
      },
      "execution_count": null,
      "outputs": [
        {
          "output_type": "stream",
          "name": "stdout",
          "text": [
            "3.456789\n",
            "<class 'float'>\n"
          ]
        }
      ]
    },
    {
      "cell_type": "markdown",
      "source": [
        "# **EXPLAIN ABOUT COMPLEX WITH EXAMPLES**\n",
        "-  In Python, complex numbers are created from two real numbers using the complex\n",
        "-\n",
        "Syntax: complex([real[, imag]])\n",
        "-Parameters: real is the required input for the real part of the complex number, and imag is the optional input for the imaginary part\n",
        "-  \n",
        "Examples: z = complex(5, 7), z = complex(3), z = complex(), z = complex('1+1j'), z = complex(1, -4)\n"
      ],
      "metadata": {
        "id": "CvNJW-v05Dvc"
      }
    },
    {
      "cell_type": "code",
      "source": [
        " x = 3+5j\n",
        " print(x)\n",
        " print(type(x))"
      ],
      "metadata": {
        "colab": {
          "base_uri": "https://localhost:8080/"
        },
        "id": "5EmbF6ZE5Mc1",
        "outputId": "a800e5b8-8daf-472f-9190-073b63fea847"
      },
      "execution_count": null,
      "outputs": [
        {
          "output_type": "stream",
          "name": "stdout",
          "text": [
            "(3+5j)\n",
            "<class 'complex'>\n"
          ]
        }
      ]
    },
    {
      "cell_type": "code",
      "source": [
        "y = 2+5j\n",
        "print(y)\n",
        "print(type(y))"
      ],
      "metadata": {
        "colab": {
          "base_uri": "https://localhost:8080/"
        },
        "id": "ZtWkiJSE5RbI",
        "outputId": "1775bebc-9980-4239-854b-67d21aad7594"
      },
      "execution_count": null,
      "outputs": [
        {
          "output_type": "stream",
          "name": "stdout",
          "text": [
            "(2+5j)\n",
            "<class 'complex'>\n"
          ]
        }
      ]
    },
    {
      "cell_type": "code",
      "source": [
        "suresh = -2+6j\n",
        "print(suresh)\n",
        "print(type(suresh))"
      ],
      "metadata": {
        "colab": {
          "base_uri": "https://localhost:8080/"
        },
        "id": "NyzxIEKx5ado",
        "outputId": "6046bc00-273c-48e4-c0a6-016a41ce575c"
      },
      "execution_count": null,
      "outputs": [
        {
          "output_type": "stream",
          "name": "stdout",
          "text": [
            "(-2+6j)\n",
            "<class 'complex'>\n"
          ]
        }
      ]
    },
    {
      "cell_type": "code",
      "source": [
        " mahesh = 2+6j\n",
        " print(mahesh)\n",
        " print(type(mahesh))\n"
      ],
      "metadata": {
        "colab": {
          "base_uri": "https://localhost:8080/"
        },
        "id": "zLF39B8_5scZ",
        "outputId": "3a7b9b2d-bf13-44ef-b87e-4070eb330f74"
      },
      "execution_count": null,
      "outputs": [
        {
          "output_type": "stream",
          "name": "stdout",
          "text": [
            "(2+6j)\n",
            "<class 'complex'>\n"
          ]
        }
      ]
    },
    {
      "cell_type": "code",
      "source": [
        "b = 7+ 9j\n",
        "print(b)\n",
        "print(type(b))"
      ],
      "metadata": {
        "colab": {
          "base_uri": "https://localhost:8080/"
        },
        "id": "fp5G-5cg6Abe",
        "outputId": "c804c750-97e5-44a4-bf42-adf0a709cbf2"
      },
      "execution_count": null,
      "outputs": [
        {
          "output_type": "stream",
          "name": "stdout",
          "text": [
            "(7+9j)\n",
            "<class 'complex'>\n"
          ]
        }
      ]
    },
    {
      "cell_type": "markdown",
      "source": [
        "#  **EXPLAIN BOOLEAN WITH 10 EXAMPLES**\n",
        "-  In Python, a Boolean is a data type that can only have two values: True or False.\n",
        "-  the type for a Boolean value is bool. Numerically, True is equal to 1 and False is equal to 0.\n",
        "-  Boolean expressions : An expression that evaluates to a Boolean value. For example, the operator == tests if two values are equal and produces a Boolean value.\n",
        "\n",
        "-  Comparison operators : There are six common comparison operators that produce a Boolean result, including ==, !=, >, <, >=, and <=.\n"
      ],
      "metadata": {
        "id": "9UfiP8o8Ha9b"
      }
    },
    {
      "cell_type": "code",
      "source": [
        "bool (25)"
      ],
      "metadata": {
        "colab": {
          "base_uri": "https://localhost:8080/"
        },
        "id": "nklIPHgFJkDR",
        "outputId": "185af962-d004-4512-dcde-a263fed2b2a6"
      },
      "execution_count": 1,
      "outputs": [
        {
          "output_type": "execute_result",
          "data": {
            "text/plain": [
              "True"
            ]
          },
          "metadata": {},
          "execution_count": 1
        }
      ]
    },
    {
      "cell_type": "code",
      "source": [
        "bool (365.325)\n"
      ],
      "metadata": {
        "colab": {
          "base_uri": "https://localhost:8080/"
        },
        "id": "pokLYa-HMZ5i",
        "outputId": "02d5428e-0673-4ba6-81f9-10e360d4f329"
      },
      "execution_count": 2,
      "outputs": [
        {
          "output_type": "execute_result",
          "data": {
            "text/plain": [
              "True"
            ]
          },
          "metadata": {},
          "execution_count": 2
        }
      ]
    },
    {
      "cell_type": "code",
      "source": [
        "bool (0.0325)"
      ],
      "metadata": {
        "colab": {
          "base_uri": "https://localhost:8080/"
        },
        "id": "vJ4RHkq6MfZe",
        "outputId": "33ecedc8-f252-4ce0-8515-158901645d7b"
      },
      "execution_count": 3,
      "outputs": [
        {
          "output_type": "execute_result",
          "data": {
            "text/plain": [
              "True"
            ]
          },
          "metadata": {},
          "execution_count": 3
        }
      ]
    },
    {
      "cell_type": "code",
      "source": [
        "bool (0)"
      ],
      "metadata": {
        "colab": {
          "base_uri": "https://localhost:8080/"
        },
        "id": "p-QuVAfGMl8k",
        "outputId": "053c2677-a553-4e65-84c0-1bda04fd64ca"
      },
      "execution_count": 4,
      "outputs": [
        {
          "output_type": "execute_result",
          "data": {
            "text/plain": [
              "False"
            ]
          },
          "metadata": {},
          "execution_count": 4
        }
      ]
    },
    {
      "cell_type": "code",
      "source": [
        "bool (-26)"
      ],
      "metadata": {
        "colab": {
          "base_uri": "https://localhost:8080/"
        },
        "id": "qTCtXWWeMqBo",
        "outputId": "b9d95bdc-17d6-47b7-ea18-e0c530c5a2f3"
      },
      "execution_count": 5,
      "outputs": [
        {
          "output_type": "execute_result",
          "data": {
            "text/plain": [
              "True"
            ]
          },
          "metadata": {},
          "execution_count": 5
        }
      ]
    },
    {
      "cell_type": "code",
      "source": [
        "bool (9+7j)"
      ],
      "metadata": {
        "colab": {
          "base_uri": "https://localhost:8080/"
        },
        "id": "eURcgOWQNOsw",
        "outputId": "f930849d-b9ec-4a61-a651-1fb1a2a30eb3"
      },
      "execution_count": 6,
      "outputs": [
        {
          "output_type": "execute_result",
          "data": {
            "text/plain": [
              "True"
            ]
          },
          "metadata": {},
          "execution_count": 6
        }
      ]
    },
    {
      "cell_type": "code",
      "source": [
        "bool (0+0j)"
      ],
      "metadata": {
        "colab": {
          "base_uri": "https://localhost:8080/"
        },
        "id": "LVAncZ8PNUvV",
        "outputId": "8fa6b5b9-c334-4c4d-80a4-c1cb5e536f7a"
      },
      "execution_count": 7,
      "outputs": [
        {
          "output_type": "execute_result",
          "data": {
            "text/plain": [
              "False"
            ]
          },
          "metadata": {},
          "execution_count": 7
        }
      ]
    },
    {
      "cell_type": "code",
      "source": [
        " x = 654\n",
        " y = 458\n",
        " bool (x>y)"
      ],
      "metadata": {
        "colab": {
          "base_uri": "https://localhost:8080/"
        },
        "id": "DzNF-i95N1uO",
        "outputId": "dc88d0ec-a8e4-4c09-8927-8c3904de0916"
      },
      "execution_count": 8,
      "outputs": [
        {
          "output_type": "execute_result",
          "data": {
            "text/plain": [
              "True"
            ]
          },
          "metadata": {},
          "execution_count": 8
        }
      ]
    },
    {
      "cell_type": "code",
      "source": [
        "a = 36+7j\n",
        "b = 36+6j\n",
        "bool (a==b)"
      ],
      "metadata": {
        "colab": {
          "base_uri": "https://localhost:8080/"
        },
        "id": "H7Qo8orMN90r",
        "outputId": "6ef3cfa0-4d88-45ac-b857-f005aa4231af"
      },
      "execution_count": 13,
      "outputs": [
        {
          "output_type": "execute_result",
          "data": {
            "text/plain": [
              "False"
            ]
          },
          "metadata": {},
          "execution_count": 13
        }
      ]
    },
    {
      "cell_type": "code",
      "source": [
        "a = 2364.059\n",
        "b = 239+4536.98j\n",
        "bool (a==b)"
      ],
      "metadata": {
        "colab": {
          "base_uri": "https://localhost:8080/"
        },
        "id": "Z13lUIBmPgxe",
        "outputId": "5d32a061-dfb8-431b-a959-910d421b769a"
      },
      "execution_count": 18,
      "outputs": [
        {
          "output_type": "execute_result",
          "data": {
            "text/plain": [
              "False"
            ]
          },
          "metadata": {},
          "execution_count": 18
        }
      ]
    },
    {
      "cell_type": "markdown",
      "source": [
        "**EXPLAIN CONVERSATION OR TYPE CASTING FOR EACH TYPE 5 EXAMPLES**\n",
        "\n",
        " -  Whereas in type conversion, a data type is converted into another data type by a compiler.\n",
        " - Whereas in type conversion, there is no need for a casting operator.\n",
        " - In type casting, a data type is converted into another data type by a programmer using casting operator.\n",
        " -  Type casting can be applied to compatible data types as well as incompatible data types.\n"
      ],
      "metadata": {
        "id": "0oH0NRAiSKw3"
      }
    },
    {
      "cell_type": "code",
      "source": [
        " f = 7\n",
        " h =float (f)\n",
        " print(h)"
      ],
      "metadata": {
        "colab": {
          "base_uri": "https://localhost:8080/"
        },
        "id": "Tb6HHwORRrmK",
        "outputId": "d4232de6-9b77-4693-8bfa-188f0bfdbaf8"
      },
      "execution_count": 24,
      "outputs": [
        {
          "output_type": "stream",
          "name": "stdout",
          "text": [
            "7.0\n"
          ]
        }
      ]
    },
    {
      "cell_type": "code",
      "source": [
        "# convert float into int\n",
        "x = 23.56\n",
        "y = int(x)\n",
        "print(y)"
      ],
      "metadata": {
        "colab": {
          "base_uri": "https://localhost:8080/"
        },
        "id": "loNzJahJWQ1_",
        "outputId": "6b8fc781-c3c2-4357-dc9b-56105f23e19a"
      },
      "execution_count": 25,
      "outputs": [
        {
          "output_type": "stream",
          "name": "stdout",
          "text": [
            "23\n"
          ]
        }
      ]
    },
    {
      "cell_type": "code",
      "source": [
        "a = 12.039\n",
        "b = int(a)\n",
        "print(b)"
      ],
      "metadata": {
        "colab": {
          "base_uri": "https://localhost:8080/"
        },
        "id": "v1NEWzm1XBzG",
        "outputId": "c3445bf4-13b8-4d6b-b0bb-12be09ec0a65"
      },
      "execution_count": 26,
      "outputs": [
        {
          "output_type": "stream",
          "name": "stdout",
          "text": [
            "12\n"
          ]
        }
      ]
    },
    {
      "cell_type": "code",
      "source": [
        "abc = 3.3698\n",
        "xyz = int(abc)\n",
        "print(xyz)"
      ],
      "metadata": {
        "colab": {
          "base_uri": "https://localhost:8080/"
        },
        "id": "qXtEybZcXPHt",
        "outputId": "a3e37c42-da8f-47e4-fa81-e7fad4622cb0"
      },
      "execution_count": 27,
      "outputs": [
        {
          "output_type": "stream",
          "name": "stdout",
          "text": [
            "3\n"
          ]
        }
      ]
    },
    {
      "cell_type": "code",
      "source": [
        "gri = 636.039\n",
        "jhi = int(gri)\n",
        "print(jhi)"
      ],
      "metadata": {
        "colab": {
          "base_uri": "https://localhost:8080/"
        },
        "id": "YTSvJqVFXZDA",
        "outputId": "c6cbde07-7368-4b81-e6b6-330c5ae7c43a"
      },
      "execution_count": 28,
      "outputs": [
        {
          "output_type": "stream",
          "name": "stdout",
          "text": [
            "636\n"
          ]
        }
      ]
    },
    {
      "cell_type": "code",
      "source": [
        "skj = 93.336\n",
        "kfg = int(skj)\n",
        "print(kfg)"
      ],
      "metadata": {
        "colab": {
          "base_uri": "https://localhost:8080/"
        },
        "id": "G_KmOSVbXizb",
        "outputId": "776bc52d-2096-4d62-cf62-998706ad1072"
      },
      "execution_count": 29,
      "outputs": [
        {
          "output_type": "stream",
          "name": "stdout",
          "text": [
            "93\n"
          ]
        }
      ]
    },
    {
      "cell_type": "code",
      "source": [
        " # convert int into float\n",
        "\n",
        "a = 23\n",
        "b = float(a)\n",
        "print(b)\n",
        "type (a)\n"
      ],
      "metadata": {
        "colab": {
          "base_uri": "https://localhost:8080/"
        },
        "id": "AxRfj7ZZZsmk",
        "outputId": "1988aceb-5b4d-44d6-a9a8-bd3a46c1392d"
      },
      "execution_count": 1,
      "outputs": [
        {
          "output_type": "stream",
          "name": "stdout",
          "text": [
            "23.0\n"
          ]
        },
        {
          "output_type": "execute_result",
          "data": {
            "text/plain": [
              "int"
            ]
          },
          "metadata": {},
          "execution_count": 1
        }
      ]
    },
    {
      "cell_type": "code",
      "source": [
        " x = 969\n",
        " y = float (x)\n",
        " print (y)\n",
        " type (x)"
      ],
      "metadata": {
        "colab": {
          "base_uri": "https://localhost:8080/"
        },
        "id": "Wjn7cHoibffm",
        "outputId": "de341a06-2183-4cb0-c166-6bfeafbbb7c1"
      },
      "execution_count": 2,
      "outputs": [
        {
          "output_type": "stream",
          "name": "stdout",
          "text": [
            "969.0\n"
          ]
        },
        {
          "output_type": "execute_result",
          "data": {
            "text/plain": [
              "int"
            ]
          },
          "metadata": {},
          "execution_count": 2
        }
      ]
    },
    {
      "cell_type": "code",
      "source": [
        "res = 250\n",
        "res1 = float (res)\n",
        "print (res1)\n",
        "type (res)"
      ],
      "metadata": {
        "colab": {
          "base_uri": "https://localhost:8080/"
        },
        "id": "0BFTYBMkbyzm",
        "outputId": "197664f4-d189-4970-c8cc-a12735d7f98e"
      },
      "execution_count": 5,
      "outputs": [
        {
          "output_type": "stream",
          "name": "stdout",
          "text": [
            "250.0\n"
          ]
        },
        {
          "output_type": "execute_result",
          "data": {
            "text/plain": [
              "int"
            ]
          },
          "metadata": {},
          "execution_count": 5
        }
      ]
    },
    {
      "cell_type": "code",
      "source": [
        " # convert float into int\n",
        " a  = 6.33\n",
        " b = int (a)\n",
        " print (b)\n",
        " type (a)\n",
        ""
      ],
      "metadata": {
        "colab": {
          "base_uri": "https://localhost:8080/"
        },
        "id": "bEIeYdYUcWIp",
        "outputId": "2c09f296-fcad-4f09-9ec7-8ee3b701089e"
      },
      "execution_count": 11,
      "outputs": [
        {
          "output_type": "stream",
          "name": "stdout",
          "text": [
            "6\n"
          ]
        },
        {
          "output_type": "execute_result",
          "data": {
            "text/plain": [
              "float"
            ]
          },
          "metadata": {},
          "execution_count": 11
        }
      ]
    },
    {
      "cell_type": "code",
      "source": [
        "x = 698.39\n",
        "y = int (x)\n",
        "print (y)\n",
        "type (x)"
      ],
      "metadata": {
        "colab": {
          "base_uri": "https://localhost:8080/"
        },
        "id": "msbPW_Fvd1lj",
        "outputId": "6e16e785-072e-48be-c925-775b50439b6f"
      },
      "execution_count": 12,
      "outputs": [
        {
          "output_type": "stream",
          "name": "stdout",
          "text": [
            "698\n"
          ]
        },
        {
          "output_type": "execute_result",
          "data": {
            "text/plain": [
              "float"
            ]
          },
          "metadata": {},
          "execution_count": 12
        }
      ]
    },
    {
      "cell_type": "code",
      "source": [
        "jkf = 98.365\n",
        "fgh = int (jkf)\n",
        "print (fgh)\n",
        "type (jkf)"
      ],
      "metadata": {
        "colab": {
          "base_uri": "https://localhost:8080/"
        },
        "id": "_ocFKfBBefiE",
        "outputId": "5a8fa3e9-ddc6-42f2-98a3-7c5cb64e5583"
      },
      "execution_count": 13,
      "outputs": [
        {
          "output_type": "stream",
          "name": "stdout",
          "text": [
            "98\n"
          ]
        },
        {
          "output_type": "execute_result",
          "data": {
            "text/plain": [
              "float"
            ]
          },
          "metadata": {},
          "execution_count": 13
        }
      ]
    },
    {
      "cell_type": "code",
      "source": [
        " # convert int and flot into complex\n",
        " a = 23\n",
        " b = complex (a)\n",
        " print (b)\n",
        " type (a)"
      ],
      "metadata": {
        "colab": {
          "base_uri": "https://localhost:8080/"
        },
        "id": "Elc66Un7hLdI",
        "outputId": "cb124fef-d7af-443d-9909-8f13aa4cb477"
      },
      "execution_count": 25,
      "outputs": [
        {
          "output_type": "stream",
          "name": "stdout",
          "text": [
            "(23+0j)\n"
          ]
        },
        {
          "output_type": "execute_result",
          "data": {
            "text/plain": [
              "int"
            ]
          },
          "metadata": {},
          "execution_count": 25
        }
      ]
    },
    {
      "cell_type": "code",
      "source": [
        "x = 6936\n",
        "y = complex (x)\n",
        "print (y)\n",
        "type (x)\n"
      ],
      "metadata": {
        "colab": {
          "base_uri": "https://localhost:8080/"
        },
        "id": "oOCP9axpiouH",
        "outputId": "8549abd1-4b17-447d-d220-e29f46033182"
      },
      "execution_count": 26,
      "outputs": [
        {
          "output_type": "stream",
          "name": "stdout",
          "text": [
            "(6936+0j)\n"
          ]
        },
        {
          "output_type": "execute_result",
          "data": {
            "text/plain": [
              "int"
            ]
          },
          "metadata": {},
          "execution_count": 26
        }
      ]
    },
    {
      "cell_type": "code",
      "source": [
        "erp = 339.36\n",
        "ser = complex (erp)\n",
        "print (ser)\n",
        "type (erp)"
      ],
      "metadata": {
        "colab": {
          "base_uri": "https://localhost:8080/"
        },
        "id": "-nDjkhZHix92",
        "outputId": "30fe0b1d-b4d8-484a-a938-d6d4c8c60d18"
      },
      "execution_count": 27,
      "outputs": [
        {
          "output_type": "stream",
          "name": "stdout",
          "text": [
            "(339.36+0j)\n"
          ]
        },
        {
          "output_type": "execute_result",
          "data": {
            "text/plain": [
              "float"
            ]
          },
          "metadata": {},
          "execution_count": 27
        }
      ]
    },
    {
      "cell_type": "code",
      "source": [
        "ska = 2.36\n",
        "prk = complex (ska)\n",
        "print (prk)\n",
        "type (ska)\n",
        "\n"
      ],
      "metadata": {
        "colab": {
          "base_uri": "https://localhost:8080/"
        },
        "id": "X-vU_L7Ji6qO",
        "outputId": "a78575a1-94f1-49e2-c7c1-58ff48c10e53"
      },
      "execution_count": 28,
      "outputs": [
        {
          "output_type": "stream",
          "name": "stdout",
          "text": [
            "(2.36+0j)\n"
          ]
        },
        {
          "output_type": "execute_result",
          "data": {
            "text/plain": [
              "float"
            ]
          },
          "metadata": {},
          "execution_count": 28
        }
      ]
    }
  ]
}