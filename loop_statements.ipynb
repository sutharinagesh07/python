{
  "nbformat": 4,
  "nbformat_minor": 0,
  "metadata": {
    "colab": {
      "provenance": []
    },
    "kernelspec": {
      "name": "python3",
      "display_name": "Python 3"
    },
    "language_info": {
      "name": "python"
    }
  },
  "cells": [
    {
      "cell_type": "code",
      "execution_count": null,
      "metadata": {
        "id": "Sez-vMa7WLut"
      },
      "outputs": [],
      "source": [
        "# python while loop\n",
        "# Python For Loop ( list,tuple,dictionary,string)\n",
        "# 1q write a python programme to check given year is a leap year are not\n",
        "# 2q write a python prpgram to find a given number is even or odd\n",
        "# 3q write a python program to check if a list is empty or not\n",
        "# 4q write a python code to calculate grade of a students\n",
        "# 5q  check wheather given word ia s polindrome or not\n",
        "# 6q  write a python program to find the smallest among three numbers\n",
        "# 7q  find the second largest number in a list\n",
        "# 8q calculate BMI and categorize it under weight normal weight lower weight\n",
        "# 9q write a python program to check vote eligiblity program\n",
        "# 10q to find the belongs to which type of group\n",
        "# group school less than 22\n",
        "# work group greater than 22 and lessthan 50\n",
        "# retire group greater than 50"
      ]
    },
    {
      "cell_type": "markdown",
      "source": [
        "**Python While Loop**\n",
        "-  python while loop is used to run a block code until a certain condition is meet the system of whiile loop."
      ],
      "metadata": {
        "id": "_TWzsE0mXlPI"
      }
    },
    {
      "cell_type": "code",
      "source": [
        "# example\n",
        "a = 10\n",
        "a <= 50\n",
        "print (a)\n",
        "a = a + 5\n",
        "print (a)"
      ],
      "metadata": {
        "colab": {
          "base_uri": "https://localhost:8080/"
        },
        "id": "8u521ZcnaUK_",
        "outputId": "d4cdf74e-9b59-4e05-805b-ae685d712d53"
      },
      "execution_count": null,
      "outputs": [
        {
          "output_type": "stream",
          "name": "stdout",
          "text": [
            "10\n",
            "15\n"
          ]
        }
      ]
    },
    {
      "cell_type": "markdown",
      "source": [
        "**Python For Loop**\n",
        "-  The for loop is used for iterating over a sequence.(that is either a list,tuple,dictionary,string,or range).\n",
        "- the syntax of a for loop is:\n",
        "- for val in sequence # statements."
      ],
      "metadata": {
        "id": "7mJESx09c-Lc"
      }
    },
    {
      "cell_type": "code",
      "source": [
        "# examples\n",
        "# string\n",
        "\n",
        "a = \"hello world\"\n",
        "for x in a:\n",
        "  print (x)"
      ],
      "metadata": {
        "colab": {
          "base_uri": "https://localhost:8080/"
        },
        "id": "RGdUr1hveWXd",
        "outputId": "f8cb92ef-8de9-4ebc-fce0-752668009ae6"
      },
      "execution_count": null,
      "outputs": [
        {
          "output_type": "stream",
          "name": "stdout",
          "text": [
            "h\n",
            "e\n",
            "l\n",
            "l\n",
            "o\n",
            " \n",
            "w\n",
            "o\n",
            "r\n",
            "l\n",
            "d\n"
          ]
        }
      ]
    },
    {
      "cell_type": "code",
      "source": [
        "# list\n",
        "a = [\"apple\",\"banana\",\"cherry\"]\n",
        "for x in a:\n",
        "  print (x)"
      ],
      "metadata": {
        "colab": {
          "base_uri": "https://localhost:8080/"
        },
        "id": "IxHRaSTde9ok",
        "outputId": "2e69d5de-5e54-4fa7-a829-5338d61cf3ec"
      },
      "execution_count": null,
      "outputs": [
        {
          "output_type": "stream",
          "name": "stdout",
          "text": [
            "apple\n",
            "banana\n",
            "cherry\n"
          ]
        }
      ]
    },
    {
      "cell_type": "code",
      "source": [
        "# tuple\n",
        "\n",
        "a = {\"hello\",\"world\",\"python\",\"programming\"}\n",
        "for x in a:\n",
        "  print (x)"
      ],
      "metadata": {
        "colab": {
          "base_uri": "https://localhost:8080/"
        },
        "id": "b5Ae1H-AfFmd",
        "outputId": "84055fdc-36fc-41f7-857c-3a499b4804ce"
      },
      "execution_count": null,
      "outputs": [
        {
          "output_type": "stream",
          "name": "stdout",
          "text": [
            "world\n",
            "hello\n",
            "python\n",
            "programming\n"
          ]
        }
      ]
    },
    {
      "cell_type": "code",
      "source": [
        "# dictionary\n",
        "\n",
        "dict = {\"name\":\"john\",\"age\":30,\"city\":\"new york\"}\n",
        "for x in dict:\n",
        "  print (x)"
      ],
      "metadata": {
        "colab": {
          "base_uri": "https://localhost:8080/"
        },
        "id": "2tn6CkyQfqWh",
        "outputId": "a5cd142a-bd43-4ce4-a858-22dbe920a2e8"
      },
      "execution_count": null,
      "outputs": [
        {
          "output_type": "stream",
          "name": "stdout",
          "text": [
            "name\n",
            "age\n",
            "city\n"
          ]
        }
      ]
    },
    {
      "cell_type": "code",
      "source": [
        "dict = {\"name\":\"john\",\"age\":30,\"city\":\"new york\"}\n",
        "for x in dict.values():\n",
        "  print (x)"
      ],
      "metadata": {
        "colab": {
          "base_uri": "https://localhost:8080/"
        },
        "id": "zXuzllkdf8x6",
        "outputId": "1e337e74-e86b-4809-e4ec-144f50385eeb"
      },
      "execution_count": null,
      "outputs": [
        {
          "output_type": "stream",
          "name": "stdout",
          "text": [
            "john\n",
            "30\n",
            "new york\n"
          ]
        }
      ]
    },
    {
      "cell_type": "code",
      "source": [
        "dict = {\"name\":\"john\",\"age\":30,\"city\":\"new york\"}\n",
        "for x,y in dict.items():\n",
        "  print (x,y)"
      ],
      "metadata": {
        "colab": {
          "base_uri": "https://localhost:8080/"
        },
        "id": "ZPWDIKOYgQzw",
        "outputId": "e3378fe1-b5ee-424f-c606-e5880df48c1e"
      },
      "execution_count": null,
      "outputs": [
        {
          "output_type": "stream",
          "name": "stdout",
          "text": [
            "name john\n",
            "age 30\n",
            "city new york\n"
          ]
        }
      ]
    },
    {
      "cell_type": "code",
      "source": [
        "dict = {\"name\":\"sai\",\"age\":27,\"city\":\"sdpt\"}\n",
        "\n",
        "for key, value in dict.items():\n",
        "\n",
        "  print(f\"key is {key} and value is {value}\")"
      ],
      "metadata": {
        "colab": {
          "base_uri": "https://localhost:8080/"
        },
        "id": "TMlSfFJ6geS6",
        "outputId": "81313592-3ff1-4704-8088-f1c790b83f30"
      },
      "execution_count": null,
      "outputs": [
        {
          "output_type": "stream",
          "name": "stdout",
          "text": [
            "key is name and value is sai\n",
            "key is age and value is 27\n",
            "key is city and value is sdpt\n"
          ]
        }
      ]
    },
    {
      "cell_type": "code",
      "source": [
        "# write a python programme to check for loop given year is a leap year are not\n",
        "\n",
        "numbers = [1997,1998,2002,2004,2009,2020,2023,2024]\n",
        "for x in numbers:\n",
        "  if x % 4 == 0:\n",
        "    print (f\"is a leap year\")\n",
        "  else:\n",
        "    print (f\"is not a leap year\")"
      ],
      "metadata": {
        "colab": {
          "base_uri": "https://localhost:8080/"
        },
        "id": "xIaYNtKLiSdJ",
        "outputId": "4b02a86a-7503-4967-b347-4e117b45f968"
      },
      "execution_count": null,
      "outputs": [
        {
          "output_type": "stream",
          "name": "stdout",
          "text": [
            "is not a leap year\n",
            "is not a leap year\n",
            "is not a leap year\n",
            "is a leap year\n",
            "is not a leap year\n",
            "is a leap year\n",
            "is not a leap year\n",
            "is a leap year\n"
          ]
        }
      ]
    },
    {
      "cell_type": "code",
      "source": [
        "# write a python prpgram to find for loop a given number is even or odd\n",
        "\n",
        "numbers = (1,2,3,4,5,6,7,8,9,10)\n",
        "for z in numbers:\n",
        "  if z % 2 == 0:\n",
        "    print (f\"is even\")\n",
        "  else:\n",
        "    print (f\"is odd\")"
      ],
      "metadata": {
        "colab": {
          "base_uri": "https://localhost:8080/"
        },
        "id": "lVVggdRylFCz",
        "outputId": "25313d6c-1692-438b-af6c-690b017da4ba"
      },
      "execution_count": null,
      "outputs": [
        {
          "output_type": "stream",
          "name": "stdout",
          "text": [
            "is odd\n",
            "is even\n",
            "is odd\n",
            "is even\n",
            "is odd\n",
            "is even\n",
            "is odd\n",
            "is even\n",
            "is odd\n",
            "is even\n"
          ]
        }
      ]
    },
    {
      "cell_type": "code",
      "source": [
        "# write a python program to check for loop if a list is empty or not\n",
        "\n",
        "a = [1,2]\n",
        "for x in a:\n",
        "  if not x:\n",
        "    print (\"is empty\")\n",
        "  else:\n",
        "    print (\"is not empty\")"
      ],
      "metadata": {
        "colab": {
          "base_uri": "https://localhost:8080/"
        },
        "id": "V0FVBYnfle-b",
        "outputId": "60cec6f9-b815-491a-9bb2-660b3df4ccab"
      },
      "execution_count": 5,
      "outputs": [
        {
          "output_type": "stream",
          "name": "stdout",
          "text": [
            "is not empty\n",
            "is not empty\n"
          ]
        }
      ]
    },
    {
      "cell_type": "code",
      "source": [
        "# write a python code to calculate grade of a students to check for loop\n",
        "\n",
        "x = int(input(\"enter the marks\"))\n",
        "for z in x :\n",
        "  if z >= 90:\n",
        "    print (\"A\")\n",
        "  elif z >= 80:\n",
        "    print (\"B\")\n",
        "  elif z >= 70:\n",
        "    print (\"C\")\n",
        "  elif z >= 60:\n",
        "    print (\"D\")\n",
        "  elif z >= 50:\n",
        "    print (\"E\")\n",
        "  else:\n",
        "    print (\"Fail\")"
      ],
      "metadata": {
        "colab": {
          "base_uri": "https://localhost:8080/",
          "height": 228
        },
        "id": "XRNl11PJn1Ks",
        "outputId": "45ca4605-560e-4ddb-bef4-e51953b40cbf"
      },
      "execution_count": 22,
      "outputs": [
        {
          "name": "stdout",
          "output_type": "stream",
          "text": [
            "enter the marks64\n"
          ]
        },
        {
          "output_type": "error",
          "ename": "TypeError",
          "evalue": "'int' object is not iterable",
          "traceback": [
            "\u001b[0;31m---------------------------------------------------------------------------\u001b[0m",
            "\u001b[0;31mTypeError\u001b[0m                                 Traceback (most recent call last)",
            "\u001b[0;32m<ipython-input-22-9029f223a783>\u001b[0m in \u001b[0;36m<cell line: 4>\u001b[0;34m()\u001b[0m\n\u001b[1;32m      2\u001b[0m \u001b[0;34m\u001b[0m\u001b[0m\n\u001b[1;32m      3\u001b[0m \u001b[0mx\u001b[0m \u001b[0;34m=\u001b[0m \u001b[0mint\u001b[0m\u001b[0;34m(\u001b[0m\u001b[0minput\u001b[0m\u001b[0;34m(\u001b[0m\u001b[0;34m\"enter the marks\"\u001b[0m\u001b[0;34m)\u001b[0m\u001b[0;34m)\u001b[0m\u001b[0;34m\u001b[0m\u001b[0;34m\u001b[0m\u001b[0m\n\u001b[0;32m----> 4\u001b[0;31m \u001b[0;32mfor\u001b[0m \u001b[0mz\u001b[0m \u001b[0;32min\u001b[0m \u001b[0mx\u001b[0m \u001b[0;34m:\u001b[0m\u001b[0;34m\u001b[0m\u001b[0;34m\u001b[0m\u001b[0m\n\u001b[0m\u001b[1;32m      5\u001b[0m   \u001b[0;32mif\u001b[0m \u001b[0mz\u001b[0m \u001b[0;34m>=\u001b[0m \u001b[0;36m90\u001b[0m\u001b[0;34m:\u001b[0m\u001b[0;34m\u001b[0m\u001b[0;34m\u001b[0m\u001b[0m\n\u001b[1;32m      6\u001b[0m     \u001b[0mprint\u001b[0m \u001b[0;34m(\u001b[0m\u001b[0;34m\"A\"\u001b[0m\u001b[0;34m)\u001b[0m\u001b[0;34m\u001b[0m\u001b[0;34m\u001b[0m\u001b[0m\n",
            "\u001b[0;31mTypeError\u001b[0m: 'int' object is not iterable"
          ]
        }
      ]
    },
    {
      "cell_type": "code",
      "source": [
        "# 5q  check wheather for loop given word ia s polindrome or not\n",
        "\n",
        "x = input(\"enter the word\")\n",
        "for a in x:\n",
        "  if x == x[::-1]:\n",
        "    print (\"is polindrome\")\n",
        "  else:\n",
        "    print (\"is not polindrome\")"
      ],
      "metadata": {
        "colab": {
          "base_uri": "https://localhost:8080/"
        },
        "id": "V7tPZPlb2rc1",
        "outputId": "6f70d62a-caaf-49ec-fb59-bd541265b30e"
      },
      "execution_count": 24,
      "outputs": [
        {
          "output_type": "stream",
          "name": "stdout",
          "text": [
            "enter the word python\n",
            "is not polindrome\n",
            "is not polindrome\n",
            "is not polindrome\n",
            "is not polindrome\n",
            "is not polindrome\n",
            "is not polindrome\n",
            "is not polindrome\n"
          ]
        }
      ]
    },
    {
      "cell_type": "code",
      "source": [
        "# 6q  write a python program to check the for loop the smallest among three numbers\n",
        "\n",
        "a = 56\n",
        "b = 45\n",
        "c = 34\n",
        "for x in a,b,c:\n",
        "  if a < b and a < c:\n",
        "    print (a)\n",
        "  elif b < a and b < c:\n",
        "    print (b)\n",
        "  else:\n",
        "    print (c)"
      ],
      "metadata": {
        "colab": {
          "base_uri": "https://localhost:8080/"
        },
        "id": "iGKoAWEE9qDf",
        "outputId": "a6c0ec11-62ec-4a42-804a-4b34a2392bcb"
      },
      "execution_count": null,
      "outputs": [
        {
          "output_type": "stream",
          "name": "stdout",
          "text": [
            "34\n",
            "34\n",
            "34\n"
          ]
        }
      ]
    },
    {
      "cell_type": "code",
      "source": [
        "# 7q  to check the for loop the second largest number in a list\n",
        "\n",
        "x =  [36,64,963,254,333]\n",
        "for zip in x:\n",
        "  x.sort()\n",
        "  print (x[-2])\n"
      ],
      "metadata": {
        "colab": {
          "base_uri": "https://localhost:8080/"
        },
        "id": "CIM12h9u-5cL",
        "outputId": "76679d93-f8b4-4532-f793-10cbb9d34f58"
      },
      "execution_count": 12,
      "outputs": [
        {
          "output_type": "stream",
          "name": "stdout",
          "text": [
            "333\n",
            "333\n",
            "333\n",
            "333\n",
            "333\n"
          ]
        }
      ]
    },
    {
      "cell_type": "code",
      "source": [
        "# 8q calculate BMI and categorize for loop it under weight normal weight lower weight\n",
        "\n",
        "y = float(input(\"enter the height\"))\n",
        "\n",
        "for z in x,y:\n",
        "  if x < 153.5:\n",
        "    print (\"under height\")\n",
        "  elif x > 153.5 and x < 185:\n",
        "    print (\"normal height\")\n",
        "  else:\n",
        "    print (\"over height\")\n",
        "\n",
        "\n",
        "\n"
      ],
      "metadata": {
        "colab": {
          "base_uri": "https://localhost:8080/"
        },
        "id": "WvhopGBYDYnP",
        "outputId": "8194f40d-34fd-4709-fe72-326f30af71ed"
      },
      "execution_count": null,
      "outputs": [
        {
          "output_type": "stream",
          "name": "stdout",
          "text": [
            "enter the height 171.5\n",
            "over height\n",
            "over height\n"
          ]
        }
      ]
    },
    {
      "cell_type": "code",
      "source": [
        "# 9q write a python program to check for loop vote eligiblity program\n",
        "\n",
        "x = [16,36,25,18,50]\n",
        "for z in x:\n",
        "  if z >= 18:\n",
        "    print (\"eligible for vote\")\n",
        "  else:\n",
        "    print (\"not eligible for vote\")"
      ],
      "metadata": {
        "colab": {
          "base_uri": "https://localhost:8080/"
        },
        "id": "z4f4jzg3E0sP",
        "outputId": "3f4264bb-f4b4-4662-ea82-3c160feaeb89"
      },
      "execution_count": null,
      "outputs": [
        {
          "output_type": "stream",
          "name": "stdout",
          "text": [
            "not eligible for vote\n",
            "eligible for vote\n",
            "eligible for vote\n",
            "eligible for vote\n",
            "eligible for vote\n"
          ]
        }
      ]
    },
    {
      "cell_type": "code",
      "source": [
        "# 10q to find the for loop belongs to which type of group\n",
        "# group school less than 22\n",
        "# work group greater than 22 and lessthan 50\n",
        "# retire group greater than 50\n",
        "\n",
        "\n",
        "age = int(input(\"enter your age\"))\n",
        "for x in range (1):\n",
        "  if x < 22:\n",
        "    print (\"school\")\n",
        "  elif x > 22 and x < 50:\n",
        "    print (\"work\")\n",
        "  else:\n",
        "    print (\"retire\")"
      ],
      "metadata": {
        "colab": {
          "base_uri": "https://localhost:8080/"
        },
        "id": "ZsEOiEATIvDo",
        "outputId": "def5184c-63b3-480d-8203-5c59f0136e31"
      },
      "execution_count": 20,
      "outputs": [
        {
          "output_type": "stream",
          "name": "stdout",
          "text": [
            "enter your age25\n",
            "school\n"
          ]
        }
      ]
    },
    {
      "cell_type": "code",
      "source": [],
      "metadata": {
        "id": "-nmEiC7QzUDU"
      },
      "execution_count": null,
      "outputs": []
    }
  ]
}