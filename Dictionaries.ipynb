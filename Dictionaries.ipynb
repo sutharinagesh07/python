{
  "nbformat": 4,
  "nbformat_minor": 0,
  "metadata": {
    "colab": {
      "provenance": []
    },
    "kernelspec": {
      "name": "python3",
      "display_name": "Python 3"
    },
    "language_info": {
      "name": "python"
    }
  },
  "cells": [
    {
      "cell_type": "code",
      "execution_count": null,
      "metadata": {
        "id": "ngpOJyo4S-ej"
      },
      "outputs": [],
      "source": [
        "# Define the dictonary\n",
        "# create a dictonary with 5 examples\n",
        "# modify and adding 5 dictonaries and with 5 examples\n",
        "# dictonary methods"
      ]
    },
    {
      "cell_type": "markdown",
      "source": [
        "# **Define the dictonary**\n",
        "-  A Python dictionary is a data structure that allows us to easily write very efficient code.\n",
        "-   In many other languages, this data structure is called a hash table because its keys are hashable.\n",
        "-   We'll understand in a bit what this means. A Python dictionary is a collection of key:value pairs."
      ],
      "metadata": {
        "id": "8cjNXFwgUS6f"
      }
    },
    {
      "cell_type": "code",
      "source": [
        "# create a dictonary with 5 examples\n",
        "aa = {'name': 'karthik','age': 27,'grade': 'A'}\n",
        "print(aa)"
      ],
      "metadata": {
        "colab": {
          "base_uri": "https://localhost:8080/"
        },
        "id": "grPYsfZhX2D_",
        "outputId": "9260f5a4-c7b5-4822-97f4-75b7f188c773"
      },
      "execution_count": 2,
      "outputs": [
        {
          "output_type": "stream",
          "name": "stdout",
          "text": [
            "{'name': 'karthik', 'age': 27, 'grade': 'A'}\n"
          ]
        }
      ]
    },
    {
      "cell_type": "code",
      "source": [
        "x = {'name': 'sai','age': 27, 'grade' : 'A'}\n",
        "print(x)"
      ],
      "metadata": {
        "colab": {
          "base_uri": "https://localhost:8080/"
        },
        "id": "OrjkP7nxYtao",
        "outputId": "1c22cd2e-b665-4d46-abe8-df818dfa43f6"
      },
      "execution_count": 1,
      "outputs": [
        {
          "output_type": "stream",
          "name": "stdout",
          "text": [
            "{'name': 'sai', 'age': 27, 'grade': 'A'}\n"
          ]
        }
      ]
    },
    {
      "cell_type": "code",
      "source": [
        "s = {'name': 'atheesh','age': '27', 'grade': 'A'}\n",
        "print(s)"
      ],
      "metadata": {
        "colab": {
          "base_uri": "https://localhost:8080/"
        },
        "id": "jeIlrhIpbCUW",
        "outputId": "cacd3f3f-1c36-4e57-a58a-bf6e9192c614"
      },
      "execution_count": 4,
      "outputs": [
        {
          "output_type": "stream",
          "name": "stdout",
          "text": [
            "{'name': 'atheesh', 'age': '27', 'grade': 'A'}\n"
          ]
        }
      ]
    },
    {
      "cell_type": "code",
      "source": [
        "q = {'mango' : '25','quanrity' : '10'}\n",
        "print(q)"
      ],
      "metadata": {
        "colab": {
          "base_uri": "https://localhost:8080/"
        },
        "id": "zkWUMwsf-MqM",
        "outputId": "542ce041-1bf0-40f2-cbd9-0aba754b92ac"
      },
      "execution_count": 5,
      "outputs": [
        {
          "output_type": "stream",
          "name": "stdout",
          "text": [
            "{'mango': '25', 'quanrity': '10'}\n"
          ]
        }
      ]
    },
    {
      "cell_type": "markdown",
      "source": [
        "# **3.modify the dictionaries**"
      ],
      "metadata": {
        "id": "zQAvCS7m-_0s"
      }
    },
    {
      "cell_type": "code",
      "source": [
        "x = {'name': 'sai','age': 27, 'grade' : 'A'}\n",
        "x['name'] = 'karthik'\n",
        "print(x)"
      ],
      "metadata": {
        "colab": {
          "base_uri": "https://localhost:8080/"
        },
        "id": "Xscr12S3_JKI",
        "outputId": "cda28865-5e03-4dae-909c-6f9fc0178ad4"
      },
      "execution_count": 6,
      "outputs": [
        {
          "output_type": "stream",
          "name": "stdout",
          "text": [
            "{'name': 'karthik', 'age': 27, 'grade': 'A'}\n"
          ]
        }
      ]
    },
    {
      "cell_type": "code",
      "source": [
        "a = {'name': 'karthik','age': 27,'grade': 'A'}\n",
        "a['grade'] = 'B'\n",
        "print(a)"
      ],
      "metadata": {
        "colab": {
          "base_uri": "https://localhost:8080/"
        },
        "id": "0MytZ_sh_Pvt",
        "outputId": "afb9a04a-8e84-4c55-e317-9f1f87eabe23"
      },
      "execution_count": 7,
      "outputs": [
        {
          "output_type": "stream",
          "name": "stdout",
          "text": [
            "{'name': 'karthik', 'age': 27, 'grade': 'B'}\n"
          ]
        }
      ]
    },
    {
      "cell_type": "code",
      "source": [
        "z = {'apples': '120','quantity': '5'}\n",
        "z['apples'] = '150'\n",
        "print(z)\n"
      ],
      "metadata": {
        "colab": {
          "base_uri": "https://localhost:8080/"
        },
        "id": "dkspCOjp_U3-",
        "outputId": "7e12303d-42a9-46b7-b40d-8643a5abb7ab"
      },
      "execution_count": 10,
      "outputs": [
        {
          "output_type": "stream",
          "name": "stdout",
          "text": [
            "{'apples': '150', 'quantity': '5'}\n"
          ]
        }
      ]
    },
    {
      "cell_type": "code",
      "source": [
        "m = {'dell' : '45000','qunatity' : '2'}\n",
        "m['dell'] = '50000'\n",
        "print(m)"
      ],
      "metadata": {
        "colab": {
          "base_uri": "https://localhost:8080/"
        },
        "id": "NwiuATptANNb",
        "outputId": "38f2a342-4257-4033-de19-9c267a7c0734"
      },
      "execution_count": 11,
      "outputs": [
        {
          "output_type": "stream",
          "name": "stdout",
          "text": [
            "{'dell': '50000', 'qunatity': '2'}\n"
          ]
        }
      ]
    },
    {
      "cell_type": "code",
      "source": [
        "k = {'name': 'deva','age': 26,'grade': 'A'}\n",
        "k['age'] = '27'\n",
        "print(k)"
      ],
      "metadata": {
        "colab": {
          "base_uri": "https://localhost:8080/"
        },
        "id": "y2h09iVNAPc7",
        "outputId": "9071cd84-68fe-4f16-af43-f0c74fbe187d"
      },
      "execution_count": 12,
      "outputs": [
        {
          "output_type": "stream",
          "name": "stdout",
          "text": [
            "{'name': 'deva', 'age': '27', 'grade': 'A'}\n"
          ]
        }
      ]
    },
    {
      "cell_type": "markdown",
      "source": [
        "# **4. adding with examples**"
      ],
      "metadata": {
        "id": "_NgTXOyjBc44"
      }
    },
    {
      "cell_type": "code",
      "source": [
        "x = {'name': 'sai','age': 27, 'grade' : 'A','location':'siddipet'}\n",
        "x['school'] = 'zphs'\n",
        "print(x)"
      ],
      "metadata": {
        "colab": {
          "base_uri": "https://localhost:8080/"
        },
        "id": "0jyawMifBrST",
        "outputId": "4ec36b1d-c903-4685-d70e-e48772039c69"
      },
      "execution_count": 13,
      "outputs": [
        {
          "output_type": "stream",
          "name": "stdout",
          "text": [
            "{'name': 'sai', 'age': 27, 'grade': 'A', 'location': 'siddipet', 'school': 'zphs'}\n"
          ]
        }
      ]
    },
    {
      "cell_type": "code",
      "source": [
        "z = {'name': 'apples','qunatity': '5'}\n",
        "z['cost'] = '150'\n",
        "print(z)"
      ],
      "metadata": {
        "colab": {
          "base_uri": "https://localhost:8080/"
        },
        "id": "HBdlDOBmCSIH",
        "outputId": "f54739e6-f7ac-49fc-c3a0-9d422b7d9af9"
      },
      "execution_count": 14,
      "outputs": [
        {
          "output_type": "stream",
          "name": "stdout",
          "text": [
            "{'name': 'apples', 'qunatity': '5', 'cost': '150'}\n"
          ]
        }
      ]
    },
    {
      "cell_type": "code",
      "source": [
        "c = {'name': 'apples','qunatity': '5'}\n",
        "c['mangoes'] = '4'\n",
        "print(c)"
      ],
      "metadata": {
        "colab": {
          "base_uri": "https://localhost:8080/"
        },
        "id": "3t3wKbVBCsW4",
        "outputId": "85acb808-7b34-4247-e8c9-02d24769e384"
      },
      "execution_count": 16,
      "outputs": [
        {
          "output_type": "stream",
          "name": "stdout",
          "text": [
            "{'name': 'apples', 'qunatity': '5', 'mangoes': '4'}\n"
          ]
        }
      ]
    },
    {
      "cell_type": "code",
      "source": [
        "p = {'name': 'pawankalyan','age': '57'}\n",
        "p['party'] = 'janasena'\n",
        "print(p)"
      ],
      "metadata": {
        "colab": {
          "base_uri": "https://localhost:8080/"
        },
        "id": "Hwyh3LucDG38",
        "outputId": "09c37fe5-02be-44f4-9223-a045bc956dc5"
      },
      "execution_count": 17,
      "outputs": [
        {
          "output_type": "stream",
          "name": "stdout",
          "text": [
            "{'name': 'pawankalyan', 'age': '57', 'party': 'janasena'}\n"
          ]
        }
      ]
    },
    {
      "cell_type": "code",
      "source": [
        "q = {'name': 'dhoni','ipl fifties':'24'}\n",
        "q['matches'] = '264'\n",
        "print(q)"
      ],
      "metadata": {
        "colab": {
          "base_uri": "https://localhost:8080/"
        },
        "id": "uqoY06e2D1vA",
        "outputId": "06762d20-f6aa-4fee-c8f4-a36676be7d06"
      },
      "execution_count": 18,
      "outputs": [
        {
          "output_type": "stream",
          "name": "stdout",
          "text": [
            "{'name': 'dhoni', 'ipl fifties': '24', 'matches': '264'}\n"
          ]
        }
      ]
    },
    {
      "cell_type": "markdown",
      "source": [
        "# **5. methods of dictonaries**"
      ],
      "metadata": {
        "id": "_H93fKciFDG9"
      }
    },
    {
      "cell_type": "markdown",
      "source": [
        "1.get()\n",
        "-  returns the value for a specified key. it you to provide a default value if the key is not found."
      ],
      "metadata": {
        "id": "BpaBhNjxFT66"
      }
    },
    {
      "cell_type": "code",
      "source": [
        "x = {'name': 'sai','age': 27, 'grade' : 'A'}\n",
        "print(x.get('name'))"
      ],
      "metadata": {
        "colab": {
          "base_uri": "https://localhost:8080/"
        },
        "id": "im7X7Tw9GLQy",
        "outputId": "37753826-aed9-4786-8e2b-fead8cd1e16b"
      },
      "execution_count": 19,
      "outputs": [
        {
          "output_type": "stream",
          "name": "stdout",
          "text": [
            "sai\n"
          ]
        }
      ]
    },
    {
      "cell_type": "code",
      "source": [
        "x = {'name': 'sai','age': 27, 'grade' : 'A'}\n",
        "print(x.get('school'))"
      ],
      "metadata": {
        "colab": {
          "base_uri": "https://localhost:8080/"
        },
        "id": "d0RSoXU2Gn6T",
        "outputId": "a6215565-763f-4da2-f4e5-27d71db30a47"
      },
      "execution_count": 20,
      "outputs": [
        {
          "output_type": "stream",
          "name": "stdout",
          "text": [
            "None\n"
          ]
        }
      ]
    },
    {
      "cell_type": "code",
      "source": [
        "y = {'name': 'sai','age': 27, 'grade' : 'A'}\n",
        "print(y.get('locaation'))"
      ],
      "metadata": {
        "colab": {
          "base_uri": "https://localhost:8080/"
        },
        "id": "PZGZbuvUGrXv",
        "outputId": "ca0c3e96-063f-4bbd-e222-ef3ee674739d"
      },
      "execution_count": 21,
      "outputs": [
        {
          "output_type": "stream",
          "name": "stdout",
          "text": [
            "None\n"
          ]
        }
      ]
    },
    {
      "cell_type": "markdown",
      "source": [
        "2. keys()\n",
        "-  returns a view of all the keys in the dictonary."
      ],
      "metadata": {
        "id": "-kv-fb_QG0ZS"
      }
    },
    {
      "cell_type": "code",
      "source": [
        "x = {'name': 'sai','age': 27, 'grade' : 'A'}\n",
        "print(x.keys())"
      ],
      "metadata": {
        "colab": {
          "base_uri": "https://localhost:8080/"
        },
        "id": "X-4ivmRpHIJB",
        "outputId": "9d19ab2f-c04b-489a-9fda-bd7481409e85"
      },
      "execution_count": 22,
      "outputs": [
        {
          "output_type": "stream",
          "name": "stdout",
          "text": [
            "dict_keys(['name', 'age', 'grade'])\n"
          ]
        }
      ]
    },
    {
      "cell_type": "code",
      "source": [
        "u = {'name': 'sai','age': 27, 'grade' : 'A'}\n",
        "print(u.keys())"
      ],
      "metadata": {
        "colab": {
          "base_uri": "https://localhost:8080/"
        },
        "id": "No2ysUvKHNwp",
        "outputId": "4783766e-ece8-45d2-bbc3-c55ba653ecb7"
      },
      "execution_count": 23,
      "outputs": [
        {
          "output_type": "stream",
          "name": "stdout",
          "text": [
            "dict_keys(['name', 'age', 'grade'])\n"
          ]
        }
      ]
    },
    {
      "cell_type": "code",
      "source": [
        "w = {'name': 'apples','coat': '150', 'quantity' : '5'}\n",
        "print(w.keys())"
      ],
      "metadata": {
        "colab": {
          "base_uri": "https://localhost:8080/"
        },
        "id": "SRSsFzLqHSda",
        "outputId": "fe5b8e0e-dbc1-4924-82e8-6d3f0f152d9f"
      },
      "execution_count": 24,
      "outputs": [
        {
          "output_type": "stream",
          "name": "stdout",
          "text": [
            "dict_keys(['name', 'coat', 'quantity'])\n"
          ]
        }
      ]
    },
    {
      "cell_type": "markdown",
      "source": [
        "3. values()\n",
        "-  returns a view of all the values im the dictionary."
      ],
      "metadata": {
        "id": "t9nnaJEUHokZ"
      }
    },
    {
      "cell_type": "code",
      "source": [
        "x = {'name': 'sai','age': 27, 'grade' : 'A'}\n",
        "print(x.values())\n"
      ],
      "metadata": {
        "colab": {
          "base_uri": "https://localhost:8080/"
        },
        "id": "BIraYfKYH69w",
        "outputId": "be9f81b8-6f1d-4f36-ad8f-d61692784c49"
      },
      "execution_count": 25,
      "outputs": [
        {
          "output_type": "stream",
          "name": "stdout",
          "text": [
            "dict_values(['sai', 27, 'A'])\n"
          ]
        }
      ]
    },
    {
      "cell_type": "code",
      "source": [
        "a = {'name': 'sai','age': 27, 'grade' : 'A'}\n",
        "print(a.values())"
      ],
      "metadata": {
        "colab": {
          "base_uri": "https://localhost:8080/"
        },
        "id": "Kmx6WG5RICRH",
        "outputId": "8620897b-aa2f-4498-ac69-142cbe03cf1e"
      },
      "execution_count": 26,
      "outputs": [
        {
          "output_type": "stream",
          "name": "stdout",
          "text": [
            "dict_values(['sai', 27, 'A'])\n"
          ]
        }
      ]
    },
    {
      "cell_type": "code",
      "source": [
        "z = {'name': 'apples','coat': '150', 'quantity' : '5'}\n",
        "print(z.values())"
      ],
      "metadata": {
        "colab": {
          "base_uri": "https://localhost:8080/"
        },
        "id": "alv5Okt-II8O",
        "outputId": "4b26feae-3dfa-4bdd-84d4-3252c3e1fb62"
      },
      "execution_count": 27,
      "outputs": [
        {
          "output_type": "stream",
          "name": "stdout",
          "text": [
            "dict_values(['apples', '150', '5'])\n"
          ]
        }
      ]
    },
    {
      "cell_type": "markdown",
      "source": [
        "4.items()\n",
        "-  returns a view of  all key value pairs as tuples."
      ],
      "metadata": {
        "id": "XdCxr1pTIMjO"
      }
    },
    {
      "cell_type": "code",
      "source": [
        "v = {'name': 'sai','age': 27, 'grade' : 'A'}\n",
        "print(v.items())"
      ],
      "metadata": {
        "colab": {
          "base_uri": "https://localhost:8080/"
        },
        "id": "Q7twVgwRIhal",
        "outputId": "165ba7bf-2d77-48ba-e561-938fbedd3d53"
      },
      "execution_count": 28,
      "outputs": [
        {
          "output_type": "stream",
          "name": "stdout",
          "text": [
            "dict_items([('name', 'sai'), ('age', 27), ('grade', 'A')])\n"
          ]
        }
      ]
    },
    {
      "cell_type": "code",
      "source": [
        "q = {'name': 'sai','age': 27, 'grade' : 'A'}\n",
        "print(q.items())"
      ],
      "metadata": {
        "colab": {
          "base_uri": "https://localhost:8080/"
        },
        "id": "BABrI3uPIqrh",
        "outputId": "67e6cdfc-c52d-41a1-d94f-ffe8185af986"
      },
      "execution_count": 29,
      "outputs": [
        {
          "output_type": "stream",
          "name": "stdout",
          "text": [
            "dict_items([('name', 'sai'), ('age', 27), ('grade', 'A')])\n"
          ]
        }
      ]
    },
    {
      "cell_type": "code",
      "source": [
        "p = {'name': 'apples','coat': '150', 'quantity' : '5'}\n",
        "print(p.items())"
      ],
      "metadata": {
        "colab": {
          "base_uri": "https://localhost:8080/"
        },
        "id": "hEwjSQjyItiQ",
        "outputId": "866bdb4c-f832-47b1-e39f-ceab84428ed1"
      },
      "execution_count": 30,
      "outputs": [
        {
          "output_type": "stream",
          "name": "stdout",
          "text": [
            "dict_items([('name', 'apples'), ('coat', '150'), ('quantity', '5')])\n"
          ]
        }
      ]
    },
    {
      "cell_type": "markdown",
      "source": [
        "5.pop()\n",
        "-  removes and returns the value for a specified key."
      ],
      "metadata": {
        "id": "nJx7CAXPIzBT"
      }
    },
    {
      "cell_type": "code",
      "source": [
        "x = {'name': 'sai','age': 27, 'grade' : 'A'}\n",
        "print(x.pop('name'))"
      ],
      "metadata": {
        "colab": {
          "base_uri": "https://localhost:8080/"
        },
        "id": "rhPEQCpDJD0F",
        "outputId": "0f08b268-814b-4aaa-dc87-c9d2ab40a5ce"
      },
      "execution_count": 31,
      "outputs": [
        {
          "output_type": "stream",
          "name": "stdout",
          "text": [
            "sai\n"
          ]
        }
      ]
    },
    {
      "cell_type": "code",
      "source": [
        "z = {'name': 'sai','age': 27, 'grade' : 'A'}\n",
        "print(z.pop('age'))"
      ],
      "metadata": {
        "colab": {
          "base_uri": "https://localhost:8080/"
        },
        "id": "z21lnS_UJI8U",
        "outputId": "8a5ea762-78a5-4888-fa67-595049057945"
      },
      "execution_count": 32,
      "outputs": [
        {
          "output_type": "stream",
          "name": "stdout",
          "text": [
            "27\n"
          ]
        }
      ]
    },
    {
      "cell_type": "code",
      "source": [
        "m = {'name': 'apples','coat': '150', 'quantity' : '5'}\n",
        "print(m.pop('quantity'))"
      ],
      "metadata": {
        "colab": {
          "base_uri": "https://localhost:8080/"
        },
        "id": "upSRpmMyJMDm",
        "outputId": "55784547-741d-4999-a461-0a95090a9137"
      },
      "execution_count": 33,
      "outputs": [
        {
          "output_type": "stream",
          "name": "stdout",
          "text": [
            "5\n"
          ]
        }
      ]
    },
    {
      "cell_type": "markdown",
      "source": [
        "6. popitem()\n",
        "-  removes and returns the last inserted key value pair tuple."
      ],
      "metadata": {
        "id": "naysQ_7gJflg"
      }
    },
    {
      "cell_type": "code",
      "source": [
        "x= {'name': 'sai','age': 27, 'grade' : 'A'}\n",
        "print(x.popitem())"
      ],
      "metadata": {
        "colab": {
          "base_uri": "https://localhost:8080/"
        },
        "id": "XlQUqEq0J1cq",
        "outputId": "cbafadb9-d9bf-4afa-80a3-51fa5c73bc68"
      },
      "execution_count": 34,
      "outputs": [
        {
          "output_type": "stream",
          "name": "stdout",
          "text": [
            "('grade', 'A')\n"
          ]
        }
      ]
    },
    {
      "cell_type": "code",
      "source": [
        "w = {'name': 'sai','age': 27, 'grade' : 'A'}\n",
        "print(w.popitem())"
      ],
      "metadata": {
        "colab": {
          "base_uri": "https://localhost:8080/"
        },
        "id": "3jEjgBeIKWFC",
        "outputId": "18d93004-9682-460c-88b0-7f71712c0ae8"
      },
      "execution_count": 1,
      "outputs": [
        {
          "output_type": "stream",
          "name": "stdout",
          "text": [
            "('grade', 'A')\n"
          ]
        }
      ]
    },
    {
      "cell_type": "markdown",
      "source": [
        "7.update()\n",
        "-  updates the dictionary with elements from another dictionary or from an iterable of key value  pairs."
      ],
      "metadata": {
        "id": "nG-Sy41gKtb0"
      }
    },
    {
      "cell_type": "code",
      "source": [
        "x = {'name': 'sai','age': 27, 'grade' : 'A'}\n",
        "y = {'school': 'zphs'}\n",
        "x.update(y)\n",
        "print(x)"
      ],
      "metadata": {
        "colab": {
          "base_uri": "https://localhost:8080/"
        },
        "id": "81CIgDhXLHGh",
        "outputId": "06a9c569-5d0a-4d43-f782-4230a3d7959b"
      },
      "execution_count": 2,
      "outputs": [
        {
          "output_type": "stream",
          "name": "stdout",
          "text": [
            "{'name': 'sai', 'age': 27, 'grade': 'A', 'school': 'zphs'}\n"
          ]
        }
      ]
    },
    {
      "cell_type": "code",
      "source": [
        "v = {'name': 'sai','age': 27, 'grade' : 'A'}\n",
        "u = {'loation': 'sdpt'}\n",
        "v.update(u)\n",
        "print(v)"
      ],
      "metadata": {
        "colab": {
          "base_uri": "https://localhost:8080/"
        },
        "id": "QD1M-U8qLSdO",
        "outputId": "5ecfc5ac-f505-46f5-82e6-b4e847d81cca"
      },
      "execution_count": 3,
      "outputs": [
        {
          "output_type": "stream",
          "name": "stdout",
          "text": [
            "{'name': 'sai', 'age': 27, 'grade': 'A', 'loation': 'sdpt'}\n"
          ]
        }
      ]
    },
    {
      "cell_type": "markdown",
      "source": [
        "8.copy()\n",
        "-  returns a copy of the dictionary."
      ],
      "metadata": {
        "id": "HMlu6MHMLmXy"
      }
    },
    {
      "cell_type": "code",
      "source": [
        "x = {'name': 'sai','age': 27, 'grade' : 'A'}\n",
        "y = x.copy()\n",
        "print(y)"
      ],
      "metadata": {
        "colab": {
          "base_uri": "https://localhost:8080/"
        },
        "id": "KBf1EnVmL0wZ",
        "outputId": "df8a475a-2ddb-4024-fe66-798fc3bf4315"
      },
      "execution_count": 4,
      "outputs": [
        {
          "output_type": "stream",
          "name": "stdout",
          "text": [
            "{'name': 'sai', 'age': 27, 'grade': 'A'}\n"
          ]
        }
      ]
    },
    {
      "cell_type": "code",
      "source": [
        "z = {'name': 'sai','age': 27, 'grade' : 'A'}\n",
        "w = z.copy()\n",
        "print(w)"
      ],
      "metadata": {
        "colab": {
          "base_uri": "https://localhost:8080/"
        },
        "id": "CUiUlXAoL3X1",
        "outputId": "f8250d2d-661b-41ee-c640-aa3d9f353cfb"
      },
      "execution_count": 5,
      "outputs": [
        {
          "output_type": "stream",
          "name": "stdout",
          "text": [
            "{'name': 'sai', 'age': 27, 'grade': 'A'}\n"
          ]
        }
      ]
    },
    {
      "cell_type": "markdown",
      "source": [
        "9.set default()\n",
        "-  returns the value of the specified key. if the key doesnot exist insert the key, with the specifed key value  pairs."
      ],
      "metadata": {
        "id": "Awb0QBQuL7Ax"
      }
    },
    {
      "cell_type": "code",
      "source": [
        "x = {'name': 'sai','age': 27, 'grade' : 'A'}\n",
        "print(x.setdefault('name'))"
      ],
      "metadata": {
        "colab": {
          "base_uri": "https://localhost:8080/"
        },
        "id": "vbGsEFyvMwtF",
        "outputId": "8e620e00-71e1-4bbe-cfb3-6517e84ff2d3"
      },
      "execution_count": 6,
      "outputs": [
        {
          "output_type": "stream",
          "name": "stdout",
          "text": [
            "sai\n"
          ]
        }
      ]
    },
    {
      "cell_type": "code",
      "source": [
        "y = {'name': 'sai','age': 27, 'grade' : 'A'}\n",
        "print(y.setdefault('school'))"
      ],
      "metadata": {
        "colab": {
          "base_uri": "https://localhost:8080/"
        },
        "id": "7Z6YyORfNF6A",
        "outputId": "a07bcfd1-a234-4cde-9348-8c34aca89288"
      },
      "execution_count": 7,
      "outputs": [
        {
          "output_type": "stream",
          "name": "stdout",
          "text": [
            "None\n"
          ]
        }
      ]
    },
    {
      "cell_type": "markdown",
      "source": [
        "10.clear()\n",
        "-  removes all the elements from the dictionary."
      ],
      "metadata": {
        "id": "_J8hEtwNNJrJ"
      }
    },
    {
      "cell_type": "code",
      "source": [
        "x = {'name': 'sai','age': 27, 'grade' : 'A'}\n",
        "x.clear()\n",
        "print(x)"
      ],
      "metadata": {
        "colab": {
          "base_uri": "https://localhost:8080/"
        },
        "id": "bIcY-whPNexT",
        "outputId": "af568450-be0e-4b9b-b377-9bc52c381f53"
      },
      "execution_count": 8,
      "outputs": [
        {
          "output_type": "stream",
          "name": "stdout",
          "text": [
            "{}\n"
          ]
        }
      ]
    },
    {
      "cell_type": "code",
      "source": [
        "z = {'name': 'sai','age': 27, 'grade' : 'A'}\n",
        "z.clear()\n",
        "print(z)"
      ],
      "metadata": {
        "colab": {
          "base_uri": "https://localhost:8080/"
        },
        "id": "fewSGHiINis8",
        "outputId": "dd168f9a-84e4-4acb-f354-859937b9aab7"
      },
      "execution_count": 9,
      "outputs": [
        {
          "output_type": "stream",
          "name": "stdout",
          "text": [
            "{}\n"
          ]
        }
      ]
    }
  ]
}