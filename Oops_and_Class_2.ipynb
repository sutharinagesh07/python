{
  "nbformat": 4,
  "nbformat_minor": 0,
  "metadata": {
    "colab": {
      "provenance": []
    },
    "kernelspec": {
      "name": "python3",
      "display_name": "Python 3"
    },
    "language_info": {
      "name": "python"
    }
  },
  "cells": [
    {
      "cell_type": "code",
      "execution_count": null,
      "metadata": {
        "id": "vSzpAKevWQQE"
      },
      "outputs": [],
      "source": []
    },
    {
      "cell_type": "markdown",
      "source": [
        "Define the Oops and types of Oops ?\n",
        "\n",
        "Object-oriented programming (OOP) is a style of programming characterized by the identification of classes of objects closely linked with the methods (functions) with which they are associated.\n",
        "\n",
        "-  Types\n",
        "\n",
        "-    Inheritance.\n",
        "-   Encapsulation.\n",
        "-  Abstraction.\n",
        "-  Polymorphism.\n",
        "\n",
        "\n",
        "-   **INHERITANCE** :\n",
        "\n",
        "   Inheritance in Python is a mechanism that allows a class to inherit attributes and methods from another class."
      ],
      "metadata": {
        "id": "kpi-7QSWWvSh"
      }
    },
    {
      "cell_type": "markdown",
      "source": [
        "Create a Object\n",
        "- Now we can use the class named My class to create objects.\n",
        "\n",
        "-  Object is physical entity\n",
        "- we can create any no of object for class\n",
        "-  memory is allocated when we create object for class"
      ],
      "metadata": {
        "id": "VB67npx0cmO6"
      }
    },
    {
      "cell_type": "code",
      "source": [
        "class my class :\n",
        "  a = 7\n",
        "  b = 'hello'"
      ],
      "metadata": {
        "id": "f3x0_cPzeUy5"
      },
      "execution_count": null,
      "outputs": []
    },
    {
      "cell_type": "code",
      "source": [
        "class mobile:\n",
        "  def __init__(self,name,price):\n",
        "    self.name = name\n",
        "    self.price = price\n",
        "  def show(self):\n",
        "    print(self.name,self.price)\n",
        "\n",
        "mobile1=mobile('samsung',20000)\n",
        "print(mobile1)"
      ],
      "metadata": {
        "colab": {
          "base_uri": "https://localhost:8080/"
        },
        "id": "iTLa7tkyfkXz",
        "outputId": "f7e2cf42-98ac-407b-8aa5-cf8e83e54d40"
      },
      "execution_count": null,
      "outputs": [
        {
          "output_type": "stream",
          "name": "stdout",
          "text": [
            "<__main__.mobile object at 0x7fb223afe680>\n"
          ]
        }
      ]
    },
    {
      "cell_type": "code",
      "source": [
        "print(f'it is my mobile {mobile1.name} and this price is {mobile1.price}')"
      ],
      "metadata": {
        "colab": {
          "base_uri": "https://localhost:8080/"
        },
        "id": "ktp2oi1JjUPY",
        "outputId": "dfd307a7-0e3b-4e77-c71e-edd2acad5b1f"
      },
      "execution_count": null,
      "outputs": [
        {
          "output_type": "stream",
          "name": "stdout",
          "text": [
            "it is my mobile samsung and this price is 20000\n"
          ]
        }
      ]
    },
    {
      "cell_type": "code",
      "source": [
        "class financial:\n",
        "  def __init__(self,name,salary):\n",
        "    self.name = name\n",
        "    self.salary = salary\n",
        "  def show(self):\n",
        "    financial1 = financial('sai',20000)\n",
        "\n",
        "print('financial1')\n",
        "print(f'my name is {financial1.name} and my salary is {financial1.salary}')\n"
      ],
      "metadata": {
        "colab": {
          "base_uri": "https://localhost:8080/"
        },
        "id": "ElS10xl4kAI9",
        "outputId": "183c6c68-a8c1-4c23-d3b6-5ca9ae9794f4"
      },
      "execution_count": null,
      "outputs": [
        {
          "output_type": "stream",
          "name": "stdout",
          "text": [
            "financial1\n",
            "my name is sai and my salary is 20000\n"
          ]
        }
      ]
    },
    {
      "cell_type": "code",
      "source": [
        "class hospital:\n",
        "  def __init__(self,patientname,disease):\n",
        "    self.patientname = patientname\n",
        "    self.disease = disease\n",
        "  def show(self):\n",
        "    print(self.patientname,self.disease)\n",
        "\n",
        "hospital1 = hospital('raju','fever')\n",
        "print(f'my patient name is {hospital1.patientname} and my disease is {hospital1.disease}')"
      ],
      "metadata": {
        "colab": {
          "base_uri": "https://localhost:8080/"
        },
        "id": "3witou_nntRU",
        "outputId": "d7914c52-1032-4dcd-e3b7-e9ba618bc553"
      },
      "execution_count": null,
      "outputs": [
        {
          "output_type": "stream",
          "name": "stdout",
          "text": [
            "my patient name is raju and my disease is fever\n"
          ]
        }
      ]
    },
    {
      "cell_type": "code",
      "source": [
        "class education:\n",
        "  def __init__(self,studentname,studentclass):\n",
        "    self.studentname = studentname\n",
        "    self.studentclass = studentclass\n",
        "  def show(self):\n",
        "    print(self.studentname,self.studentclass)\n",
        "\n",
        "education1 = education('atheesh','10th')\n",
        "print(f'my student name is {education1.studentname} and my class is {education1.studentclass}')"
      ],
      "metadata": {
        "colab": {
          "base_uri": "https://localhost:8080/"
        },
        "id": "9gXXoKGUo8bT",
        "outputId": "738a4625-a976-44b0-f029-691d7f02fe5d"
      },
      "execution_count": null,
      "outputs": [
        {
          "output_type": "stream",
          "name": "stdout",
          "text": [
            "my student name is atheesh and my class is 10th\n"
          ]
        }
      ]
    },
    {
      "cell_type": "code",
      "source": [
        "class transport:\n",
        "  def __init__(bike,mt15,highway):\n",
        "    bike.mt15 = mt15\n",
        "    bike.highway = highway\n",
        "  def show(bike):\n",
        "    print(bike.mt15,bike.highway)\n",
        "\n",
        "rider = transport('mt15','highway')\n",
        "print(f'my bike is {rider.mt15} and iam riding only {rider.highway}')\n",
        "\n"
      ],
      "metadata": {
        "colab": {
          "base_uri": "https://localhost:8080/"
        },
        "id": "yUf1Xr_LpVM1",
        "outputId": "9688e715-ecdc-44b2-c942-cce129f1da34"
      },
      "execution_count": null,
      "outputs": [
        {
          "output_type": "stream",
          "name": "stdout",
          "text": [
            "my bike is mt15 and iam riding only highway\n"
          ]
        }
      ]
    },
    {
      "cell_type": "code",
      "source": [
        "class student:\n",
        "  def exam(self):\n",
        "    print(\"I can write an exam\")\n",
        "\n",
        "  def games(self):\n",
        "    print(\"I can play games\")\n",
        "\n",
        "  def __init__(self, name, age):\n",
        "    self.name = name\n",
        "    self.age = age\n",
        "\n",
        "  def show(self):\n",
        "    print(self.name, self.age)\n",
        "\n",
        "\n",
        "class honorsStudent(student):\n",
        "  def study(self):\n",
        "    print(\"I am studying hard for advanced courses.\")\n",
        "\n",
        "std = student(\"sai\", 20)\n",
        "honors_std = honorsStudent(\"raj\", 22)\n",
        "\n",
        "std.exam()\n",
        "std.games()\n",
        "std.show()\n",
        "\n",
        "honors_std.exam()\n",
        "honors_std.games()\n",
        "honors_std.study()\n",
        "honors_std.show()\n"
      ],
      "metadata": {
        "id": "lw3GcaS1R3xx",
        "colab": {
          "base_uri": "https://localhost:8080/"
        },
        "outputId": "cef3bc12-fa0b-4a00-a7f0-ff8aec3b33ac"
      },
      "execution_count": null,
      "outputs": [
        {
          "output_type": "stream",
          "name": "stdout",
          "text": [
            "I can write an exam\n",
            "I can play games\n",
            "sai 20\n",
            "I can write an exam\n",
            "I can play games\n",
            "I am studying hard for advanced courses.\n",
            "raj 22\n"
          ]
        }
      ]
    },
    {
      "cell_type": "code",
      "source": [
        "class Animal:\n",
        "  def eat (self):\n",
        "    print(\"I can eat\")\n",
        "\n",
        "  def sleep(self):\n",
        "    print(\"I can sleep\")\n",
        "\n",
        "  def __init__(self, name, age):\n",
        "    self.name = name\n",
        "    self.age = age\n",
        "\n",
        "  def show(self):\n",
        "      print(self.name, self.age)\n",
        "\n",
        "\n",
        "class Dog(Animal):\n",
        "  def bark(self):\n",
        "    print(\"I can bark\")\n",
        "\n",
        "animal = Animal(\"kitty\", 2)\n",
        "dog = Dog(\"tommy\", 3)\n",
        "\n",
        "animal.eat()\n",
        "animal.sleep()\n",
        "animal.show()\n",
        "\n",
        "dog.bark()\n",
        "dog.show()"
      ],
      "metadata": {
        "colab": {
          "base_uri": "https://localhost:8080/"
        },
        "id": "ctg52NEGbrc3",
        "outputId": "7fdd0645-9f88-41c8-9e3e-a53738f6a723"
      },
      "execution_count": null,
      "outputs": [
        {
          "output_type": "stream",
          "name": "stdout",
          "text": [
            "I can eat\n",
            "I can sleep\n",
            "kitty 2\n",
            "I can bark\n",
            "tommy 3\n"
          ]
        }
      ]
    },
    {
      "cell_type": "markdown",
      "source": [
        "# **ENCAPSULATION**\n",
        "-  Encapsulation is one of the key features of object oriented programming.\n",
        "-  Encapsulation refers to the bundling of attributes and methods inside a single class.\n",
        "-  Wrapping data and methods that work with data in one unit.\n",
        "-  This also helps to achiev data hiding.\n",
        "-  In python,we denote private attributes using underscore as the prefix single_(protected) or double_(private) and public for example."
      ],
      "metadata": {
        "id": "hwOCLYOmbuut"
      }
    },
    {
      "cell_type": "code",
      "source": [
        "class demo:\n",
        "  def __init__(self,a,b):\n",
        "    self.__a = a\n",
        "    self.__b = b\n",
        "  def show(self):\n",
        "    print(self.__b)\n",
        "    print(self.__a)\n",
        "\n",
        "class demo1 (demo):\n",
        "\n",
        "  def input (self):\n",
        "    print(self._b)\n",
        "  def private (self):\n",
        "    print(self._a)\n"
      ],
      "metadata": {
        "id": "z16iAD3bevNc"
      },
      "execution_count": null,
      "outputs": []
    },
    {
      "cell_type": "code",
      "source": [
        "object = demo(10,20)\n",
        "object.show()"
      ],
      "metadata": {
        "colab": {
          "base_uri": "https://localhost:8080/"
        },
        "id": "rWYkLGqEh0gZ",
        "outputId": "2009d691-2827-4bc5-9440-4d9f003e5504"
      },
      "execution_count": null,
      "outputs": [
        {
          "output_type": "stream",
          "name": "stdout",
          "text": [
            "20\n",
            "10\n"
          ]
        }
      ]
    },
    {
      "cell_type": "code",
      "source": [
        "class demo:\n",
        "  def __init__(self,kitkat,dairymilk):\n",
        "    self._kitkat = kitkat\n",
        "    self._dairymilk =dairymilk\n",
        "\n",
        " def show  (self):\n",
        "  print(self._dairymilk)\n",
        "\n",
        "  print(self._kitkat)\n",
        "\n",
        "class chocolates1 (chocolates):\n",
        "\n",
        "  def input (self):\n",
        "    print(self._kitkat)\n",
        "  def private (self):\n",
        "    print(self._dairymilk)"
      ],
      "metadata": {
        "id": "OhxBt1L6iBvf"
      },
      "execution_count": null,
      "outputs": []
    },
    {
      "cell_type": "code",
      "source": [
        "object = demo('kitkat','dairymilk')\n",
        "object.show()"
      ],
      "metadata": {
        "colab": {
          "base_uri": "https://localhost:8080/"
        },
        "id": "l1pFTmlfsIqK",
        "outputId": "b183e5ae-9153-4012-ca73-27172ce94511"
      },
      "execution_count": null,
      "outputs": [
        {
          "output_type": "stream",
          "name": "stdout",
          "text": [
            "dairymilk\n",
            "kitkat\n"
          ]
        }
      ]
    },
    {
      "cell_type": "code",
      "source": [
        "class demo:\n",
        "  def __init__(self,engine,tires):\n",
        "    self.__engine = engine\n",
        "    self.__tires = tires\n",
        "  def show(self):\n",
        "    print(self.__tires)\n",
        "    print(self.__engine)\n",
        "\n",
        "class demo1 (demo):\n",
        "\n",
        "  def input (self):\n",
        "    print(self._tires)\n",
        "  def private (self):\n",
        "    print(self._engine)"
      ],
      "metadata": {
        "id": "sdUNFN-gRI8i"
      },
      "execution_count": null,
      "outputs": []
    },
    {
      "cell_type": "code",
      "source": [
        "x = demo('engine','tires')\n",
        "x.show()"
      ],
      "metadata": {
        "colab": {
          "base_uri": "https://localhost:8080/"
        },
        "id": "2SE_hDOwSfxM",
        "outputId": "a793f68a-5d91-4837-839b-6f7f36ece235"
      },
      "execution_count": null,
      "outputs": [
        {
          "output_type": "stream",
          "name": "stdout",
          "text": [
            "tires\n",
            "engine\n"
          ]
        }
      ]
    },
    {
      "cell_type": "code",
      "source": [
        "class dog:\n",
        "  def __init__(self,name,age):\n",
        "    self.__name=name\n",
        "    self.__age=age\n",
        "  def show(self):\n",
        "    print(self.__name)\n",
        "    print(self.__age)\n",
        "\n",
        "  def get_name(self):\n",
        "    return self.__name\n",
        "\n",
        "  def get_age(self):\n",
        "    return self.__age\n",
        "\n",
        "class dog1(dog):\n",
        "  def input(self):\n",
        "    self.get_name()\n",
        "    self.get_age()"
      ],
      "metadata": {
        "id": "l-j1gRRaS7G9"
      },
      "execution_count": null,
      "outputs": []
    },
    {
      "cell_type": "code",
      "source": [
        "max = dog('max',3)"
      ],
      "metadata": {
        "id": "uZbxcFz2Tn7G"
      },
      "execution_count": null,
      "outputs": []
    },
    {
      "cell_type": "code",
      "source": [
        "d = dog1(\"snoopy\",5)\n",
        "d.show()"
      ],
      "metadata": {
        "colab": {
          "base_uri": "https://localhost:8080/"
        },
        "id": "4p12DsMuUD40",
        "outputId": "06527980-8342-4b15-eb9a-0e41eb1859ec"
      },
      "execution_count": null,
      "outputs": [
        {
          "output_type": "stream",
          "name": "stdout",
          "text": [
            "snoopy\n",
            "5\n"
          ]
        }
      ]
    },
    {
      "cell_type": "markdown",
      "source": [
        "# **POLYMORPHISM** :\n",
        "\n",
        "-  Polymorphism in Python is the ability to use a single entity to represent multiple types in different contexts.\n",
        "-   This can be achieved through the use of methods, operators, or objects.\n",
        "-   The word \"polymorphism\" comes from the Greek words poly, which means \"many\", and morphs, which means \"many forms\"."
      ],
      "metadata": {
        "id": "t5ro_YkKCA5k"
      }
    },
    {
      "cell_type": "code",
      "source": [
        "class sum():\n",
        "  def add (self,a,b):\n",
        "    return a+b"
      ],
      "metadata": {
        "id": "t6Z1c5KeFDvW"
      },
      "execution_count": 1,
      "outputs": []
    },
    {
      "cell_type": "code",
      "source": [
        "obj = sum()\n",
        "\n",
        "print(obj.add(2,7)) # int\n",
        "print(obj.add('hello','world')) # str\n",
        "print(obj.add(2.7,7.2)) # float\n",
        "print(obj.add(2+7j,7-2j)) # coplex"
      ],
      "metadata": {
        "colab": {
          "base_uri": "https://localhost:8080/"
        },
        "id": "WBgH7DtuGse2",
        "outputId": "c00d4ba8-358e-4f08-f2a7-021a4193c32f"
      },
      "execution_count": 5,
      "outputs": [
        {
          "output_type": "stream",
          "name": "stdout",
          "text": [
            "9\n",
            "helloworld\n",
            "9.9\n",
            "(9+5j)\n"
          ]
        }
      ]
    },
    {
      "cell_type": "code",
      "source": [
        "x = input ('enter any alph or number')\n",
        "y = input ('enter any alph or number')\n",
        "\n",
        "class multiple:\n",
        "  def multiple(self,a,b):\n",
        "    multiple=a*b\n",
        "    return multiple"
      ],
      "metadata": {
        "colab": {
          "base_uri": "https://localhost:8080/"
        },
        "id": "sfNnkPFvH2e2",
        "outputId": "b5454543-ebd9-4b0f-fb4b-d12602434c45"
      },
      "execution_count": 6,
      "outputs": [
        {
          "name": "stdout",
          "output_type": "stream",
          "text": [
            "enter any alph or number7\n",
            "enter any alph or number2\n"
          ]
        }
      ]
    },
    {
      "cell_type": "code",
      "source": [
        "num = multiple()"
      ],
      "metadata": {
        "id": "9k4t2j5KI57D"
      },
      "execution_count": 7,
      "outputs": []
    },
    {
      "cell_type": "code",
      "source": [
        "num.multiple(x,y)"
      ],
      "metadata": {
        "colab": {
          "base_uri": "https://localhost:8080/",
          "height": 245
        },
        "id": "DKshPURLI_Si",
        "outputId": "615c857e-333b-4c23-e33e-885a39bd155e"
      },
      "execution_count": 10,
      "outputs": [
        {
          "output_type": "error",
          "ename": "TypeError",
          "evalue": "can't multiply sequence by non-int of type 'str'",
          "traceback": [
            "\u001b[0;31m---------------------------------------------------------------------------\u001b[0m",
            "\u001b[0;31mTypeError\u001b[0m                                 Traceback (most recent call last)",
            "\u001b[0;32m<ipython-input-10-96812fca661e>\u001b[0m in \u001b[0;36m<cell line: 1>\u001b[0;34m()\u001b[0m\n\u001b[0;32m----> 1\u001b[0;31m \u001b[0mnum\u001b[0m\u001b[0;34m.\u001b[0m\u001b[0mmultiple\u001b[0m\u001b[0;34m(\u001b[0m\u001b[0mx\u001b[0m\u001b[0;34m,\u001b[0m\u001b[0my\u001b[0m\u001b[0;34m)\u001b[0m\u001b[0;34m\u001b[0m\u001b[0;34m\u001b[0m\u001b[0m\n\u001b[0m",
            "\u001b[0;32m<ipython-input-6-068b8fcab6c4>\u001b[0m in \u001b[0;36mmultiple\u001b[0;34m(self, a, b)\u001b[0m\n\u001b[1;32m      4\u001b[0m \u001b[0;32mclass\u001b[0m \u001b[0mmultiple\u001b[0m\u001b[0;34m:\u001b[0m\u001b[0;34m\u001b[0m\u001b[0;34m\u001b[0m\u001b[0m\n\u001b[1;32m      5\u001b[0m   \u001b[0;32mdef\u001b[0m \u001b[0mmultiple\u001b[0m\u001b[0;34m(\u001b[0m\u001b[0mself\u001b[0m\u001b[0;34m,\u001b[0m\u001b[0ma\u001b[0m\u001b[0;34m,\u001b[0m\u001b[0mb\u001b[0m\u001b[0;34m)\u001b[0m\u001b[0;34m:\u001b[0m\u001b[0;34m\u001b[0m\u001b[0;34m\u001b[0m\u001b[0m\n\u001b[0;32m----> 6\u001b[0;31m     \u001b[0mmultiple\u001b[0m\u001b[0;34m=\u001b[0m\u001b[0ma\u001b[0m\u001b[0;34m*\u001b[0m\u001b[0mb\u001b[0m\u001b[0;34m\u001b[0m\u001b[0;34m\u001b[0m\u001b[0m\n\u001b[0m\u001b[1;32m      7\u001b[0m     \u001b[0;32mreturn\u001b[0m \u001b[0mmultiple\u001b[0m\u001b[0;34m\u001b[0m\u001b[0;34m\u001b[0m\u001b[0m\n",
            "\u001b[0;31mTypeError\u001b[0m: can't multiply sequence by non-int of type 'str'"
          ]
        }
      ]
    },
    {
      "cell_type": "markdown",
      "source": [
        "# **ABSTRACTION** :\n",
        "\n",
        "-  Hiding the unnecessary details.\n",
        "-  Abstraction allows you to focus on what an object does rather than how it achieves its functionality."
      ],
      "metadata": {
        "id": "2oSREgxcJoea"
      }
    },
    {
      "cell_type": "code",
      "source": [
        "class car:\n",
        "  def start engine (self):\n",
        "    pass\n",
        "  def drive (self):\n",
        "    pass\n",
        "  def stop engine:\n",
        "    pass"
      ],
      "metadata": {
        "id": "GJfojmGPLAKH"
      },
      "execution_count": null,
      "outputs": []
    },
    {
      "cell_type": "code",
      "source": [
        "from abc import ABC\n",
        "class Car(ABC):\n",
        "    def start_engine(self):\n",
        "        pass\n",
        "    def stop_engine(self):\n",
        "        pass\n",
        "class Kia(Car):\n",
        "    def start_engine(self):\n",
        "        return \"Kia engine started\"\n",
        "    def stop_engine(self):\n",
        "        return \"Kia engine stopped\"\n",
        "class Honda(Car):\n",
        "    def start_engine(self):\n",
        "        return \"Honda engine started\"\n",
        "    def stop_engine(self):\n",
        "        return \"Honda engine stopped\""
      ],
      "metadata": {
        "id": "lPQPXSmAPCYE"
      },
      "execution_count": 20,
      "outputs": []
    },
    {
      "cell_type": "code",
      "source": [
        "\n",
        "kia = Kia()\n",
        "honda = Honda()"
      ],
      "metadata": {
        "id": "qtuyxrGIPQRf"
      },
      "execution_count": 14,
      "outputs": []
    },
    {
      "cell_type": "code",
      "source": [
        "print(kia.start_engine())\n",
        "print(kia.stop_engine())\n",
        "print(honda.start_engine())\n",
        "print(honda.stop_engine())"
      ],
      "metadata": {
        "colab": {
          "base_uri": "https://localhost:8080/"
        },
        "id": "knPqHdXRP9v5",
        "outputId": "1e3ac0c4-54f7-478f-c1e3-93044c4c2499"
      },
      "execution_count": 15,
      "outputs": [
        {
          "output_type": "stream",
          "name": "stdout",
          "text": [
            "Kia engine started\n",
            "Kia engine stopped\n",
            "Honda engine started\n",
            "Honda engine stopped\n"
          ]
        }
      ]
    }
  ]
}