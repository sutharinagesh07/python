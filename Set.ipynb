{
  "nbformat": 4,
  "nbformat_minor": 0,
  "metadata": {
    "colab": {
      "provenance": []
    },
    "kernelspec": {
      "name": "python3",
      "display_name": "Python 3"
    },
    "language_info": {
      "name": "python"
    }
  },
  "cells": [
    {
      "cell_type": "code",
      "execution_count": null,
      "metadata": {
        "id": "usc7bfaiThRl"
      },
      "outputs": [],
      "source": [
        "#Define set in python\n",
        "#Add and Update Set items un python\n",
        "#Remove an element from a set\n",
        "#Python set of oprations\n",
        "# methods of set"
      ]
    },
    {
      "cell_type": "markdown",
      "source": [
        "# **Define Set**\n",
        "-  in python a set is a collection of unique elements and it is defined using curly braces{} and sep by , (comma)\n",
        "-  sets are used to store multiple items in a single vairable.\n",
        "-  set are unordered,mutable,and do not allow duplicate elements.\n",
        "-  sets provide a vaierty of methods for performing common set operations like union,intersection,difference,and more\n",
        "\n"
      ],
      "metadata": {
        "id": "Pwqns73VTpn_"
      }
    },
    {
      "cell_type": "code",
      "source": [
        "# creating a set\n",
        "\n",
        "x  = {1,2,3,4}\n",
        "print(x)"
      ],
      "metadata": {
        "colab": {
          "base_uri": "https://localhost:8080/"
        },
        "id": "TLW99XUYXjFC",
        "outputId": "4b08835a-8ab3-452d-fb25-bb6d5b57d72d"
      },
      "execution_count": 1,
      "outputs": [
        {
          "output_type": "stream",
          "name": "stdout",
          "text": [
            "{1, 2, 3, 4}\n"
          ]
        }
      ]
    },
    {
      "cell_type": "code",
      "source": [
        "y = {\"apple\",\"kiwi\",\"orange\"}\n",
        "print(y)"
      ],
      "metadata": {
        "colab": {
          "base_uri": "https://localhost:8080/"
        },
        "id": "p2JiD1kIXvKp",
        "outputId": "bce1e7e7-b3e3-49a7-8202-f17e9902b438"
      },
      "execution_count": 2,
      "outputs": [
        {
          "output_type": "stream",
          "name": "stdout",
          "text": [
            "{'kiwi', 'orange', 'apple'}\n"
          ]
        }
      ]
    },
    {
      "cell_type": "code",
      "source": [
        "z = {1,\"hello\",3.14}\n",
        "print(z)"
      ],
      "metadata": {
        "colab": {
          "base_uri": "https://localhost:8080/"
        },
        "id": "HozJPdvWX-sj",
        "outputId": "2d5144fb-3fd5-4e55-90c8-27dc858e6491"
      },
      "execution_count": 3,
      "outputs": [
        {
          "output_type": "stream",
          "name": "stdout",
          "text": [
            "{1, 3.14, 'hello'}\n"
          ]
        }
      ]
    },
    {
      "cell_type": "code",
      "source": [
        "x = {1,2,8,5,3,9,7,4}\n",
        "print(x)"
      ],
      "metadata": {
        "colab": {
          "base_uri": "https://localhost:8080/"
        },
        "id": "M1O7SDu4YONC",
        "outputId": "1d71a209-d0b8-4f0a-9f18-7f20faaa4272"
      },
      "execution_count": 4,
      "outputs": [
        {
          "output_type": "stream",
          "name": "stdout",
          "text": [
            "{1, 2, 3, 4, 5, 7, 8, 9}\n"
          ]
        }
      ]
    },
    {
      "cell_type": "markdown",
      "source": [
        "# **Add and Update Set items un python**\n",
        "-  sets are mutable . however,since they are understand ,indexing his no meaning.\n",
        "-  we cannot access or change an element of a set using indexing or slicing.\n",
        "-  set data type does not support it."
      ],
      "metadata": {
        "id": "FhR70xqrYdb3"
      }
    },
    {
      "cell_type": "code",
      "source": [
        "x = {1,2,3,4,5,7,8,9}\n",
        "x.add(6)\n",
        "print(x)"
      ],
      "metadata": {
        "colab": {
          "base_uri": "https://localhost:8080/"
        },
        "id": "hnqsKJI8Zks2",
        "outputId": "d34d811c-8dc7-4f2f-d70e-1246cfadaeef"
      },
      "execution_count": 7,
      "outputs": [
        {
          "output_type": "stream",
          "name": "stdout",
          "text": [
            "{1, 2, 3, 4, 5, 6, 7, 8, 9}\n"
          ]
        }
      ]
    },
    {
      "cell_type": "code",
      "source": [
        "y = {\"apple\",\"kiwi\",\"orange\"}\n",
        "y.update([\"banana\",\"grapes\"])\n",
        "print(y)"
      ],
      "metadata": {
        "colab": {
          "base_uri": "https://localhost:8080/"
        },
        "id": "kNQY3YieZ1z5",
        "outputId": "57b7d89b-7595-4b58-e8e3-7b13efc74432"
      },
      "execution_count": 8,
      "outputs": [
        {
          "output_type": "stream",
          "name": "stdout",
          "text": [
            "{'kiwi', 'grapes', 'apple', 'orange', 'banana'}\n"
          ]
        }
      ]
    },
    {
      "cell_type": "markdown",
      "source": [
        "# **Remove an element from a set**\n",
        "-  we use the discard () method to remoe the specified element from a set."
      ],
      "metadata": {
        "id": "kYwJY81paHWL"
      }
    },
    {
      "cell_type": "code",
      "source": [
        "x = {1,2,3,4,5,7,8,9}\n",
        "x.discard(5)\n",
        "print(x)\n"
      ],
      "metadata": {
        "colab": {
          "base_uri": "https://localhost:8080/"
        },
        "id": "rDr9If77apKN",
        "outputId": "b4460c40-22c3-4fd6-9e6d-c47264484971"
      },
      "execution_count": 9,
      "outputs": [
        {
          "output_type": "stream",
          "name": "stdout",
          "text": [
            "{1, 2, 3, 4, 7, 8, 9}\n"
          ]
        }
      ]
    },
    {
      "cell_type": "code",
      "source": [
        "y = {\"apple\",\"kiwi\",\"orange\"}\n",
        "y.remove(\"kiwi\")\n",
        "print(y)"
      ],
      "metadata": {
        "colab": {
          "base_uri": "https://localhost:8080/"
        },
        "id": "DKVqTwAFaw5L",
        "outputId": "b8253911-5ce4-4f66-ad64-fcd60e0e8036"
      },
      "execution_count": 10,
      "outputs": [
        {
          "output_type": "stream",
          "name": "stdout",
          "text": [
            "{'orange', 'apple'}\n"
          ]
        }
      ]
    },
    {
      "cell_type": "markdown",
      "source": [
        "**Python set of oprations**\n",
        "-  python set provides different built -in methods to perform mathamatical set operations like union,inersection ,subtraction,and symmetric difference."
      ],
      "metadata": {
        "id": "sVfSSWyebc20"
      }
    },
    {
      "cell_type": "markdown",
      "source": [
        "# **1. Union**\n",
        "-  the union of twosets A and B include all the elements of set A and B\n",
        "-  combines elements from two sets, removing duplicates."
      ],
      "metadata": {
        "id": "yHgv3fJ2cGIY"
      }
    },
    {
      "cell_type": "code",
      "source": [
        "x = {1,2,3,4,5,7,8,9}\n",
        "y = {3,4,5,6,7,8,9}\n",
        "z = x.union(y)\n",
        "print(z)"
      ],
      "metadata": {
        "colab": {
          "base_uri": "https://localhost:8080/"
        },
        "id": "84aDxg2ydBRe",
        "outputId": "101ed3f2-9c6b-4cc1-fcc5-4ffcb36fee81"
      },
      "execution_count": 11,
      "outputs": [
        {
          "output_type": "stream",
          "name": "stdout",
          "text": [
            "{1, 2, 3, 4, 5, 6, 7, 8, 9}\n"
          ]
        }
      ]
    },
    {
      "cell_type": "code",
      "source": [
        "a = {\"apple\",\"kiwi\",\"orange\"}\n",
        "b = {\"banana\",\"grapes\",\"kiwi\"}\n",
        "c = a.union(b)\n",
        "print(c)"
      ],
      "metadata": {
        "colab": {
          "base_uri": "https://localhost:8080/"
        },
        "id": "HpuHtx-vdbtv",
        "outputId": "eb4c4921-1fed-44e1-cde4-c7dc82c6c7de"
      },
      "execution_count": 12,
      "outputs": [
        {
          "output_type": "stream",
          "name": "stdout",
          "text": [
            "{'kiwi', 'apple', 'grapes', 'orange', 'banana'}\n"
          ]
        }
      ]
    },
    {
      "cell_type": "markdown",
      "source": [
        "# **2.set Intersection**\n",
        "-  the intersection of two sets A and B include the common elements between set A and B\n",
        "-  Returns common elements between two sets"
      ],
      "metadata": {
        "id": "8mE20ROUdnZC"
      }
    },
    {
      "cell_type": "code",
      "source": [
        "x = {0,1,2,4,5,6,7,8,9}\n",
        "y = {2,4,6,8,10,12,14}\n",
        "z = x.intersection(y)\n",
        "print(z)"
      ],
      "metadata": {
        "colab": {
          "base_uri": "https://localhost:8080/"
        },
        "id": "9AZqGhBveJXM",
        "outputId": "a224bc8c-7fc7-402f-a9b3-8700dea6e588"
      },
      "execution_count": 14,
      "outputs": [
        {
          "output_type": "stream",
          "name": "stdout",
          "text": [
            "{8, 2, 4, 6}\n"
          ]
        }
      ]
    },
    {
      "cell_type": "code",
      "source": [
        "y = {\"apple\",\"kiwi\",\"orange\"}\n",
        "b = {\"banana\",\"grapes\",\"kiwi\"}\n",
        "c = a.intersection(b)\n",
        "print(c)"
      ],
      "metadata": {
        "colab": {
          "base_uri": "https://localhost:8080/"
        },
        "id": "LD1zZfwbeifh",
        "outputId": "73f7944f-77c8-48b2-8156-6c6f9e703c00"
      },
      "execution_count": 15,
      "outputs": [
        {
          "output_type": "stream",
          "name": "stdout",
          "text": [
            "{'kiwi'}\n"
          ]
        }
      ]
    },
    {
      "cell_type": "markdown",
      "source": [
        "# **3.Difference between two sets**\n",
        "-  The difference between two sets A and B include elements of set A that  are not present on set B.\n",
        "-  Returns elements that are in the first set but not in the second."
      ],
      "metadata": {
        "id": "THLZNCfLeweN"
      }
    },
    {
      "cell_type": "code",
      "source": [
        "x ={1,2,3,4,5,7,8,9}\n",
        "y = {3,4,5,6,7,8,9}\n",
        "z = x.difference(y)\n",
        "print(z)\n"
      ],
      "metadata": {
        "colab": {
          "base_uri": "https://localhost:8080/"
        },
        "id": "F-ZhsbhGfSTL",
        "outputId": "90f3bd09-98af-4a48-9934-c478534c78e9"
      },
      "execution_count": 16,
      "outputs": [
        {
          "output_type": "stream",
          "name": "stdout",
          "text": [
            "{1, 2}\n"
          ]
        }
      ]
    },
    {
      "cell_type": "code",
      "source": [
        "y = {\"apple\",\"kiwi\",\"orange\"}\n",
        "b = {\"banana\",\"grapes\",\"kiwi\"}\n",
        "c = a.difference(b)\n",
        "print(c)"
      ],
      "metadata": {
        "colab": {
          "base_uri": "https://localhost:8080/"
        },
        "id": "YMnqpAmafqQN",
        "outputId": "9adaca60-0798-4757-9644-8c348d8e8b8b"
      },
      "execution_count": 17,
      "outputs": [
        {
          "output_type": "stream",
          "name": "stdout",
          "text": [
            "{'orange', 'apple'}\n"
          ]
        }
      ]
    },
    {
      "cell_type": "markdown",
      "source": [
        "# **4. Set Symmetric Difference**\n",
        "-  Set Symmetric Difference between two sets A and B includes all elements of A and B without the common elements.\n",
        "-  returns elements that are in either of the sets, but not in both."
      ],
      "metadata": {
        "id": "AIZfvjQffwlr"
      }
    },
    {
      "cell_type": "code",
      "source": [
        "x ={1,2,3,4,5,7,8,9}\n",
        "y = {3,4,5,6,7,8,9}\n",
        "z = x.symmetric_difference(y)\n",
        "print(z)"
      ],
      "metadata": {
        "colab": {
          "base_uri": "https://localhost:8080/"
        },
        "id": "_tkHF3JNhOdZ",
        "outputId": "5bb91177-5632-4cb7-865c-7ac99b3e446e"
      },
      "execution_count": 18,
      "outputs": [
        {
          "output_type": "stream",
          "name": "stdout",
          "text": [
            "{1, 2, 6}\n"
          ]
        }
      ]
    },
    {
      "cell_type": "code",
      "source": [
        "a = {\"apple\",\"kiwi\",\"orange\",\"kiwi\"}\n",
        "b = {\"banana\",\"grapes\",\"kiwi\"}\n",
        "c = a.symmetric_difference(b)\n",
        "print(c)"
      ],
      "metadata": {
        "colab": {
          "base_uri": "https://localhost:8080/"
        },
        "id": "o0CiCCTMhTGE",
        "outputId": "1685fbf8-ceea-445f-dd51-645bfb389ae5"
      },
      "execution_count": 19,
      "outputs": [
        {
          "output_type": "stream",
          "name": "stdout",
          "text": [
            "{'grapes', 'apple', 'orange', 'banana'}\n"
          ]
        }
      ]
    },
    {
      "cell_type": "markdown",
      "source": [
        "# **Methods of sets**\n",
        "**add()**\t \tAdds an element to the set\n",
        "\n",
        "**clear()**\t \tRemoves all the elements from the set\n",
        "\n",
        "**copy()**\t \tReturns a copy of the set\n",
        "\n",
        "**difference()**\t-\tReturns a set containing the difference between two or more sets\n",
        "\n",
        "**difference_update()**\t-=\tRemoves the items in this set that are also included in another, specified set\n",
        "\n",
        "**discard()** \tRemove the specified item\n",
        "\n",
        "**intersection()**\t&\tReturns a set, that is the intersection of two other sets\n",
        "\n",
        "**intersection_update()** &=\tRemoves the items in this set that are not present in other, specified set(s)"
      ],
      "metadata": {
        "id": "somNBPBaki2S"
      }
    },
    {
      "cell_type": "code",
      "source": [
        "x = {\"apple\",\"kiwi\",\"orange\"}\n",
        "x.add(\"banana\")\n",
        "print(x)"
      ],
      "metadata": {
        "colab": {
          "base_uri": "https://localhost:8080/"
        },
        "id": "UiExrs_Um8Ro",
        "outputId": "f9d91e05-e446-4dd3-9f1a-e079794f9881"
      },
      "execution_count": 8,
      "outputs": [
        {
          "output_type": "stream",
          "name": "stdout",
          "text": [
            "{'apple', 'orange', 'banana', 'kiwi'}\n"
          ]
        }
      ]
    },
    {
      "cell_type": "code",
      "source": [
        "x = {\"apple\",\"kiwi\",\"orange\"}\n",
        "x.clear()\n",
        "print(x)"
      ],
      "metadata": {
        "colab": {
          "base_uri": "https://localhost:8080/"
        },
        "id": "zK1AlS07nGd6",
        "outputId": "186d2271-ed37-46e5-d6ab-f66025c6defe"
      },
      "execution_count": 9,
      "outputs": [
        {
          "output_type": "stream",
          "name": "stdout",
          "text": [
            "set()\n"
          ]
        }
      ]
    },
    {
      "cell_type": "code",
      "source": [
        "x = {\"apple\",\"kiwi\",\"orange\"}\n",
        "y = x.copy()\n",
        "print(y)"
      ],
      "metadata": {
        "colab": {
          "base_uri": "https://localhost:8080/"
        },
        "id": "LgFgVKEEnJjj",
        "outputId": "cd36f71f-1fc1-4867-ef73-9fdf9ddc79c3"
      },
      "execution_count": 10,
      "outputs": [
        {
          "output_type": "stream",
          "name": "stdout",
          "text": [
            "{'apple', 'orange', 'kiwi'}\n"
          ]
        }
      ]
    },
    {
      "cell_type": "code",
      "source": [
        "z = {\"apple\",\"kiwi\",\"orange\",\"kiwi\"}\n",
        "b = {\"banana\",\"grapes\",\"kiwi\"}\n",
        "c = z.difference(b)\n",
        "print(c)"
      ],
      "metadata": {
        "colab": {
          "base_uri": "https://localhost:8080/"
        },
        "id": "1BvB2AtknNLz",
        "outputId": "06425a4f-0aea-4b1e-f5c3-404281a894b5"
      },
      "execution_count": 11,
      "outputs": [
        {
          "output_type": "stream",
          "name": "stdout",
          "text": [
            "{'apple', 'orange'}\n"
          ]
        }
      ]
    },
    {
      "cell_type": "code",
      "source": [
        "a = {\"apple\",\"kiwi\",\"orange\",\"kiwi\"}\n",
        "b = {\"banana\",\"grapes\",\"kiwi\"}\n",
        "a.difference_update(b)\n",
        "print(a)\n"
      ],
      "metadata": {
        "colab": {
          "base_uri": "https://localhost:8080/"
        },
        "id": "5Dzqn_rinX3n",
        "outputId": "6bd19f28-5ba1-4093-ed21-5f4315c6913c"
      },
      "execution_count": 12,
      "outputs": [
        {
          "output_type": "stream",
          "name": "stdout",
          "text": [
            "{'apple', 'orange'}\n"
          ]
        }
      ]
    },
    {
      "cell_type": "code",
      "source": [
        "s = {\"apple\",\"kiwi\",\"orange\"}\n",
        "s.discard(\"kiwi\")\n",
        "print(s)"
      ],
      "metadata": {
        "colab": {
          "base_uri": "https://localhost:8080/"
        },
        "id": "HOYGbpZsnbj4",
        "outputId": "9ccedb20-e886-443d-cce7-20792201d7a3"
      },
      "execution_count": 13,
      "outputs": [
        {
          "output_type": "stream",
          "name": "stdout",
          "text": [
            "{'apple', 'orange'}\n"
          ]
        }
      ]
    },
    {
      "cell_type": "code",
      "source": [
        "n = {\"apple\",\"kiwi\",\"orange\"}\n",
        "m = {\"banana\",\"grapes\",\"kiwi\"}\n",
        "o = n.intersection(m)\n",
        "print(o)"
      ],
      "metadata": {
        "colab": {
          "base_uri": "https://localhost:8080/"
        },
        "id": "welrw5e7ngFI",
        "outputId": "9ffa9342-fd67-47bb-eda9-45233db76a7a"
      },
      "execution_count": 14,
      "outputs": [
        {
          "output_type": "stream",
          "name": "stdout",
          "text": [
            "{'kiwi'}\n"
          ]
        }
      ]
    },
    {
      "cell_type": "code",
      "source": [
        "b = {\"apple\",\"kiwi\",\"orange\"}\n",
        "c = {\"banana\",\"grapes\",\"kiwi\"}\n",
        "b.intersection_update(c)\n",
        "print(b)"
      ],
      "metadata": {
        "colab": {
          "base_uri": "https://localhost:8080/"
        },
        "id": "4ncBU7yKnjaJ",
        "outputId": "5f1b1e9b-e178-4d57-8508-87751bc0dc67"
      },
      "execution_count": 15,
      "outputs": [
        {
          "output_type": "stream",
          "name": "stdout",
          "text": [
            "{'kiwi'}\n"
          ]
        }
      ]
    }
  ]
}