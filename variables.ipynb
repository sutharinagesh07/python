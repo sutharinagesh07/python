{
  "nbformat": 4,
  "nbformat_minor": 0,
  "metadata": {
    "colab": {
      "provenance": []
    },
    "kernelspec": {
      "name": "python3",
      "display_name": "Python 3"
    },
    "language_info": {
      "name": "python"
    }
  },
  "cells": [
    {
      "cell_type": "markdown",
      "source": [
        "**TASK 2**\n",
        "\n",
        "1) explain about variables\n",
        "\n",
        "2) rules of variables\n",
        "\n",
        "3) types of variables\n",
        "\n",
        "4) 10 examplesof each and every types &\n",
        "\n",
        " you need to print and identify the types"
      ],
      "metadata": {
        "id": "JFmckTEchu4Z"
      }
    },
    {
      "cell_type": "markdown",
      "source": [
        "# **1 .  EXPLAIN ABOUT VARIABLES**\n",
        "\n",
        "-    In Python, variables are containers that store data values and act as\n",
        "     placeholders for information that can be recalled later.\n",
        "-  They can be used to store a variety of data types, including integers,\n",
        "     strings, lists, and dictionaries"
      ],
      "metadata": {
        "id": "po5FxjGIKsdq"
      }
    },
    {
      "cell_type": "markdown",
      "source": [
        "# **2. RULES OF VARIABLES**\n",
        "  -   A Python variable name must start with a letter or the underscore character.\n",
        "  -  \n",
        "A Python variable name cannot start with a number.\n",
        "  -\n",
        "A Python variable name can only contain alpha-numeric characters and underscores (A-z, 0-9, and _ ).\n",
        "-\n",
        "Variable in Python names are case-sensitive (name, Name, and NAME are three different variables).\n",
        "  -\n",
        "The reserved words(keywords) in Python cannot be used to name the variable in Python."
      ],
      "metadata": {
        "id": "_wpzNglRdG9p"
      }
    },
    {
      "cell_type": "markdown",
      "source": [
        "**3.TYPES OF VARIABLES**\n",
        "-  single variables\n",
        "-  multiple variables\n",
        "\n"
      ],
      "metadata": {
        "id": "k32cLlbse8Q2"
      }
    },
    {
      "cell_type": "code",
      "source": [
        " # single variables"
      ],
      "metadata": {
        "id": "8uhwWszkMJ7V"
      },
      "execution_count": null,
      "outputs": []
    },
    {
      "cell_type": "code",
      "source": [
        " x = 759\n",
        " y = 1.6"
      ],
      "metadata": {
        "id": "n0V0tIBEMRGF"
      },
      "execution_count": null,
      "outputs": []
    },
    {
      "cell_type": "code",
      "source": [
        "print (x)\n"
      ],
      "metadata": {
        "colab": {
          "base_uri": "https://localhost:8080/"
        },
        "id": "3f3bfp4eMZ29",
        "outputId": "a37af75e-eea8-4e51-bfcf-029a90458444"
      },
      "execution_count": null,
      "outputs": [
        {
          "output_type": "stream",
          "name": "stdout",
          "text": [
            "759\n"
          ]
        }
      ]
    },
    {
      "cell_type": "code",
      "source": [
        "print (y)"
      ],
      "metadata": {
        "colab": {
          "base_uri": "https://localhost:8080/"
        },
        "id": "rhbqGFiTMd3u",
        "outputId": "c477a8e1-3dcc-44d8-d9a0-0e45af8610f2"
      },
      "execution_count": null,
      "outputs": [
        {
          "output_type": "stream",
          "name": "stdout",
          "text": [
            "1.6\n"
          ]
        }
      ]
    },
    {
      "cell_type": "code",
      "source": [
        "print (type(x))"
      ],
      "metadata": {
        "colab": {
          "base_uri": "https://localhost:8080/"
        },
        "id": "eu4_K1T7OXoX",
        "outputId": "5a131614-5b62-4e4c-f51d-5272782ea44f"
      },
      "execution_count": null,
      "outputs": [
        {
          "output_type": "stream",
          "name": "stdout",
          "text": [
            "<class 'int'>\n"
          ]
        }
      ]
    },
    {
      "cell_type": "code",
      "source": [
        "print (type(y))\n"
      ],
      "metadata": {
        "colab": {
          "base_uri": "https://localhost:8080/"
        },
        "id": "VKv8PUbbOyKu",
        "outputId": "cabbf54d-9b6e-4f4e-9663-bcd0dfe786b1"
      },
      "execution_count": null,
      "outputs": [
        {
          "output_type": "stream",
          "name": "stdout",
          "text": [
            "<class 'float'>\n"
          ]
        }
      ]
    },
    {
      "cell_type": "markdown",
      "source": [
        " **multiple variables**\n",
        "\n",
        " Two types\n",
        "\n",
        " -   1 . multi  to multi\n",
        " -   2 . multi to one\n"
      ],
      "metadata": {
        "id": "i1mi4-3YO-5k"
      }
    },
    {
      "cell_type": "code",
      "source": [
        " # multi to multi\n",
        " x,y,z = 10,11,12\n",
        " print (x)\n",
        " print (y)\n",
        " print (z)"
      ],
      "metadata": {
        "colab": {
          "base_uri": "https://localhost:8080/"
        },
        "id": "uw9lYMGDPvUM",
        "outputId": "59783b19-c5da-426c-d941-9b4f320dee42"
      },
      "execution_count": null,
      "outputs": [
        {
          "output_type": "stream",
          "name": "stdout",
          "text": [
            "10\n",
            "11\n",
            "12\n"
          ]
        }
      ]
    },
    {
      "cell_type": "code",
      "source": [
        " # multi to one\n",
        " x = y = z = 100\n",
        " print (x)\n",
        " print (y)\n",
        " print (z)"
      ],
      "metadata": {
        "colab": {
          "base_uri": "https://localhost:8080/"
        },
        "id": "vdXrhA1nRb6g",
        "outputId": "0288a0e0-7896-4bb8-d45a-95adaa4ab956"
      },
      "execution_count": null,
      "outputs": [
        {
          "output_type": "stream",
          "name": "stdout",
          "text": [
            "100\n",
            "100\n",
            "100\n"
          ]
        }
      ]
    },
    {
      "cell_type": "markdown",
      "source": [
        "4.  10 examplesof each and every types &\n",
        "\n",
        "you need to print and identify the types"
      ],
      "metadata": {
        "id": "5YAnrActRp5n"
      }
    },
    {
      "cell_type": "markdown",
      "source": [
        " ** single variables**\n"
      ],
      "metadata": {
        "id": "uwkEl6MRaP1h"
      }
    },
    {
      "cell_type": "code",
      "source": [],
      "metadata": {
        "id": "uiyL6DBOaPMS"
      },
      "execution_count": null,
      "outputs": []
    },
    {
      "cell_type": "code",
      "source": [
        " a = 47\n",
        " print (a)\n",
        " print (type(a))"
      ],
      "metadata": {
        "colab": {
          "base_uri": "https://localhost:8080/"
        },
        "id": "vVUc7GU2UVCw",
        "outputId": "661bd1df-7c3b-446d-a40d-7b15e9213876"
      },
      "execution_count": null,
      "outputs": [
        {
          "output_type": "stream",
          "name": "stdout",
          "text": [
            "47\n",
            "<class 'int'>\n"
          ]
        }
      ]
    },
    {
      "cell_type": "code",
      "source": [
        "saikiran = 1.6\n",
        "print (saikiran)\n",
        "print (type(saikiran))"
      ],
      "metadata": {
        "colab": {
          "base_uri": "https://localhost:8080/"
        },
        "id": "KLvVyVRwVLM9",
        "outputId": "76c06fd1-855d-477b-843f-b828f894e4d3"
      },
      "execution_count": null,
      "outputs": [
        {
          "output_type": "stream",
          "name": "stdout",
          "text": [
            "1.6\n",
            "<class 'float'>\n"
          ]
        }
      ]
    },
    {
      "cell_type": "code",
      "source": [
        "raju = 11545655\n",
        "print (raju)\n",
        "print (type(raju))"
      ],
      "metadata": {
        "colab": {
          "base_uri": "https://localhost:8080/"
        },
        "id": "rV2K2qcOViLL",
        "outputId": "78e4ae2c-fe38-4e60-9c6f-43363dfc2416"
      },
      "execution_count": null,
      "outputs": [
        {
          "output_type": "stream",
          "name": "stdout",
          "text": [
            "11545655\n",
            "<class 'int'>\n"
          ]
        }
      ]
    },
    {
      "cell_type": "code",
      "source": [
        " x = 2 + 7j\n",
        " print (x)\n",
        " print (type(x))"
      ],
      "metadata": {
        "colab": {
          "base_uri": "https://localhost:8080/"
        },
        "id": "C1vQdiDqVrNj",
        "outputId": "4de39889-f318-42ef-b04e-dd13b497c1e5"
      },
      "execution_count": null,
      "outputs": [
        {
          "output_type": "stream",
          "name": "stdout",
          "text": [
            "(2+7j)\n",
            "<class 'complex'>\n"
          ]
        }
      ]
    },
    {
      "cell_type": "code",
      "source": [
        "lucky =  0.7777\n",
        "print (lucky)\n",
        "print (type(lucky))\n"
      ],
      "metadata": {
        "colab": {
          "base_uri": "https://localhost:8080/"
        },
        "id": "5R9Yyu6gWQHu",
        "outputId": "58618b2a-4d4e-4072-ca8e-e45a2d97ef73"
      },
      "execution_count": null,
      "outputs": [
        {
          "output_type": "stream",
          "name": "stdout",
          "text": [
            "0.7777\n",
            "<class 'float'>\n"
          ]
        }
      ]
    },
    {
      "cell_type": "code",
      "source": [
        " sai = 4+18j\n",
        " print (sai)\n",
        " print (type(sai))"
      ],
      "metadata": {
        "colab": {
          "base_uri": "https://localhost:8080/"
        },
        "id": "pt9HmdzfWyTZ",
        "outputId": "8f1b5c3b-94b1-46a2-a4c2-f0c1b3ab0053"
      },
      "execution_count": null,
      "outputs": [
        {
          "output_type": "stream",
          "name": "stdout",
          "text": [
            "(4+18j)\n",
            "<class 'complex'>\n"
          ]
        }
      ]
    },
    {
      "cell_type": "code",
      "source": [
        " x = 2.6677\n",
        " print (x)\n",
        " print (type(x))\n"
      ],
      "metadata": {
        "colab": {
          "base_uri": "https://localhost:8080/"
        },
        "id": "Zn0Z42xeXIKn",
        "outputId": "9807baf9-63f8-412d-d307-416f1e95d672"
      },
      "execution_count": null,
      "outputs": [
        {
          "output_type": "stream",
          "name": "stdout",
          "text": [
            "2.6677\n",
            "<class 'float'>\n"
          ]
        }
      ]
    },
    {
      "cell_type": "code",
      "source": [
        "shiva = 4569874492135741\n",
        "print (shiva)\n",
        "print (type(shiva))\n"
      ],
      "metadata": {
        "colab": {
          "base_uri": "https://localhost:8080/"
        },
        "id": "YwtUV9kNXQAu",
        "outputId": "58a07877-7630-400e-ff45-a3dee96fc0de"
      },
      "execution_count": null,
      "outputs": [
        {
          "output_type": "stream",
          "name": "stdout",
          "text": [
            "4569874492135741\n",
            "<class 'int'>\n"
          ]
        }
      ]
    },
    {
      "cell_type": "code",
      "source": [
        "z = 100\n",
        "print (z)\n",
        "print (type(z))"
      ],
      "metadata": {
        "colab": {
          "base_uri": "https://localhost:8080/"
        },
        "id": "fDva2608XbDh",
        "outputId": "b8eb88f1-2cd1-46e2-fcff-a78b77b2b1cd"
      },
      "execution_count": null,
      "outputs": [
        {
          "output_type": "stream",
          "name": "stdout",
          "text": [
            "100\n",
            "<class 'int'>\n"
          ]
        }
      ]
    },
    {
      "cell_type": "markdown",
      "source": [
        "# 2. **multiples variables**\n",
        " -  multi to multi\n",
        " -  milti to one\n",
        " -  one to multi"
      ],
      "metadata": {
        "id": "t7YBfl39bEbx"
      }
    },
    {
      "cell_type": "code",
      "source": [
        " # multi to multi\n",
        " x , y, z = 10,11,12\n",
        " print (x)\n",
        " print (y)\n",
        " print (z)\n",
        " print (type(x))\n",
        " print (type(y))\n",
        " print (type(z))"
      ],
      "metadata": {
        "colab": {
          "base_uri": "https://localhost:8080/"
        },
        "id": "K2VbdeV5bU0n",
        "outputId": "15a4b014-6475-409b-99f1-6bc4fac6f437"
      },
      "execution_count": null,
      "outputs": [
        {
          "output_type": "stream",
          "name": "stdout",
          "text": [
            "10\n",
            "11\n",
            "12\n",
            "<class 'int'>\n",
            "<class 'int'>\n",
            "<class 'int'>\n"
          ]
        }
      ]
    },
    {
      "cell_type": "code",
      "source": [
        "a,b,c = 100,0.6,2+7j\n",
        "print (a)\n",
        "print (b)\n",
        "print (c)\n",
        "print (type(a))\n",
        "print (type(b))\n",
        "print (type(c))"
      ],
      "metadata": {
        "colab": {
          "base_uri": "https://localhost:8080/"
        },
        "id": "sG8pcU-8cTq8",
        "outputId": "d0858905-59d3-4b43-f268-dfc7fa0987b6"
      },
      "execution_count": null,
      "outputs": [
        {
          "output_type": "stream",
          "name": "stdout",
          "text": [
            "100\n",
            "0.6\n",
            "(2+7j)\n",
            "<class 'int'>\n",
            "<class 'float'>\n",
            "<class 'complex'>\n"
          ]
        }
      ]
    },
    {
      "cell_type": "code",
      "source": [
        " # multi to one\n",
        " x= y = z = 100\n",
        " print (x)\n",
        " print (y)\n",
        " print (z)\n",
        " print (type(x))\n",
        " print (type(y))\n",
        " print (type(z))"
      ],
      "metadata": {
        "colab": {
          "base_uri": "https://localhost:8080/"
        },
        "id": "osIYVIirckyg",
        "outputId": "817b6609-2d38-4b6e-e570-9e11e9b9e888"
      },
      "execution_count": null,
      "outputs": [
        {
          "output_type": "stream",
          "name": "stdout",
          "text": [
            "100\n",
            "100\n",
            "100\n",
            "<class 'int'>\n",
            "<class 'int'>\n",
            "<class 'int'>\n"
          ]
        }
      ]
    },
    {
      "cell_type": "code",
      "source": [
        "bhanu = shiva = raju = 0.6369\n",
        "print (bhanu)\n",
        "print (shiva)\n",
        "print (raju)\n",
        "print (type(bhanu))\n",
        "print (type(shiva))\n",
        "print (type(raju))"
      ],
      "metadata": {
        "colab": {
          "base_uri": "https://localhost:8080/"
        },
        "id": "7uTMfLASc8Rc",
        "outputId": "6f573339-36ad-4a66-c582-67b91a7b92bd"
      },
      "execution_count": null,
      "outputs": [
        {
          "output_type": "stream",
          "name": "stdout",
          "text": [
            "0.6369\n",
            "0.6369\n",
            "0.6369\n",
            "<class 'float'>\n",
            "<class 'float'>\n",
            "<class 'float'>\n"
          ]
        }
      ]
    },
    {
      "cell_type": "code",
      "source": [
        "gri = nsh = sbi = 77 + 7j\n",
        "print (gri)\n",
        "print (nsh)\n",
        "print (sbi)\n",
        "print (type(gri))\n",
        "print (type(nsh))\n",
        "print (type(sbi))"
      ],
      "metadata": {
        "colab": {
          "base_uri": "https://localhost:8080/"
        },
        "id": "j_LpYwMedq1y",
        "outputId": "0b22b0bc-3ab1-4e0f-ffcf-b0b2c90dbe46"
      },
      "execution_count": null,
      "outputs": [
        {
          "output_type": "stream",
          "name": "stdout",
          "text": [
            "(77+7j)\n",
            "(77+7j)\n",
            "(77+7j)\n",
            "<class 'complex'>\n",
            "<class 'complex'>\n",
            "<class 'complex'>\n"
          ]
        }
      ]
    }
  ]
}