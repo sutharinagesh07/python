{
  "cells": [
    {
      "cell_type": "code",
      "execution_count": null,
      "metadata": {
        "id": "yq2tZkvMNkHF"
      },
      "outputs": [],
      "source": [
        "# define about strings\n",
        "# create 10 elements using '' and \"\"\n",
        "# create a string 50 characters and acsess any 10 using index and apply slicing any 2 examples\n",
        "# apply operations\n",
        "# explain about strings formats\n",
        "# string methods"
      ]
    },
    {
      "cell_type": "markdown",
      "metadata": {
        "id": "EQNOw30hFXDy"
      },
      "source": [
        "# **Define About Strings**\n",
        "-  a string is a sequence of elements.\n",
        "-  single quotes or double quotes to represent a string.\n",
        "-  strings are one of the most commonly used data types.\n",
        "-  you can perform various operations and are methods to manuplate and work with string."
      ]
    },
    {
      "cell_type": "code",
      "execution_count": null,
      "metadata": {
        "colab": {
          "base_uri": "https://localhost:8080/"
        },
        "id": "xIq07cncHQL4",
        "outputId": "dfa43076-a9bf-4f34-c80c-dc3bc2d6c65d"
      },
      "outputs": [
        {
          "name": "stdout",
          "output_type": "stream",
          "text": [
            "<class 'str'>\n"
          ]
        }
      ],
      "source": [
        "# create 10 elements using '' and \"\"\n",
        "# single quotation\n",
        "str1 = 'hello'\n",
        "print(type(str1))"
      ]
    },
    {
      "cell_type": "code",
      "execution_count": null,
      "metadata": {
        "colab": {
          "base_uri": "https://localhost:8080/"
        },
        "id": "VwZADA-jKHkS",
        "outputId": "d56ccf32-0504-4065-efde-cfc6cc68c7e2"
      },
      "outputs": [
        {
          "name": "stdout",
          "output_type": "stream",
          "text": [
            "<class 'str'>\n"
          ]
        }
      ],
      "source": [
        "str2 = 'hello world'\n",
        "print(type(str2))"
      ]
    },
    {
      "cell_type": "code",
      "execution_count": null,
      "metadata": {
        "colab": {
          "base_uri": "https://localhost:8080/"
        },
        "id": "Lqvrw5Q4KQUZ",
        "outputId": "b2c227b9-66ff-4c58-a3ae-8987d6b86358"
      },
      "outputs": [
        {
          "name": "stdout",
          "output_type": "stream",
          "text": [
            "<class 'str'>\n"
          ]
        }
      ],
      "source": [
        "str3 = 'devara'\n",
        "print(type(str3))"
      ]
    },
    {
      "cell_type": "code",
      "execution_count": null,
      "metadata": {
        "colab": {
          "base_uri": "https://localhost:8080/"
        },
        "id": "7GTnfKnhKbza",
        "outputId": "fff52b1e-b385-443d-9ec8-04d7908ff874"
      },
      "outputs": [
        {
          "name": "stdout",
          "output_type": "stream",
          "text": [
            "<class 'str'>\n"
          ]
        }
      ],
      "source": [
        "# double quotation\n",
        "a = \"hello\"\n",
        "print(type(a))"
      ]
    },
    {
      "cell_type": "code",
      "execution_count": null,
      "metadata": {
        "colab": {
          "base_uri": "https://localhost:8080/"
        },
        "id": "SHSBCyxBKy7w",
        "outputId": "bfdee24e-aca7-4bdb-d2b3-629c909e24f3"
      },
      "outputs": [
        {
          "name": "stdout",
          "output_type": "stream",
          "text": [
            "<class 'str'>\n"
          ]
        }
      ],
      "source": [
        "x =\"ramanaraju\"\n",
        "print(type(x))"
      ]
    },
    {
      "cell_type": "code",
      "execution_count": null,
      "metadata": {
        "colab": {
          "base_uri": "https://localhost:8080/"
        },
        "id": "QKh7XLgPLpti",
        "outputId": "ca3e79af-9f5e-46dd-a063-d5d84651f81c"
      },
      "outputs": [
        {
          "name": "stdout",
          "output_type": "stream",
          "text": [
            "<class 'str'>\n"
          ]
        }
      ],
      "source": [
        "z = \"rajinikanth\"\n",
        "print(type(z))"
      ]
    },
    {
      "cell_type": "code",
      "execution_count": null,
      "metadata": {
        "id": "wQI_A_CHPEAt",
        "colab": {
          "base_uri": "https://localhost:8080/"
        },
        "outputId": "333f1b6b-3a33-45d5-b6aa-f9aef5520f1b"
      },
      "outputs": [
        {
          "output_type": "stream",
          "name": "stdout",
          "text": [
            "A\n",
            " \n",
            "C\n",
            "o\n",
            "m\n"
          ]
        }
      ],
      "source": [
        "# create a string 50 characters and acsess any 10 using index and apply slicing any 2 examples\n",
        "\n",
        "word =\"A Computer Science portal for geeks\"\n",
        "print(word[0])\n",
        "print(word[1])\n",
        "print(word[2])\n",
        "print(word[3])\n",
        "print(word[4])"
      ]
    },
    {
      "cell_type": "code",
      "source": [
        "# slicing\n",
        "print(word[15:25])\n",
        "print(word[10:20])"
      ],
      "metadata": {
        "colab": {
          "base_uri": "https://localhost:8080/"
        },
        "id": "U4kdo6WDCjVB",
        "outputId": "dc70657a-807a-4eaf-f20d-181ac7d2db87"
      },
      "execution_count": null,
      "outputs": [
        {
          "output_type": "stream",
          "name": "stdout",
          "text": [
            "nce portal\n",
            " Science p\n"
          ]
        }
      ]
    },
    {
      "cell_type": "code",
      "execution_count": null,
      "metadata": {
        "id": "Qvf6I1zUSnsN"
      },
      "outputs": [],
      "source": [
        "# apply operations\n",
        "\n",
        "1. Concatenation\n",
        "2. Repetition\n",
        "3. Indexing\n",
        "4. Slicing"
      ]
    },
    {
      "cell_type": "markdown",
      "metadata": {
        "id": "_R5Aql6RVKST"
      },
      "source": [
        "# 1. concatenation\n",
        "\n",
        "-   combining two or more strings."
      ]
    },
    {
      "cell_type": "code",
      "execution_count": null,
      "metadata": {
        "colab": {
          "base_uri": "https://localhost:8080/"
        },
        "id": "HabjSJOUS-5s",
        "outputId": "c7508c6f-a91d-4e25-a793-9648f28c86f9"
      },
      "outputs": [
        {
          "name": "stdout",
          "output_type": "stream",
          "text": [
            "helloworld\n"
          ]
        }
      ],
      "source": [
        "str1 = \"hello\"\n",
        "str2 = \"world\"\n",
        "str3 = str1 + str2\n",
        "print(str3)"
      ]
    },
    {
      "cell_type": "code",
      "execution_count": null,
      "metadata": {
        "colab": {
          "base_uri": "https://localhost:8080/"
        },
        "id": "GV241PbyVUv2",
        "outputId": "b73cf2ff-493b-4aef-dea4-254f3a0e590f"
      },
      "outputs": [
        {
          "name": "stdout",
          "output_type": "stream",
          "text": [
            "python is programming language\n"
          ]
        }
      ],
      "source": [
        "x =\"python is\"\n",
        "y = \"programming language\"\n",
        "z = x +\" \" + y\n",
        "print(z)"
      ]
    },
    {
      "cell_type": "code",
      "execution_count": null,
      "metadata": {
        "colab": {
          "base_uri": "https://localhost:8080/"
        },
        "id": "K7Qh5aG_WDuv",
        "outputId": "2358a7e7-10d5-4504-de6a-9794334671af"
      },
      "outputs": [
        {
          "name": "stdout",
          "output_type": "stream",
          "text": [
            "string is a sequence of characters\n"
          ]
        }
      ],
      "source": [
        "s = \"string is a \"\n",
        "t = \"sequence of characters\"\n",
        "u = s + t\n",
        "print(u)"
      ]
    },
    {
      "cell_type": "markdown",
      "metadata": {
        "id": "AmobJx6UWZZq"
      },
      "source": [
        "# **2. Repetition**\n",
        "-  Repeating a multiple times."
      ]
    },
    {
      "cell_type": "code",
      "execution_count": null,
      "metadata": {
        "colab": {
          "base_uri": "https://localhost:8080/"
        },
        "id": "g9fGa7jiWrgG",
        "outputId": "ce425d36-5681-4543-d9de-5f2727f3e35f"
      },
      "outputs": [
        {
          "name": "stdout",
          "output_type": "stream",
          "text": [
            "welcome to telangana welcome to telangana welcome to telangana \n"
          ]
        }
      ],
      "source": [
        "str1 =\"welcome to telangana \"\n",
        "str2 = str1 * 3\n",
        "print(str2)"
      ]
    },
    {
      "cell_type": "code",
      "execution_count": null,
      "metadata": {
        "colab": {
          "base_uri": "https://localhost:8080/"
        },
        "id": "Ns0VuvOOZDOa",
        "outputId": "c216d638-fb6e-40ee-d5ff-9cea555de606"
      },
      "outputs": [
        {
          "name": "stdout",
          "output_type": "stream",
          "text": [
            "welcome to telangana. \n",
            "welcome to telangana. \n",
            "welcome to telangana. \n",
            "\n"
          ]
        }
      ],
      "source": [
        "str1 = \"welcome to telangana. \\n\"\n",
        "str2 = str1 * 3\n",
        "print(str2)"
      ]
    },
    {
      "cell_type": "code",
      "execution_count": null,
      "metadata": {
        "colab": {
          "base_uri": "https://localhost:8080/"
        },
        "id": "_I9n9XOzZeuA",
        "outputId": "6cb3740d-4fae-40c2-a84b-c72739375b81"
      },
      "outputs": [
        {
          "name": "stdout",
          "output_type": "stream",
          "text": [
            "thank you visit again. \n",
            "thank you visit again. \n",
            "thank you visit again. \n",
            "thank you visit again. \n",
            "thank you visit again. \n",
            "thank you visit again. \n",
            "\n"
          ]
        }
      ],
      "source": [
        "x = \"thank you visit again. \\n\"\n",
        "y = x * 6\n",
        "print(y)"
      ]
    },
    {
      "cell_type": "code",
      "execution_count": null,
      "metadata": {
        "colab": {
          "base_uri": "https://localhost:8080/"
        },
        "id": "J9dJt7DxZ7pf",
        "outputId": "f72024aa-d963-40e4-efe3-7ee233fcdb6b"
      },
      "outputs": [
        {
          "name": "stdout",
          "output_type": "stream",
          "text": [
            "python is a programming language \n",
            " easy to learn. \n",
            "python is a programming language \n",
            " easy to learn. \n",
            "python is a programming language \n",
            " easy to learn. \n",
            "python is a programming language \n",
            " easy to learn. \n",
            "python is a programming language \n",
            " easy to learn. \n",
            "\n"
          ]
        }
      ],
      "source": [
        "a = \"python is a programming language \\n easy to learn. \\n\"\n",
        "b = a * 5\n",
        "print(b)"
      ]
    },
    {
      "cell_type": "markdown",
      "metadata": {
        "id": "YR4AXsOEbWp7"
      },
      "source": [
        "# **3. Indexing**\n",
        "-  accessing individual characters in string."
      ]
    },
    {
      "cell_type": "code",
      "execution_count": null,
      "metadata": {
        "colab": {
          "base_uri": "https://localhost:8080/"
        },
        "id": "BGTAwB1tb_xF",
        "outputId": "878fe8be-1d05-4ab5-f7e8-b7607a326c56"
      },
      "outputs": [
        {
          "name": "stdout",
          "output_type": "stream",
          "text": [
            "w\n",
            "y\n"
          ]
        }
      ],
      "source": [
        "x = \"hello welcome to python\"\n",
        "print(x[6])\n",
        "print(x[-5])"
      ]
    },
    {
      "cell_type": "code",
      "execution_count": null,
      "metadata": {
        "colab": {
          "base_uri": "https://localhost:8080/"
        },
        "id": "Apx5tG04c3li",
        "outputId": "986e8fe7-e628-4db2-a7d0-48a15f79cd79"
      },
      "outputs": [
        {
          "name": "stdout",
          "output_type": "stream",
          "text": [
            "a\n",
            "e\n"
          ]
        }
      ],
      "source": [
        "z = \"string is a sequence of characters\"\n",
        "print(z[10])\n",
        "print(z[-15])"
      ]
    },
    {
      "cell_type": "markdown",
      "metadata": {
        "id": "Jgj7KK1K3nQF"
      },
      "source": [
        "# **4. Slicing**\n",
        "-  Extracting a substring from a string."
      ]
    },
    {
      "cell_type": "code",
      "execution_count": null,
      "metadata": {
        "colab": {
          "base_uri": "https://localhost:8080/"
        },
        "id": "cK4xBGvx4C3O",
        "outputId": "6ce81314-2542-4efe-a94a-5537b504bed4"
      },
      "outputs": [
        {
          "name": "stdout",
          "output_type": "stream",
          "text": [
            "so funny\n"
          ]
        }
      ],
      "source": [
        "x = \"pyhton is so funny and is awesome\"\n",
        "y = x[10:18]\n",
        "print(y)"
      ]
    },
    {
      "cell_type": "code",
      "execution_count": null,
      "metadata": {
        "colab": {
          "base_uri": "https://localhost:8080/"
        },
        "id": "BgVjmx_5458T",
        "outputId": "711c1990-eb10-43c9-9ca8-d58e45faab98"
      },
      "outputs": [
        {
          "name": "stdout",
          "output_type": "stream",
          "text": [
            "web applications\n"
          ]
        }
      ],
      "source": [
        "z = \"Python can be used on a server to create web applications\"\n",
        "a = z[-16:]\n",
        "print(a)"
      ]
    },
    {
      "cell_type": "markdown",
      "metadata": {
        "id": "w09-94F752cx"
      },
      "source": [
        "# explain about strings formats\n",
        "-  old style formatting (% operator)\n",
        "-  format method\n",
        "-  string interpolation (f-strings-python3.6 and later)"
      ]
    },
    {
      "cell_type": "markdown",
      "metadata": {
        "id": "ePA4lMRI6npW"
      },
      "source": [
        "# 1. **old style formatting (% operator)**\n",
        "-  uses the % operator and placeholders"
      ]
    },
    {
      "cell_type": "code",
      "execution_count": null,
      "metadata": {
        "colab": {
          "base_uri": "https://localhost:8080/"
        },
        "id": "UEjPxHuB67Rr",
        "outputId": "6239a438-0d76-479a-c717-2ef29ada88af"
      },
      "outputs": [
        {
          "name": "stdout",
          "output_type": "stream",
          "text": [
            "my name is sai kiran and i am 27 years old\n"
          ]
        }
      ],
      "source": [
        "name = \"sai kiran\"\n",
        "age = 27\n",
        "result = \"my name is %s and i am %d years old\" %(name,age)\n",
        "print(result)"
      ]
    },
    {
      "cell_type": "markdown",
      "metadata": {
        "id": "6UiFen-z8F1L"
      },
      "source": [
        "# 2.**format method**\n",
        "-  uses the format () method with placeholders."
      ]
    },
    {
      "cell_type": "code",
      "execution_count": null,
      "metadata": {
        "colab": {
          "base_uri": "https://localhost:8080/"
        },
        "id": "mjfxKEoj8bC3",
        "outputId": "0f3056c1-903c-49a7-bee5-32d8f9fa6954"
      },
      "outputs": [
        {
          "name": "stdout",
          "output_type": "stream",
          "text": [
            "my name is sai kiran and i am 27 years old\n"
          ]
        }
      ],
      "source": [
        "name = \"sai kiran\"\n",
        "age = 27\n",
        "result = \"my name is {} and i am {} years old\".format(name,age)\n",
        "print(result)"
      ]
    },
    {
      "cell_type": "markdown",
      "metadata": {
        "id": "Fg4Mo-jr8fmy"
      },
      "source": [
        "# **3.string interpolation (f-strings-python3.6 and later)**\n",
        "-  use f-strings,where expression inside curly braces{} are evaluted and replaced."
      ]
    },
    {
      "cell_type": "code",
      "execution_count": null,
      "metadata": {
        "colab": {
          "base_uri": "https://localhost:8080/"
        },
        "id": "GNpWl_9o9G8E",
        "outputId": "193281d0-4f4e-4d3f-9b7d-5aeda7106c74"
      },
      "outputs": [
        {
          "name": "stdout",
          "output_type": "stream",
          "text": [
            "my name is sai kiran and i am 27 years old and i am from sdpt\n"
          ]
        }
      ],
      "source": [
        "name = \"sai kiran\"\n",
        "age = 27\n",
        "location = \"sdpt\"\n",
        "result = f\"my name is {name} and i am {age} years old and i am from {location}\".format(name,age,location)\n",
        "print(result)"
      ]
    },
    {
      "cell_type": "markdown",
      "metadata": {
        "id": "fuT4qNUG-IQy"
      },
      "source": [
        "# **String Methods**\n",
        "1.**len**()\n",
        "\n",
        "-   Returns the length of the string."
      ]
    },
    {
      "cell_type": "code",
      "execution_count": null,
      "metadata": {
        "colab": {
          "base_uri": "https://localhost:8080/"
        },
        "id": "5ypPEh7U-t2R",
        "outputId": "fa27effd-1b9e-4a5a-daaf-1a725312a4a1"
      },
      "outputs": [
        {
          "name": "stdout",
          "output_type": "stream",
          "text": [
            "32\n"
          ]
        }
      ],
      "source": [
        "a = \"python is a programming language\"\n",
        "print(len(a))"
      ]
    },
    {
      "cell_type": "code",
      "execution_count": null,
      "metadata": {
        "colab": {
          "base_uri": "https://localhost:8080/"
        },
        "id": "4SrhGoZa_DVF",
        "outputId": "cab84d51-f28b-44a1-9eed-a2e3c48cdcd7"
      },
      "outputs": [
        {
          "name": "stdout",
          "output_type": "stream",
          "text": [
            "34\n"
          ]
        }
      ],
      "source": [
        "x = \"string is a sequence of characters\"\n",
        "print(len(x))"
      ]
    },
    {
      "cell_type": "code",
      "execution_count": null,
      "metadata": {
        "colab": {
          "base_uri": "https://localhost:8080/"
        },
        "id": "YyIvj2eZ_IZg",
        "outputId": "e0c485f6-1332-4b8a-cb98-c7c3ddc93186"
      },
      "outputs": [
        {
          "name": "stdout",
          "output_type": "stream",
          "text": [
            "59\n"
          ]
        }
      ],
      "source": [
        "z = \"string methods are used to manipulate and work with strings\"\n",
        "print(len(z))"
      ]
    },
    {
      "cell_type": "markdown",
      "metadata": {
        "id": "tUgVige5_NNz"
      },
      "source": [
        "## **2.Lower()  and  Upper ()**\n",
        "-  Converts the string to lowercase / upper case."
      ]
    },
    {
      "cell_type": "code",
      "execution_count": null,
      "metadata": {
        "colab": {
          "base_uri": "https://localhost:8080/"
        },
        "id": "ghuM3tc3ABYO",
        "outputId": "70dd870b-bfad-4854-e39b-24f0388daf97"
      },
      "outputs": [
        {
          "name": "stdout",
          "output_type": "stream",
          "text": [
            "python is a programming language\n"
          ]
        }
      ],
      "source": [
        "a = \"PYTHON IS A PROGRAMMING LANGUAGE\"\n",
        "print(a.lower())"
      ]
    },
    {
      "cell_type": "code",
      "execution_count": null,
      "metadata": {
        "colab": {
          "base_uri": "https://localhost:8080/"
        },
        "id": "6T0cpBgMAKRa",
        "outputId": "45b69631-9989-417d-d5d4-e652ba2c450c"
      },
      "outputs": [
        {
          "name": "stdout",
          "output_type": "stream",
          "text": [
            "STRING IS A SEQUENCE OF CHARACTERS\n"
          ]
        }
      ],
      "source": [
        "b = \"string is a sequence of characters\"\n",
        "print(b.upper())\n"
      ]
    },
    {
      "cell_type": "code",
      "execution_count": null,
      "metadata": {
        "colab": {
          "base_uri": "https://localhost:8080/"
        },
        "id": "zfMbjfOzAPfj",
        "outputId": "d4c39ba5-88fa-4448-ffca-b1f644991277"
      },
      "outputs": [
        {
          "name": "stdout",
          "output_type": "stream",
          "text": [
            "STRING METHODS ARE USED TO MANIPULATE AND WORK WITH STRINGS\n"
          ]
        }
      ],
      "source": [
        "x = \"string Methods are Used to Manipulate and work with strings\"\n",
        "print(x.upper())"
      ]
    },
    {
      "cell_type": "markdown",
      "metadata": {
        "id": "oZObwUnZAbHD"
      },
      "source": [
        "# 3. Strip\n",
        "-  Remove leading and trailing whitespaces.\n"
      ]
    },
    {
      "cell_type": "code",
      "execution_count": null,
      "metadata": {
        "colab": {
          "base_uri": "https://localhost:8080/"
        },
        "id": "F5h7ATBYBo_r",
        "outputId": "f4e295ba-0b33-4459-a160-919200133c83"
      },
      "outputs": [
        {
          "name": "stdout",
          "output_type": "stream",
          "text": [
            "hello world\n"
          ]
        }
      ],
      "source": [
        "x = \"  hello world  \"\n",
        "print(x.strip())"
      ]
    },
    {
      "cell_type": "code",
      "execution_count": null,
      "metadata": {
        "colab": {
          "base_uri": "https://localhost:8080/"
        },
        "id": "xAPooIvlB_Aw",
        "outputId": "cc628e20-6aff-4432-d549-8ef381b41a8b"
      },
      "outputs": [
        {
          "name": "stdout",
          "output_type": "stream",
          "text": [
            "ramana      raju\n"
          ]
        }
      ],
      "source": [
        "z = \" ramana      raju      \"\n",
        "print(z.strip())\n"
      ]
    },
    {
      "cell_type": "markdown",
      "metadata": {
        "id": "O_eAM5ckCPuY"
      },
      "source": [
        "# 4. Replace\n",
        "-  replaces a substring with another substring."
      ]
    },
    {
      "cell_type": "code",
      "execution_count": null,
      "metadata": {
        "colab": {
          "base_uri": "https://localhost:8080/"
        },
        "id": "wijHGgekCuBE",
        "outputId": "b278d107-0cdf-4c97-ceac-222b3610c8b8"
      },
      "outputs": [
        {
          "name": "stdout",
          "output_type": "stream",
          "text": [
            "python is a scripting language\n"
          ]
        }
      ],
      "source": [
        "a = \"python is a programming language\"\n",
        "print(a.replace(\"programming\",\"scripting\"))\n"
      ]
    },
    {
      "cell_type": "code",
      "execution_count": null,
      "metadata": {
        "colab": {
          "base_uri": "https://localhost:8080/"
        },
        "id": "JBBVAHIoC1LI",
        "outputId": "66728fa3-92ff-4880-b2b6-2ed94b467f51"
      },
      "outputs": [
        {
          "name": "stdout",
          "output_type": "stream",
          "text": [
            "string methods are used to change and work with strings\n"
          ]
        }
      ],
      "source": [
        "x = \"string methods are used to manipulate and work with strings\"\n",
        "print(x.replace(\"manipulate\",\"change\"))"
      ]
    },
    {
      "cell_type": "markdown",
      "metadata": {
        "id": "14nY4WiDDCNw"
      },
      "source": [
        "# **5.Split**\n",
        "-  splits the string into a list of substrings.\n"
      ]
    },
    {
      "cell_type": "code",
      "execution_count": null,
      "metadata": {
        "colab": {
          "base_uri": "https://localhost:8080/"
        },
        "id": "rTTY-OuHDfKT",
        "outputId": "dabe9e18-8e4d-41b1-9781-98f45cbb1304"
      },
      "outputs": [
        {
          "name": "stdout",
          "output_type": "stream",
          "text": [
            "['python', 'is', 'a', 'programming', 'language']\n"
          ]
        }
      ],
      "source": [
        "a = \"python is a programming language\"\n",
        "print(a.split())"
      ]
    },
    {
      "cell_type": "code",
      "execution_count": null,
      "metadata": {
        "colab": {
          "base_uri": "https://localhost:8080/"
        },
        "id": "pfBQ26IcDnTR",
        "outputId": "3810efb4-ac27-43af-e3c0-b9f451bb138c"
      },
      "outputs": [
        {
          "name": "stdout",
          "output_type": "stream",
          "text": [
            "['string', 'methods', 'are', 'used', 'to', 'manipulate', 'and', 'work', 'with', 'strings']\n"
          ]
        }
      ],
      "source": [
        "x = \"string methods are used to manipulate and work with strings\"\n",
        "print(x.split())"
      ]
    },
    {
      "cell_type": "markdown",
      "metadata": {
        "id": "I0dL1UebDvoG"
      },
      "source": [
        "## **6. Join**\n",
        "-  joins a list of strings into a single string."
      ]
    },
    {
      "cell_type": "code",
      "execution_count": null,
      "metadata": {
        "colab": {
          "base_uri": "https://localhost:8080/"
        },
        "id": "Ky2KOs8TEF7O",
        "outputId": "b39198c7-67e8-47e6-c547-16a4948a7439"
      },
      "outputs": [
        {
          "name": "stdout",
          "output_type": "stream",
          "text": [
            "python is a programming language\n"
          ]
        }
      ],
      "source": [
        " a = \"python\", \"is\", \"a\", \"programming\", \"language\"\n",
        " print(\" \".join(a))"
      ]
    },
    {
      "cell_type": "code",
      "execution_count": null,
      "metadata": {
        "colab": {
          "base_uri": "https://localhost:8080/"
        },
        "id": "vCLi8o2HEje_",
        "outputId": "c591e6fa-fb93-4f8c-efe2-d6798cc70003"
      },
      "outputs": [
        {
          "name": "stdout",
          "output_type": "stream",
          "text": [
            "string methods are used to manipulate and work with strings\n"
          ]
        }
      ],
      "source": [
        "x = \"string\", \"methods\", \"are\", \"used\", \"to\", \"manipulate\", \"and\", \"work\", \"with\", \"strings\"\n",
        "print(\" \".join(x))"
      ]
    },
    {
      "cell_type": "markdown",
      "metadata": {
        "id": "5lSB2RmsFVMt"
      },
      "source": [
        "# **7.Title**()\n",
        "-  \tConverts the first character of each word to upper case"
      ]
    },
    {
      "cell_type": "code",
      "execution_count": null,
      "metadata": {
        "colab": {
          "base_uri": "https://localhost:8080/"
        },
        "id": "Nis4NzNFFf4L",
        "outputId": "bbe183c8-2007-4cc7-8976-90c0ea57a454"
      },
      "outputs": [
        {
          "name": "stdout",
          "output_type": "stream",
          "text": [
            "Python Is A Programming Language\n"
          ]
        }
      ],
      "source": [
        "a = \"python is a programming language\"\n",
        "print(a.title())"
      ]
    },
    {
      "cell_type": "markdown",
      "metadata": {
        "id": "9UW8cryQFxjV"
      },
      "source": [
        "# **8.Find**()\n",
        "-  Searches the string for a specified value and returns the position of where it was found"
      ]
    },
    {
      "cell_type": "code",
      "execution_count": null,
      "metadata": {
        "colab": {
          "base_uri": "https://localhost:8080/"
        },
        "id": "5ALGvirhF64M",
        "outputId": "4dc4b3b5-40e4-40c5-bcc1-300a282c3eb3"
      },
      "outputs": [
        {
          "name": "stdout",
          "output_type": "stream",
          "text": [
            "27\n"
          ]
        }
      ],
      "source": [
        "x = \"string methods are used to manipulate and work with strings\"\n",
        "print(x.find(\"manipulate\"))"
      ]
    },
    {
      "cell_type": "markdown",
      "metadata": {
        "id": "7Uyre7P3GEqc"
      },
      "source": [
        "# **9.center**()\n",
        "-  \tReturns a centered string"
      ]
    },
    {
      "cell_type": "code",
      "execution_count": null,
      "metadata": {
        "colab": {
          "base_uri": "https://localhost:8080/"
        },
        "id": "x8jU7RKAGQi3",
        "outputId": "36a53e97-f12d-425c-8d3d-4eca987eddd9"
      },
      "outputs": [
        {
          "name": "stdout",
          "output_type": "stream",
          "text": [
            "                      python                      \n"
          ]
        }
      ],
      "source": [
        "a = \"python\"\n",
        "print(a.center(50))"
      ]
    },
    {
      "cell_type": "code",
      "execution_count": null,
      "metadata": {
        "colab": {
          "base_uri": "https://localhost:8080/"
        },
        "id": "fVrfiPRDHZzq",
        "outputId": "8440a425-e483-44c3-cbcc-ba9a76ad646e"
      },
      "outputs": [
        {
          "name": "stdout",
          "output_type": "stream",
          "text": [
            "                                               hello                                                \n"
          ]
        }
      ],
      "source": [
        "x = \"hello\"\n",
        "print(x.center(100))"
      ]
    },
    {
      "cell_type": "markdown",
      "metadata": {
        "id": "LTb64GNhIDBc"
      },
      "source": [
        "# **10.Translate**()\n",
        "- \tReturns a translated string"
      ]
    },
    {
      "cell_type": "code",
      "execution_count": null,
      "metadata": {
        "colab": {
          "base_uri": "https://localhost:8080/"
        },
        "id": "yYQ5WsLmISjg",
        "outputId": "7929e285-79f3-40c7-9c29-bd5ef1033d0a"
      },
      "outputs": [
        {
          "name": "stdout",
          "output_type": "stream",
          "text": [
            "hello\n"
          ]
        }
      ],
      "source": [
        "a = \"hello\"\n",
        "print(a.translate(\"s\"))"
      ]
    },
    {
      "cell_type": "markdown",
      "metadata": {
        "id": "Hkii0bBfRTAX"
      },
      "source": [
        "# **11.Copy()**\n",
        "-  \tReturns a copy of the list"
      ]
    },
    {
      "cell_type": "code",
      "execution_count": null,
      "metadata": {
        "colab": {
          "base_uri": "https://localhost:8080/"
        },
        "id": "YzF92h7GRkgf",
        "outputId": "fdb64459-4cdf-4c62-dab7-545a5634bd6a"
      },
      "outputs": [
        {
          "name": "stdout",
          "output_type": "stream",
          "text": [
            "[1, 2, 3, 4, 5]\n"
          ]
        }
      ],
      "source": [
        "a= [1,2,3,4,5]\n",
        "print(a.copy())"
      ]
    },
    {
      "cell_type": "code",
      "execution_count": null,
      "metadata": {
        "colab": {
          "base_uri": "https://localhost:8080/"
        },
        "id": "WIxofIzIR_c-",
        "outputId": "6453308d-9843-4916-ddf2-3788dc37a9a2"
      },
      "outputs": [
        {
          "name": "stdout",
          "output_type": "stream",
          "text": [
            "['sai,raju,atheesh']\n"
          ]
        }
      ],
      "source": [
        "x = ['sai,raju,atheesh']\n",
        "print(x.copy())"
      ]
    },
    {
      "cell_type": "markdown",
      "metadata": {
        "id": "ZBdrho54SncM"
      },
      "source": [
        "# **12.values()**\n",
        "-  \tReturns a list of all the values in the dictionary"
      ]
    },
    {
      "cell_type": "code",
      "execution_count": null,
      "metadata": {
        "colab": {
          "base_uri": "https://localhost:8080/"
        },
        "id": "Vg-Y0ZkzS5PX",
        "outputId": "2ad07a2a-80fa-4258-c797-80857e3389f4"
      },
      "outputs": [
        {
          "name": "stdout",
          "output_type": "stream",
          "text": [
            "dict_values(['sai kiran', 27])\n"
          ]
        }
      ],
      "source": [
        "x = {'name':'sai kiran','age':27}\n",
        "print(x.values())"
      ]
    },
    {
      "cell_type": "code",
      "execution_count": null,
      "metadata": {
        "colab": {
          "base_uri": "https://localhost:8080/"
        },
        "id": "nNDuu0A9TFqn",
        "outputId": "8626a6b7-f6e3-4205-f5f5-1a8d4e284770"
      },
      "outputs": [
        {
          "name": "stdout",
          "output_type": "stream",
          "text": [
            "dict_values(['sai kiran', 27, 'sdpt'])\n"
          ]
        }
      ],
      "source": [
        "a = {'name':'sai kiran','age':27,'location':'sdpt'}\n",
        "print(a.values())"
      ]
    },
    {
      "cell_type": "code",
      "execution_count": null,
      "metadata": {
        "colab": {
          "base_uri": "https://localhost:8080/"
        },
        "id": "RBnCOp2ETMP7",
        "outputId": "9649b60f-0a50-4d71-f9ba-2c200d3aff11"
      },
      "outputs": [
        {
          "name": "stdout",
          "output_type": "stream",
          "text": [
            "dict_values(['sai kiran', 27, 'sdpt', 'male'])\n"
          ]
        }
      ],
      "source": [
        "z = {'name':'sai kiran','age':27,'location':'sdpt','gender':'male'}\n",
        "print(z.values())"
      ]
    },
    {
      "cell_type": "markdown",
      "metadata": {
        "id": "ygJrLGsuTz2f"
      },
      "source": [
        "# **13.keys()**\n",
        "-  \tReturns a list containing the dictionary's keys"
      ]
    },
    {
      "cell_type": "code",
      "execution_count": null,
      "metadata": {
        "colab": {
          "base_uri": "https://localhost:8080/"
        },
        "id": "DXJIb0POUByO",
        "outputId": "9eafa0d2-4639-410c-c9f9-6e81bf92fdc9"
      },
      "outputs": [
        {
          "name": "stdout",
          "output_type": "stream",
          "text": [
            "dict_keys(['name', 'age'])\n"
          ]
        }
      ],
      "source": [
        "a = {'name':'sai kiran','age':27}\n",
        "print(a.keys())"
      ]
    },
    {
      "cell_type": "code",
      "execution_count": null,
      "metadata": {
        "colab": {
          "base_uri": "https://localhost:8080/"
        },
        "id": "kBEOVyJ-UKnh",
        "outputId": "671fb65e-1689-4c38-8fcd-3d2659a34183"
      },
      "outputs": [
        {
          "name": "stdout",
          "output_type": "stream",
          "text": [
            "dict_keys(['name', 'age', 'location'])\n"
          ]
        }
      ],
      "source": [
        "x = {'name':'sai kiran','age':27,'location':'sdpt'}\n",
        "print(x.keys())"
      ]
    },
    {
      "cell_type": "markdown",
      "metadata": {
        "id": "PBbqGxtuUYq_"
      },
      "source": [
        "# **14.update()**\n",
        "-  \tUpdates the dictionary with the specified key-value pairs"
      ]
    },
    {
      "cell_type": "code",
      "execution_count": null,
      "metadata": {
        "colab": {
          "base_uri": "https://localhost:8080/"
        },
        "id": "p6MaiWb1UfJx",
        "outputId": "8be2afde-c574-4a90-c00f-3481af86523e"
      },
      "outputs": [
        {
          "name": "stdout",
          "output_type": "stream",
          "text": [
            "{'name': 'sai kiran', 'age': 27, 'location': 'sdpt'}\n"
          ]
        }
      ],
      "source": [
        "a = {'name':'sai kiran','age':27}\n",
        "a.update({'location':'sdpt'})\n",
        "print(a)"
      ]
    },
    {
      "cell_type": "markdown",
      "metadata": {
        "id": "CoDG_JN2VxWk"
      },
      "source": [
        "# **15.index()**\n",
        "-  it returns the position of the string and gives it index number."
      ]
    },
    {
      "cell_type": "code",
      "source": [
        "name = \"sai kiran\"\n",
        "print(name.index('k'))"
      ],
      "metadata": {
        "colab": {
          "base_uri": "https://localhost:8080/"
        },
        "id": "zBUk3ispxbu6",
        "outputId": "444d19e1-8a1a-4cf3-c20a-97dfc35a7a45"
      },
      "execution_count": null,
      "outputs": [
        {
          "output_type": "stream",
          "name": "stdout",
          "text": [
            "4\n"
          ]
        }
      ]
    },
    {
      "cell_type": "markdown",
      "source": [
        "# **17. Isalnum**\n",
        "-  it returns true if the string is alphanumaric."
      ],
      "metadata": {
        "id": "jNn1BsxsyFFS"
      }
    },
    {
      "cell_type": "code",
      "source": [
        "x = \"sai123\"\n",
        "print(x.isalnum())"
      ],
      "metadata": {
        "colab": {
          "base_uri": "https://localhost:8080/"
        },
        "id": "Hgjrlx8JybRH",
        "outputId": "11b8f225-8707-4ceb-cfd5-db0cd36f6b88"
      },
      "execution_count": null,
      "outputs": [
        {
          "output_type": "stream",
          "name": "stdout",
          "text": [
            "True\n"
          ]
        }
      ]
    },
    {
      "cell_type": "code",
      "source": [
        "a =\"atheesh\"\n",
        "print(a.isalnum())"
      ],
      "metadata": {
        "colab": {
          "base_uri": "https://localhost:8080/"
        },
        "id": "GB1bWIaOyqbG",
        "outputId": "999edff1-a0c3-4aa9-d0b3-9c7bc45c893c"
      },
      "execution_count": null,
      "outputs": [
        {
          "output_type": "stream",
          "name": "stdout",
          "text": [
            "True\n"
          ]
        }
      ]
    },
    {
      "cell_type": "markdown",
      "source": [
        "# **18. Isalpha**\n",
        "-  it returns true if all the characters in the string are updates."
      ],
      "metadata": {
        "id": "F0Ys278CzNKL"
      }
    },
    {
      "cell_type": "code",
      "source": [
        "x = \"sai kiran\"\n",
        "print(x.isalpha())\n"
      ],
      "metadata": {
        "colab": {
          "base_uri": "https://localhost:8080/"
        },
        "id": "jvD30EglzmUt",
        "outputId": "1cbdba26-5c24-4e0d-d8bd-9a6ed8dc183e"
      },
      "execution_count": null,
      "outputs": [
        {
          "output_type": "stream",
          "name": "stdout",
          "text": [
            "False\n"
          ]
        }
      ]
    },
    {
      "cell_type": "code",
      "source": [
        "a = \"sai123\"\n",
        "print(a.isalpha())"
      ],
      "metadata": {
        "colab": {
          "base_uri": "https://localhost:8080/"
        },
        "id": "cbCSOAEkzuTL",
        "outputId": "e248ed02-9d19-4c8f-a5da-0af69dde3a56"
      },
      "execution_count": null,
      "outputs": [
        {
          "output_type": "stream",
          "name": "stdout",
          "text": [
            "False\n"
          ]
        }
      ]
    },
    {
      "cell_type": "markdown",
      "source": [
        "# **19.islower**\n",
        "-  it returns true if all characters in the string are lowercase."
      ],
      "metadata": {
        "id": "FhiuhTbDz-N3"
      }
    },
    {
      "cell_type": "code",
      "source": [
        "x = \"sai kiran\"\n",
        "print(x.islower())"
      ],
      "metadata": {
        "colab": {
          "base_uri": "https://localhost:8080/"
        },
        "id": "0wYzVWoF02fU",
        "outputId": "b3473ad6-458f-47cb-ba25-a3ac90d68d2b"
      },
      "execution_count": null,
      "outputs": [
        {
          "output_type": "stream",
          "name": "stdout",
          "text": [
            "True\n"
          ]
        }
      ]
    },
    {
      "cell_type": "markdown",
      "source": [
        "# **20. isupper**\n",
        "-  it returns true if all character in the string are uppercase."
      ],
      "metadata": {
        "id": "iexDQNQs1ElO"
      }
    },
    {
      "cell_type": "code",
      "source": [
        "x = \"SAI KIRAN\"\n",
        "print(x.isupper())"
      ],
      "metadata": {
        "colab": {
          "base_uri": "https://localhost:8080/"
        },
        "id": "1NmSXobQ1v-n",
        "outputId": "037bc0f1-1808-4fe0-b3c6-75508a368fee"
      },
      "execution_count": null,
      "outputs": [
        {
          "output_type": "stream",
          "name": "stdout",
          "text": [
            "True\n"
          ]
        }
      ]
    },
    {
      "cell_type": "markdown",
      "source": [
        "# **21. Isnumaric**\n",
        "-  it returns true if all character in the string are numaric."
      ],
      "metadata": {
        "id": "0YRMdke-10_h"
      }
    },
    {
      "cell_type": "code",
      "source": [
        "x = \"sai123\"\n",
        "print(x.isnumeric())"
      ],
      "metadata": {
        "colab": {
          "base_uri": "https://localhost:8080/"
        },
        "id": "QGhkkeOw2Qr3",
        "outputId": "60651d0c-733d-4443-e639-c255beed9dd9"
      },
      "execution_count": null,
      "outputs": [
        {
          "output_type": "stream",
          "name": "stdout",
          "text": [
            "False\n"
          ]
        }
      ]
    },
    {
      "cell_type": "code",
      "source": [
        "y = \"123\"\n",
        "print(y.isnumeric())\n"
      ],
      "metadata": {
        "colab": {
          "base_uri": "https://localhost:8080/"
        },
        "id": "rTvxwFqw2keR",
        "outputId": "eeb1b37e-4909-41fb-f7eb-4acce9206fdc"
      },
      "execution_count": null,
      "outputs": [
        {
          "output_type": "stream",
          "name": "stdout",
          "text": [
            "True\n"
          ]
        }
      ]
    },
    {
      "cell_type": "markdown",
      "source": [
        "# **22. Zfill**\n",
        "-  it returns a copy of the string with 0 characters padded to the left side of the given string."
      ],
      "metadata": {
        "id": "SHqIBGHF2z20"
      }
    },
    {
      "cell_type": "code",
      "source": [
        "x =\"python is a programming language\"\n",
        "print(x.zfill(66))"
      ],
      "metadata": {
        "colab": {
          "base_uri": "https://localhost:8080/"
        },
        "id": "pXNAK01S3PLW",
        "outputId": "a3aecb99-dc90-4f35-e645-e62c0bf09e82"
      },
      "execution_count": null,
      "outputs": [
        {
          "output_type": "stream",
          "name": "stdout",
          "text": [
            "0000000000000000000000000000000000python is a programming language\n"
          ]
        }
      ]
    },
    {
      "cell_type": "markdown",
      "source": [
        "# **23.Starwith**\n",
        "-  returns true if a string starts with the givnen prefix."
      ],
      "metadata": {
        "id": "-dQCjaf04ed8"
      }
    },
    {
      "cell_type": "code",
      "source": [
        "t = \"python is a programming language\"\n",
        "print(t.startswith(\"python\"))"
      ],
      "metadata": {
        "colab": {
          "base_uri": "https://localhost:8080/"
        },
        "id": "SpJPsiyR4561",
        "outputId": "7b10e2cd-95d4-470f-c421-d566b2dc0054"
      },
      "execution_count": null,
      "outputs": [
        {
          "output_type": "stream",
          "name": "stdout",
          "text": [
            "True\n"
          ]
        }
      ]
    },
    {
      "cell_type": "markdown",
      "source": [
        "# **24. rindex**\n",
        "-  returns the highest index of the substring inside string."
      ],
      "metadata": {
        "id": "11PrfeCp_yaJ"
      }
    },
    {
      "cell_type": "code",
      "source": [
        "x = \"python is a programming language\"\n",
        "print(x.rindex(\"language\"))\n",
        "print(x.rindex(\"is\"))"
      ],
      "metadata": {
        "colab": {
          "base_uri": "https://localhost:8080/"
        },
        "id": "-4qlqV-UADRn",
        "outputId": "9113f07c-6c90-4477-b673-d35884f12178"
      },
      "execution_count": null,
      "outputs": [
        {
          "output_type": "stream",
          "name": "stdout",
          "text": [
            "24\n",
            "7\n"
          ]
        }
      ]
    },
    {
      "cell_type": "markdown",
      "source": [
        "# **25.rfind**\n",
        "-  returns the higest index of the substring."
      ],
      "metadata": {
        "id": "xm6xqmrMBCWb"
      }
    },
    {
      "cell_type": "code",
      "source": [
        "x = \"python is easy to learn\"\n",
        "print(x.rfind(\"easy\"))"
      ],
      "metadata": {
        "colab": {
          "base_uri": "https://localhost:8080/"
        },
        "id": "T1FnIwjxBcNv",
        "outputId": "9d75f4a3-0404-4e64-ffc3-40ed874bb669"
      },
      "execution_count": null,
      "outputs": [
        {
          "output_type": "stream",
          "name": "stdout",
          "text": [
            "10\n"
          ]
        }
      ]
    }
  ],
  "metadata": {
    "colab": {
      "provenance": []
    },
    "kernelspec": {
      "display_name": "Python 3",
      "name": "python3"
    },
    "language_info": {
      "name": "python"
    }
  },
  "nbformat": 4,
  "nbformat_minor": 0
}