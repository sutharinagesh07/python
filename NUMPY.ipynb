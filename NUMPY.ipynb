{
  "nbformat": 4,
  "nbformat_minor": 0,
  "metadata": {
    "colab": {
      "provenance": []
    },
    "kernelspec": {
      "name": "python3",
      "display_name": "Python 3"
    },
    "language_info": {
      "name": "python"
    }
  },
  "cells": [
    {
      "cell_type": "markdown",
      "source": [
        "# **NUMPY**\n",
        "\n",
        "-   NumPy (Numerical Python) is a powerful Python library for numerical\n",
        "     computing.\n",
        "-  It provides support for large, multi-dimensional arrays and matrices,along\n",
        "  with a collection of high-level mathematical functions to operate on these arrays.\n",
        "\n",
        "\n",
        "-  **Arrays**:\n",
        "-  NumPy's primary data structure is the ndarray (N-dimensional array).\n",
        "-  It allows you to efficiently store and manipulate large amounts of numerical data.\n",
        ""
      ],
      "metadata": {
        "id": "Ly-MyzNCLTSB"
      }
    },
    {
      "cell_type": "code",
      "execution_count": 8,
      "metadata": {
        "colab": {
          "base_uri": "https://localhost:8080/"
        },
        "id": "nof8ChPRK1Y8",
        "outputId": "8ec105c9-fdda-4625-ce89-ad2cfb8e2228"
      },
      "outputs": [
        {
          "output_type": "stream",
          "name": "stdout",
          "text": [
            "Requirement already satisfied: numpy in /usr/local/lib/python3.10/dist-packages (1.26.4)\n"
          ]
        }
      ],
      "source": [
        "!pip install numpy"
      ]
    },
    {
      "cell_type": "code",
      "source": [
        "import numpy as np"
      ],
      "metadata": {
        "id": "ywzBXnHKOZMp"
      },
      "execution_count": 9,
      "outputs": []
    },
    {
      "cell_type": "code",
      "source": [
        "# creating a array\n",
        "x = np.array([1,3,5])\n",
        "y = np.array([[1,3,5],[7,9,11]])\n",
        "z = np.array([[[(1,3,5,7)],[(9,11,13,17)],[(19,23,29,31)]]])\n"
      ],
      "metadata": {
        "id": "7LsMXtvMOeqa"
      },
      "execution_count": 8,
      "outputs": []
    },
    {
      "cell_type": "code",
      "source": [
        "print(x)"
      ],
      "metadata": {
        "colab": {
          "base_uri": "https://localhost:8080/"
        },
        "id": "Top1z7pLRvvd",
        "outputId": "3155d481-802a-405d-b144-310fadd93eac"
      },
      "execution_count": 12,
      "outputs": [
        {
          "output_type": "stream",
          "name": "stdout",
          "text": [
            "[1 3 5]\n"
          ]
        }
      ]
    },
    {
      "cell_type": "code",
      "source": [
        "print(y)"
      ],
      "metadata": {
        "colab": {
          "base_uri": "https://localhost:8080/"
        },
        "id": "qUiKmO_MSSh8",
        "outputId": "26eb2e03-7b92-4fd2-ec20-723331b02383"
      },
      "execution_count": 13,
      "outputs": [
        {
          "output_type": "stream",
          "name": "stdout",
          "text": [
            "[[ 1  3  5]\n",
            " [ 7  9 11]]\n"
          ]
        }
      ]
    },
    {
      "cell_type": "code",
      "source": [
        "print(z)"
      ],
      "metadata": {
        "colab": {
          "base_uri": "https://localhost:8080/"
        },
        "id": "r4ZhkVR-SVze",
        "outputId": "be2715f3-06a0-4932-b07c-3c350834366a"
      },
      "execution_count": 14,
      "outputs": [
        {
          "output_type": "stream",
          "name": "stdout",
          "text": [
            "[[[[ 1  3  5  7]]\n",
            "\n",
            "  [[ 9 11 13 17]]\n",
            "\n",
            "  [[19 23 29 31]]]]\n"
          ]
        }
      ]
    },
    {
      "cell_type": "code",
      "source": [
        "# INTIAL PLACE HOLDER :"
      ],
      "metadata": {
        "id": "gicTkRcdTAHK"
      },
      "execution_count": null,
      "outputs": []
    },
    {
      "cell_type": "code",
      "source": [
        "np.zeros([1,2,3])  # syntax : shape,row col"
      ],
      "metadata": {
        "colab": {
          "base_uri": "https://localhost:8080/"
        },
        "id": "4xzbQKAPl3cI",
        "outputId": "eb10d8cb-093a-4ba4-8d06-9f8a2cd3a0c5"
      },
      "execution_count": 12,
      "outputs": [
        {
          "output_type": "execute_result",
          "data": {
            "text/plain": [
              "array([[[0., 0., 0.],\n",
              "        [0., 0., 0.]]])"
            ]
          },
          "metadata": {},
          "execution_count": 12
        }
      ]
    },
    {
      "cell_type": "code",
      "source": [
        "np.zeros([2,3,4])"
      ],
      "metadata": {
        "colab": {
          "base_uri": "https://localhost:8080/"
        },
        "id": "h1WRBz83l-Cr",
        "outputId": "310fe670-de6d-4df9-e32c-f08a639d7393"
      },
      "execution_count": 13,
      "outputs": [
        {
          "output_type": "execute_result",
          "data": {
            "text/plain": [
              "array([[[0., 0., 0., 0.],\n",
              "        [0., 0., 0., 0.],\n",
              "        [0., 0., 0., 0.]],\n",
              "\n",
              "       [[0., 0., 0., 0.],\n",
              "        [0., 0., 0., 0.],\n",
              "        [0., 0., 0., 0.]]])"
            ]
          },
          "metadata": {},
          "execution_count": 13
        }
      ]
    },
    {
      "cell_type": "code",
      "source": [
        "np.zeros([3,3,3])"
      ],
      "metadata": {
        "colab": {
          "base_uri": "https://localhost:8080/"
        },
        "id": "f3Lih11emD0t",
        "outputId": "145c7048-8bbb-4554-b831-b3c30e252cc2"
      },
      "execution_count": 14,
      "outputs": [
        {
          "output_type": "execute_result",
          "data": {
            "text/plain": [
              "array([[[0., 0., 0.],\n",
              "        [0., 0., 0.],\n",
              "        [0., 0., 0.]],\n",
              "\n",
              "       [[0., 0., 0.],\n",
              "        [0., 0., 0.],\n",
              "        [0., 0., 0.]],\n",
              "\n",
              "       [[0., 0., 0.],\n",
              "        [0., 0., 0.],\n",
              "        [0., 0., 0.]]])"
            ]
          },
          "metadata": {},
          "execution_count": 14
        }
      ]
    },
    {
      "cell_type": "code",
      "source": [
        "# to create a array with ones"
      ],
      "metadata": {
        "id": "upcuLcqQmqwn"
      },
      "execution_count": 15,
      "outputs": []
    },
    {
      "cell_type": "code",
      "source": [
        "np.ones([1,2,3])"
      ],
      "metadata": {
        "colab": {
          "base_uri": "https://localhost:8080/"
        },
        "id": "fFvxTVkcm07k",
        "outputId": "1aaaee7c-d981-4643-8180-c3f241fedeb0"
      },
      "execution_count": 16,
      "outputs": [
        {
          "output_type": "execute_result",
          "data": {
            "text/plain": [
              "array([[[1., 1., 1.],\n",
              "        [1., 1., 1.]]])"
            ]
          },
          "metadata": {},
          "execution_count": 16
        }
      ]
    },
    {
      "cell_type": "code",
      "source": [
        "np.ones([2,3,4])"
      ],
      "metadata": {
        "colab": {
          "base_uri": "https://localhost:8080/"
        },
        "id": "3TrsUoJum7oS",
        "outputId": "eb19142b-0524-4501-d215-d9a03b1de44a"
      },
      "execution_count": 17,
      "outputs": [
        {
          "output_type": "execute_result",
          "data": {
            "text/plain": [
              "array([[[1., 1., 1., 1.],\n",
              "        [1., 1., 1., 1.],\n",
              "        [1., 1., 1., 1.]],\n",
              "\n",
              "       [[1., 1., 1., 1.],\n",
              "        [1., 1., 1., 1.],\n",
              "        [1., 1., 1., 1.]]])"
            ]
          },
          "metadata": {},
          "execution_count": 17
        }
      ]
    },
    {
      "cell_type": "code",
      "source": [
        "# create an array evenly spaced values (step value)"
      ],
      "metadata": {
        "id": "dpCxOmdZnL4m"
      },
      "execution_count": 18,
      "outputs": []
    },
    {
      "cell_type": "code",
      "source": [
        "x = np.arange(1,15,2)  #start value,end value,steps # n-1(3-1=2)\n",
        "print(x)"
      ],
      "metadata": {
        "colab": {
          "base_uri": "https://localhost:8080/"
        },
        "id": "XulJ4SnQnSzd",
        "outputId": "c71d2eb4-2df3-485c-e4e9-3fb07daf0d9f"
      },
      "execution_count": 26,
      "outputs": [
        {
          "output_type": "stream",
          "name": "stdout",
          "text": [
            "[ 1  3  5  7  9 11 13]\n"
          ]
        }
      ]
    },
    {
      "cell_type": "code",
      "source": [
        "y = np.arange(10,100,10)\n",
        "print(y)"
      ],
      "metadata": {
        "colab": {
          "base_uri": "https://localhost:8080/"
        },
        "id": "q9hDHf6Dpu4G",
        "outputId": "48534e23-0564-4da6-eced-ae979af57135"
      },
      "execution_count": 28,
      "outputs": [
        {
          "output_type": "stream",
          "name": "stdout",
          "text": [
            "[10 20 30 40 50 60 70 80 90]\n"
          ]
        }
      ]
    },
    {
      "cell_type": "code",
      "source": [
        "z = np.arange(20,30,0.7)\n",
        "print(z)"
      ],
      "metadata": {
        "colab": {
          "base_uri": "https://localhost:8080/"
        },
        "id": "6fX3nV5sqOLJ",
        "outputId": "6159f628-6585-4c0a-ee00-9ac1073c3178"
      },
      "execution_count": 30,
      "outputs": [
        {
          "output_type": "stream",
          "name": "stdout",
          "text": [
            "[20.  20.7 21.4 22.1 22.8 23.5 24.2 24.9 25.6 26.3 27.  27.7 28.4 29.1\n",
            " 29.8]\n"
          ]
        }
      ]
    },
    {
      "cell_type": "code",
      "source": [
        "# create an array of evenly spaced values\n",
        "\n",
        "a = np.linspace(10,100,20)\n",
        "print(a)"
      ],
      "metadata": {
        "colab": {
          "base_uri": "https://localhost:8080/"
        },
        "id": "97L9DGusqbAc",
        "outputId": "0b3b0eb9-34bf-4469-ef6e-55df2ac6d677"
      },
      "execution_count": 33,
      "outputs": [
        {
          "output_type": "stream",
          "name": "stdout",
          "text": [
            "[ 10.          14.73684211  19.47368421  24.21052632  28.94736842\n",
            "  33.68421053  38.42105263  43.15789474  47.89473684  52.63157895\n",
            "  57.36842105  62.10526316  66.84210526  71.57894737  76.31578947\n",
            "  81.05263158  85.78947368  90.52631579  95.26315789 100.        ]\n"
          ]
        }
      ]
    },
    {
      "cell_type": "code",
      "source": [
        "b = np.linspace(5,50,2)\n",
        "print(b)"
      ],
      "metadata": {
        "colab": {
          "base_uri": "https://localhost:8080/"
        },
        "id": "Zvy6pls-sCnb",
        "outputId": "e6c2778f-ec68-4e62-d4d0-56ec391ce9e0"
      },
      "execution_count": 34,
      "outputs": [
        {
          "output_type": "stream",
          "name": "stdout",
          "text": [
            "[ 5. 50.]\n"
          ]
        }
      ]
    },
    {
      "cell_type": "code",
      "source": [
        "c = np.linspace(7,75,10)\n",
        "print(c)"
      ],
      "metadata": {
        "colab": {
          "base_uri": "https://localhost:8080/"
        },
        "id": "vmITLHH_sfk_",
        "outputId": "d63c11ef-ccf0-4dc2-a336-215387dd7e9f"
      },
      "execution_count": 36,
      "outputs": [
        {
          "output_type": "stream",
          "name": "stdout",
          "text": [
            "[ 7.         14.55555556 22.11111111 29.66666667 37.22222222 44.77777778\n",
            " 52.33333333 59.88888889 67.44444444 75.        ]\n"
          ]
        }
      ]
    },
    {
      "cell_type": "code",
      "source": [
        "b = np.linspace(150,100,10)\n",
        "print(b)"
      ],
      "metadata": {
        "colab": {
          "base_uri": "https://localhost:8080/"
        },
        "id": "4dlzJJW5sxzE",
        "outputId": "60a6f672-1c23-4a73-9bbd-72102998b082"
      },
      "execution_count": 37,
      "outputs": [
        {
          "output_type": "stream",
          "name": "stdout",
          "text": [
            "[150.         144.44444444 138.88888889 133.33333333 127.77777778\n",
            " 122.22222222 116.66666667 111.11111111 105.55555556 100.        ]\n"
          ]
        }
      ]
    }
  ]
}