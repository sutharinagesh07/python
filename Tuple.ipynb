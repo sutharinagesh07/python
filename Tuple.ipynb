{
  "nbformat": 4,
  "nbformat_minor": 0,
  "metadata": {
    "colab": {
      "provenance": []
    },
    "kernelspec": {
      "name": "python3",
      "display_name": "Python 3"
    },
    "language_info": {
      "name": "python"
    }
  },
  "cells": [
    {
      "cell_type": "code",
      "execution_count": null,
      "metadata": {
        "id": "X2FPkOlDwfsj"
      },
      "outputs": [],
      "source": [
        "# Define the python tuple\n",
        "# create a tuple with 5 examples\n",
        "# tuple oerations\n",
        "# tuple methods\n",
        "\n"
      ]
    },
    {
      "cell_type": "markdown",
      "source": [
        "# **Define the python tuple**\n",
        "-  a tuple is a data type that represents an ordered,immutable(unchangeable)sequence of  elements.\n",
        "- tuples are similar to lists, but the key difference is that tuples cannot be modified once they are creted\n",
        "-  they are defined using patentheses() and elements are separated by commas."
      ],
      "metadata": {
        "id": "Ds8x5wLQwiOc"
      }
    },
    {
      "cell_type": "code",
      "source": [
        "# create a tuple with 5 examples\n",
        "\n",
        "x = (\"apple\", \"banana\", \"cherry\", \"date\", \"elderberry\")\n",
        "print(type(x))"
      ],
      "metadata": {
        "colab": {
          "base_uri": "https://localhost:8080/"
        },
        "id": "mQ8Tko2PyYW0",
        "outputId": "0f271a9c-f7a4-47b5-87af-d157f62bf8d3"
      },
      "execution_count": null,
      "outputs": [
        {
          "output_type": "stream",
          "name": "stdout",
          "text": [
            "<class 'tuple'>\n"
          ]
        }
      ]
    },
    {
      "cell_type": "code",
      "source": [
        "y = (\"cricket\", \"vollyball\", \"hocky\")\n",
        "print(type(y))"
      ],
      "metadata": {
        "colab": {
          "base_uri": "https://localhost:8080/"
        },
        "id": "8ov0Jsh2z3zN",
        "outputId": "37b1ba80-1bf7-427a-a11b-ed89b4d920b5"
      },
      "execution_count": null,
      "outputs": [
        {
          "output_type": "stream",
          "name": "stdout",
          "text": [
            "<class 'tuple'>\n"
          ]
        }
      ]
    },
    {
      "cell_type": "code",
      "source": [
        "# create a mixed data  types\n",
        "x = (\"abc\", 34, True, 40, \"male\")\n",
        "print(type(x))"
      ],
      "metadata": {
        "colab": {
          "base_uri": "https://localhost:8080/"
        },
        "id": "G4CoJ6bb0E--",
        "outputId": "ba1bab2e-2da4-4379-c4e6-639b7344b9f0"
      },
      "execution_count": null,
      "outputs": [
        {
          "output_type": "stream",
          "name": "stdout",
          "text": [
            "<class 'tuple'>\n"
          ]
        }
      ]
    },
    {
      "cell_type": "code",
      "source": [
        "y = (\"cricket\",11, \"vollyball\",0.6 ,\"hocky\",6+9j)\n",
        "print(type(y))"
      ],
      "metadata": {
        "colab": {
          "base_uri": "https://localhost:8080/"
        },
        "id": "Fpzmd2mm0U9c",
        "outputId": "7d887803-deae-4520-b7d8-6646a33b0738"
      },
      "execution_count": null,
      "outputs": [
        {
          "output_type": "stream",
          "name": "stdout",
          "text": [
            "<class 'tuple'>\n"
          ]
        }
      ]
    },
    {
      "cell_type": "code",
      "source": [
        "z = (\"apple\", 43, True,0.3,\"orange\",40, \"kiwi\")\n",
        "print(type(z))"
      ],
      "metadata": {
        "colab": {
          "base_uri": "https://localhost:8080/"
        },
        "id": "06QvQrKh0veL",
        "outputId": "e7dcce97-bc92-4f1e-fb06-6c1f39ce7316"
      },
      "execution_count": null,
      "outputs": [
        {
          "output_type": "stream",
          "name": "stdout",
          "text": [
            "<class 'tuple'>\n"
          ]
        }
      ]
    },
    {
      "cell_type": "code",
      "source": [
        "# single element tuple\n",
        "x = (\"apple\",)\n",
        "print(type(x))"
      ],
      "metadata": {
        "colab": {
          "base_uri": "https://localhost:8080/"
        },
        "id": "nVOWPvvm1j6W",
        "outputId": "3f8d0356-a488-4d42-ce78-97f6d19c80bc"
      },
      "execution_count": null,
      "outputs": [
        {
          "output_type": "stream",
          "name": "stdout",
          "text": [
            "<class 'tuple'>\n"
          ]
        }
      ]
    },
    {
      "cell_type": "code",
      "source": [
        "a = (\"3333\",)\n",
        "print(type(a))"
      ],
      "metadata": {
        "colab": {
          "base_uri": "https://localhost:8080/"
        },
        "id": "XVu-OWPI1qmO",
        "outputId": "1be1d1f5-35ac-4cea-892c-7aaab5a551a2"
      },
      "execution_count": null,
      "outputs": [
        {
          "output_type": "stream",
          "name": "stdout",
          "text": [
            "<class 'tuple'>\n"
          ]
        }
      ]
    },
    {
      "cell_type": "code",
      "source": [
        "# accessing of tuples\n",
        "a = (\"apple\", \"banana\", \"cherry\",\"apple\",\"date\", \"elderberry\")\n",
        "print(a[5])\n",
        "print(a[3])"
      ],
      "metadata": {
        "colab": {
          "base_uri": "https://localhost:8080/"
        },
        "id": "HDLF0pKW4MtP",
        "outputId": "c2dba756-ec35-4689-94dd-bd3f50daefff"
      },
      "execution_count": null,
      "outputs": [
        {
          "output_type": "stream",
          "name": "stdout",
          "text": [
            "elderberry\n",
            "apple\n"
          ]
        }
      ]
    },
    {
      "cell_type": "code",
      "source": [
        "x = (\"cricket\", \"vollyball\", \"hocky\",\"apple\", \"banana\",\"hocky\" \"cherry\", \"date\", \"elderberry\")\n",
        "print(x[1:5])\n",
        "print(x[0:5])"
      ],
      "metadata": {
        "colab": {
          "base_uri": "https://localhost:8080/"
        },
        "id": "0WIHVcHs4z6a",
        "outputId": "d0c85e81-bb3d-406c-8570-5f6f7ba616a8"
      },
      "execution_count": null,
      "outputs": [
        {
          "output_type": "stream",
          "name": "stdout",
          "text": [
            "('vollyball', 'hocky', 'apple', 'banana')\n",
            "('cricket', 'vollyball', 'hocky', 'apple', 'banana')\n"
          ]
        }
      ]
    },
    {
      "cell_type": "markdown",
      "source": [
        "# **Tuple Operations**\n",
        "\n",
        "\n",
        "*   1.Concatention\n",
        "*   2.Repetition\n",
        "\n",
        "**1.Concatention**\n",
        "\n",
        "   combining two tuples\n",
        "\n"
      ],
      "metadata": {
        "id": "4-5fgKoZ6_W9"
      }
    },
    {
      "cell_type": "code",
      "source": [
        "x = (\"cricket\", \"vollyball\", \"hocky\")\n",
        "y = (\"apple\", \"banana\", \"cherry\")\n",
        "z = x + y\n",
        "print(z)"
      ],
      "metadata": {
        "colab": {
          "base_uri": "https://localhost:8080/"
        },
        "id": "7_24rked7rFa",
        "outputId": "717602ed-9074-4da9-fc02-535221524c4a"
      },
      "execution_count": null,
      "outputs": [
        {
          "output_type": "stream",
          "name": "stdout",
          "text": [
            "('cricket', 'vollyball', 'hocky', 'apple', 'banana', 'cherry')\n"
          ]
        }
      ]
    },
    {
      "cell_type": "code",
      "source": [
        "a = (\"1\", \"2\", \"3\")\n",
        "b = (\"apple\", \"banana\", \"cherry\")\n",
        "c = a + b\n",
        "print(c)"
      ],
      "metadata": {
        "colab": {
          "base_uri": "https://localhost:8080/"
        },
        "id": "pC-XMqAF73ik",
        "outputId": "09ba6614-efd1-4cc0-97e1-d763701299ed"
      },
      "execution_count": null,
      "outputs": [
        {
          "output_type": "stream",
          "name": "stdout",
          "text": [
            "('1', '2', '3', 'apple', 'banana', 'cherry')\n"
          ]
        }
      ]
    },
    {
      "cell_type": "markdown",
      "source": [
        "2..Repetition\n",
        "\n",
        "   repeating a tuple"
      ],
      "metadata": {
        "id": "k3-0MuJv8GmV"
      }
    },
    {
      "cell_type": "code",
      "source": [
        "x = (\"cricket\", \"vollyball\", \"hocky\")\n",
        "y = x * 2\n",
        "print(y)"
      ],
      "metadata": {
        "colab": {
          "base_uri": "https://localhost:8080/"
        },
        "id": "Ks9Kr8uU8U0i",
        "outputId": "d159c4b4-bed5-4867-844f-032e5cde61fc"
      },
      "execution_count": null,
      "outputs": [
        {
          "output_type": "stream",
          "name": "stdout",
          "text": [
            "('cricket', 'vollyball', 'hocky', 'cricket', 'vollyball', 'hocky')\n"
          ]
        }
      ]
    },
    {
      "cell_type": "code",
      "source": [
        "z = (\"apple\", \"banana\", \"cherry\")\n",
        "a = z * 3\n",
        "print(a)"
      ],
      "metadata": {
        "colab": {
          "base_uri": "https://localhost:8080/"
        },
        "id": "HJfortwH8eRL",
        "outputId": "bcbd2756-7367-4950-c140-f2f8d645d9a6"
      },
      "execution_count": null,
      "outputs": [
        {
          "output_type": "stream",
          "name": "stdout",
          "text": [
            "('apple', 'banana', 'cherry', 'apple', 'banana', 'cherry', 'apple', 'banana', 'cherry')\n"
          ]
        }
      ]
    },
    {
      "cell_type": "code",
      "source": [
        "w= (\"1\", \"2\", \"3\")\n",
        "b = w * 10\n",
        "print(b)"
      ],
      "metadata": {
        "colab": {
          "base_uri": "https://localhost:8080/"
        },
        "id": "ZOENFvAu8hgZ",
        "outputId": "961e271d-cd2c-429f-d10f-2bdbcc83a960"
      },
      "execution_count": null,
      "outputs": [
        {
          "output_type": "stream",
          "name": "stdout",
          "text": [
            "('1', '2', '3', '1', '2', '3', '1', '2', '3', '1', '2', '3', '1', '2', '3', '1', '2', '3', '1', '2', '3', '1', '2', '3', '1', '2', '3', '1', '2', '3')\n"
          ]
        }
      ]
    },
    {
      "cell_type": "markdown",
      "source": [
        "# **Tuple of methods**\n",
        "Tuples have limited methods compared to list due to their immutability."
      ],
      "metadata": {
        "id": "xmKEuRNc8tdy"
      }
    },
    {
      "cell_type": "markdown",
      "source": [
        "1. count()\n",
        "\n",
        " Returns the number of occurrences of a specified value."
      ],
      "metadata": {
        "id": "ulcz2H7R-Lkq"
      }
    },
    {
      "cell_type": "code",
      "source": [
        "z=(\"1\", \"2\", \"3\",\"1\", \"2\", \"3\",\"1\", \"2\", \"3\",\"1\", \"2\", \"3\")\n",
        "print(z.count(\"1\"))"
      ],
      "metadata": {
        "colab": {
          "base_uri": "https://localhost:8080/"
        },
        "id": "95yaKsfX_Uff",
        "outputId": "d3fe293f-b8d2-41d4-d471-ccb66d574f50"
      },
      "execution_count": null,
      "outputs": [
        {
          "output_type": "stream",
          "name": "stdout",
          "text": [
            "4\n"
          ]
        }
      ]
    },
    {
      "cell_type": "code",
      "source": [
        "x = (\"12\", \"23\", \"34\",\"12\", \"23\", \"34\",\"12\", \"23\", \"34\",\"12\", \"23\", \"34\")\n",
        "print(x.count(\"12\"))"
      ],
      "metadata": {
        "colab": {
          "base_uri": "https://localhost:8080/"
        },
        "id": "kGYcdobG_jMy",
        "outputId": "34cc3b97-2673-4289-ab2f-391065d7a64d"
      },
      "execution_count": null,
      "outputs": [
        {
          "output_type": "stream",
          "name": "stdout",
          "text": [
            "4\n"
          ]
        }
      ]
    },
    {
      "cell_type": "markdown",
      "source": [
        "2.Index()\n",
        "\n",
        "Returns the index of the first occurrence of a specified value."
      ],
      "metadata": {
        "id": "knJdWQbm_6bI"
      }
    },
    {
      "cell_type": "code",
      "source": [
        "x = (\"12\", \"23\", \"34\",\"12\", \"23\", \"34\",\"12\", \"23\", \"34\",\"12\", \"23\", \"34\")\n",
        "print(x.index(\"12\"))"
      ],
      "metadata": {
        "colab": {
          "base_uri": "https://localhost:8080/"
        },
        "id": "0_nsEWTFAQKf",
        "outputId": "c0d0a9bc-21cf-4625-8223-8c148a4a8660"
      },
      "execution_count": null,
      "outputs": [
        {
          "output_type": "stream",
          "name": "stdout",
          "text": [
            "0\n"
          ]
        }
      ]
    },
    {
      "cell_type": "code",
      "source": [
        "y = (\"cricket\", \"vollyball\", \"hocky\",\"apple\", \"banana\",\"hocky\" \"cherry\", \"date\", \"elderberry\")\n",
        "print(y.index(\"hocky\"))\n"
      ],
      "metadata": {
        "colab": {
          "base_uri": "https://localhost:8080/"
        },
        "id": "Il2N9bIZAU8b",
        "outputId": "9594a2a2-a0d8-4952-8e42-5df22d0f2e66"
      },
      "execution_count": null,
      "outputs": [
        {
          "output_type": "stream",
          "name": "stdout",
          "text": [
            "2\n"
          ]
        }
      ]
    }
  ]
}