{
  "nbformat": 4,
  "nbformat_minor": 0,
  "metadata": {
    "colab": {
      "provenance": []
    },
    "kernelspec": {
      "name": "python3",
      "display_name": "Python 3"
    },
    "language_info": {
      "name": "python"
    }
  },
  "cells": [
    {
      "cell_type": "markdown",
      "source": [
        "# **CONDITIONAL STATEMENTS**\n",
        "-  Conditional statements in Python are used to make decisions in a program based on variable values or comparison results.\n",
        "\n",
        "-  Compare values of variables.\n",
        "-  Add conditional data to a DataFrame.\n",
        "- Print a message only if a certain condition is met."
      ],
      "metadata": {
        "id": "aO6Ug1p3O1L3"
      }
    },
    {
      "cell_type": "code",
      "source": [
        "# IF STATEMENT : WE HAVE ONELY ONE CONDITION\n",
        "num = 10\n",
        "if num > 0:\n",
        "    print(\"is a positive number.\")"
      ],
      "metadata": {
        "colab": {
          "base_uri": "https://localhost:8080/"
        },
        "id": "JsN2Eq7UPplL",
        "outputId": "48a9ed01-d37b-4d16-c4bb-daee08b7f2bd"
      },
      "execution_count": 1,
      "outputs": [
        {
          "output_type": "stream",
          "name": "stdout",
          "text": [
            "is a positive number.\n"
          ]
        }
      ]
    },
    {
      "cell_type": "code",
      "source": [
        "# else statement : when we have two conditions.\n",
        "num = -5\n",
        "if num >= 0:\n",
        "    print(\"Positive number\")\n",
        "else:\n",
        "    print(\"Negative number\")"
      ],
      "metadata": {
        "colab": {
          "base_uri": "https://localhost:8080/"
        },
        "id": "Lk1rozl3Q9Kj",
        "outputId": "bce7a84d-0ee8-4966-c17b-37eb6cd25961"
      },
      "execution_count": 3,
      "outputs": [
        {
          "output_type": "stream",
          "name": "stdout",
          "text": [
            "Negative number\n"
          ]
        }
      ]
    },
    {
      "cell_type": "code",
      "source": [
        "# elif statement : when we have more than two conditions.\n",
        "num = 0\n",
        "if num > 0:\n",
        "    print(\"Positive number\")\n",
        "elif num < 0:\n",
        "    print(\"negative number\")\n",
        "else:\n",
        "    print(\"zero\")"
      ],
      "metadata": {
        "colab": {
          "base_uri": "https://localhost:8080/"
        },
        "id": "tzeGhriEScVe",
        "outputId": "418d93de-3398-4b50-a0c3-e89258e3baa1"
      },
      "execution_count": 7,
      "outputs": [
        {
          "output_type": "stream",
          "name": "stdout",
          "text": [
            "zero\n"
          ]
        }
      ]
    },
    {
      "cell_type": "code",
      "source": [
        "# elif statement\n",
        "\n",
        "num = 663\n",
        "if num > 662:\n",
        "    print(\"Positive number\")\n",
        "elif num == 0:\n",
        "    print(\"Zero\")\n",
        "else:\n",
        "    print(\"Negative number\")"
      ],
      "metadata": {
        "colab": {
          "base_uri": "https://localhost:8080/"
        },
        "id": "Ppy3SlOpUlJx",
        "outputId": "28b13053-bc8e-45be-d37b-6db991e182ce"
      },
      "execution_count": null,
      "outputs": [
        {
          "output_type": "stream",
          "name": "stdout",
          "text": [
            "Positive number\n"
          ]
        }
      ]
    },
    {
      "cell_type": "code",
      "source": [
        "# type of inputs ---:  stastic and dynamic input"
      ],
      "metadata": {
        "id": "VSRv3lQLb7vn"
      },
      "execution_count": null,
      "outputs": []
    },
    {
      "cell_type": "markdown",
      "source": [
        "-  Static input : as a devlopers we are taking inputs\n",
        "-  Dynamic input : we need to collect the data from user"
      ],
      "metadata": {
        "id": "aiZRuX9efnT_"
      }
    },
    {
      "cell_type": "code",
      "source": [
        "a = 3636"
      ],
      "metadata": {
        "id": "TlorbryPhzXq"
      },
      "execution_count": null,
      "outputs": []
    },
    {
      "cell_type": "code",
      "source": [
        "user = input(\"enter your name\")\n"
      ],
      "metadata": {
        "colab": {
          "base_uri": "https://localhost:8080/"
        },
        "id": "hrWda62JiF0D",
        "outputId": "909174d7-f81f-4ec6-e61b-7ee0b873f8b1"
      },
      "execution_count": 32,
      "outputs": [
        {
          "name": "stdout",
          "output_type": "stream",
          "text": [
            "enter your name ms dhoni\n"
          ]
        }
      ]
    },
    {
      "cell_type": "code",
      "source": [
        "print (user)"
      ],
      "metadata": {
        "colab": {
          "base_uri": "https://localhost:8080/"
        },
        "id": "ljT7dZBEiS7t",
        "outputId": "f2e838ee-18f6-497e-ad34-5c5bd8b07d21"
      },
      "execution_count": 33,
      "outputs": [
        {
          "output_type": "stream",
          "name": "stdout",
          "text": [
            " ms dhoni\n"
          ]
        }
      ]
    },
    {
      "cell_type": "code",
      "source": [
        "age = int(input(\"enter your age\"))"
      ],
      "metadata": {
        "colab": {
          "base_uri": "https://localhost:8080/"
        },
        "id": "sfABgQOjic4t",
        "outputId": "a2c055ef-725a-4732-be16-5a4ac0ef879b"
      },
      "execution_count": 35,
      "outputs": [
        {
          "name": "stdout",
          "output_type": "stream",
          "text": [
            "enter your age 45\n"
          ]
        }
      ]
    },
    {
      "cell_type": "code",
      "source": [
        "print(age)"
      ],
      "metadata": {
        "colab": {
          "base_uri": "https://localhost:8080/"
        },
        "id": "gL03EE-0i0hj",
        "outputId": "a338cfbc-7ce6-4cb7-86d9-801653ebf2f0"
      },
      "execution_count": 36,
      "outputs": [
        {
          "output_type": "stream",
          "name": "stdout",
          "text": [
            "45\n"
          ]
        }
      ]
    },
    {
      "cell_type": "code",
      "source": [
        "# examples\n",
        "\n",
        "vol = ['a','e','i','o','u']\n",
        "word = input(\"enter your character: \")\n",
        "if word in vol:\n",
        "    print(\"its vowel\")\n",
        "else:\n",
        "    print(\"not vowel\")"
      ],
      "metadata": {
        "colab": {
          "base_uri": "https://localhost:8080/"
        },
        "id": "ym8U8_Lhjs4H",
        "outputId": "7569f655-ca3c-40aa-99c2-9fbf5aec2726"
      },
      "execution_count": 37,
      "outputs": [
        {
          "output_type": "stream",
          "name": "stdout",
          "text": [
            "enter your character: a\n",
            "its vowel\n"
          ]
        }
      ]
    },
    {
      "cell_type": "code",
      "source": [
        "# a,b,c i need find max letter\n",
        "\n",
        "x = 6\n",
        "y = 4\n",
        "z = 2\n",
        "if (x>y and x>z):\n",
        "    print(\"x is max\")\n",
        "elif (y>x and y>z):\n",
        "    print(\"y is max\")\n",
        "else:\n",
        "    print(\"z is max\")"
      ],
      "metadata": {
        "colab": {
          "base_uri": "https://localhost:8080/"
        },
        "id": "KOL77fn1ms4i",
        "outputId": "38d82ceb-cfd5-4f61-da03-c5b83162ab37"
      },
      "execution_count": 45,
      "outputs": [
        {
          "output_type": "stream",
          "name": "stdout",
          "text": [
            "x is max\n"
          ]
        }
      ]
    },
    {
      "cell_type": "code",
      "source": [
        "# write a python programme to check given year is a leap year are not"
      ],
      "metadata": {
        "id": "bfAo8Ooib7xy"
      },
      "execution_count": null,
      "outputs": []
    },
    {
      "cell_type": "code",
      "source": [
        "year = int(input(\"enter a year\"))\n",
        "if (year%4==0):\n",
        "    print(\"yes it is leap year\")\n",
        "else:\n",
        "    print(\"not a leap year\")"
      ],
      "metadata": {
        "id": "WBnVEzZ3WZQp",
        "colab": {
          "base_uri": "https://localhost:8080/"
        },
        "outputId": "10ac2e57-45d0-45c6-fbe5-da29b847a517"
      },
      "execution_count": 30,
      "outputs": [
        {
          "output_type": "stream",
          "name": "stdout",
          "text": [
            "enter a year2024\n",
            "yes it is leap year\n"
          ]
        }
      ]
    },
    {
      "cell_type": "code",
      "source": [
        "#write a python prpgram to find a given number is even or odd\n",
        "a = 65\n",
        "if (a%2==0):\n",
        "    print(\"even number\")\n",
        "else:\n",
        "    print(\"odd number\")\n"
      ],
      "metadata": {
        "colab": {
          "base_uri": "https://localhost:8080/"
        },
        "id": "og32hUn7liUK",
        "outputId": "f913014d-bb12-4b1f-fd6e-9f3252775862"
      },
      "execution_count": null,
      "outputs": [
        {
          "output_type": "stream",
          "name": "stdout",
          "text": [
            "odd number\n"
          ]
        }
      ]
    },
    {
      "cell_type": "code",
      "source": [
        "# write a python program to check if a list is empty or not\n",
        "x = []\n",
        "if not x:\n",
        "    print(\"list is empty\")\n",
        "else:\n",
        "    print(\"list is not empty\")"
      ],
      "metadata": {
        "colab": {
          "base_uri": "https://localhost:8080/"
        },
        "id": "D_JHxHTlmQJD",
        "outputId": "38ef7716-789b-47a2-d34b-8bd5aaaa86c7"
      },
      "execution_count": null,
      "outputs": [
        {
          "output_type": "stream",
          "name": "stdout",
          "text": [
            "list is empty\n"
          ]
        }
      ]
    },
    {
      "cell_type": "code",
      "source": [
        " # write a python code to calculate grade of a students\n",
        "x= int(input(\"enter your marks\"))\n",
        "if (x>=90):\n",
        "    print(\"A grade\")\n",
        "elif (x>=80):\n",
        "    print(\"B grade\")\n",
        "elif (x>=70):\n",
        "    print(\"C grade\")\n",
        "elif (x>=60):\n",
        "    print(\"D grade\")\n",
        "elif (x>=50):\n",
        "    print(\"E grade\")\n",
        "else:\n",
        "    print(\"fail\")\n"
      ],
      "metadata": {
        "id": "5_RrA-Y_ovQf",
        "colab": {
          "base_uri": "https://localhost:8080/"
        },
        "outputId": "07a0ab26-7b63-452f-d3e6-1a49fe2d4da0"
      },
      "execution_count": null,
      "outputs": [
        {
          "output_type": "stream",
          "name": "stdout",
          "text": [
            "enter your marks49\n",
            "fail\n"
          ]
        }
      ]
    },
    {
      "cell_type": "code",
      "source": [
        "# 5q  check wheather given word ia s polindrome or not\n",
        "# 6q  write a python program to find the smallest among three numbers\n",
        "# 7q  find the second largest number in a list\n",
        "# 8q calculate BMI and categorize it under weight normal weight lower weight\n",
        "# 9q write a python program to check vote eligiblity program\n",
        "# 10q to find the belongs to which type of group\n",
        "# group school less than 22\n",
        "# work group greater than 22 and lessthan 50\n",
        "# retire group greater than 50"
      ],
      "metadata": {
        "id": "I29mFZyOpYmM"
      },
      "execution_count": null,
      "outputs": []
    },
    {
      "cell_type": "code",
      "source": [
        "# 5q  check wheather given word ia s polindrome or not\n",
        "word = str(input(\"enter a word\"))\n",
        "if word==word[::-1]:\n",
        "    print(\"polindrome\")\n",
        "else:\n",
        "    print(\"not polindrome\")"
      ],
      "metadata": {
        "colab": {
          "base_uri": "https://localhost:8080/"
        },
        "id": "OPnfG1ja2coN",
        "outputId": "ee33482c-ff1b-4de9-c154-aaafa9c8f8ed"
      },
      "execution_count": 29,
      "outputs": [
        {
          "output_type": "stream",
          "name": "stdout",
          "text": [
            "enter a word  dell\n",
            "not polindrome\n"
          ]
        }
      ]
    },
    {
      "cell_type": "code",
      "source": [
        "# 6q  write a python program to find the smallest among three numbers\n",
        "x = 25\n",
        "y = 30\n",
        "z = 15\n",
        "if (x<y and x<z):\n",
        "    print(\"x is smallest\")\n",
        "elif (y<x and y<z):\n",
        "    print(\"y is smallest\")\n",
        "else:\n",
        "    print(\"z is smallest\")"
      ],
      "metadata": {
        "colab": {
          "base_uri": "https://localhost:8080/"
        },
        "id": "RFt91blG21cv",
        "outputId": "3d7da5b2-35d4-44e9-c63e-7a7a6e3332b1"
      },
      "execution_count": 48,
      "outputs": [
        {
          "output_type": "stream",
          "name": "stdout",
          "text": [
            "z is smallest\n"
          ]
        }
      ]
    },
    {
      "cell_type": "code",
      "source": [
        "# 7q  find the second largest number in a list\n",
        "x = [36,458,32247,95]\n",
        "if (x[0]<x[1]):\n",
        "   print(\"second largest is\",x[1])\n",
        "else:\n",
        "   print(\"second largest is\",x[0])"
      ],
      "metadata": {
        "colab": {
          "base_uri": "https://localhost:8080/"
        },
        "id": "JJ4yGhpM36Wr",
        "outputId": "ecf8d84a-de68-407e-a9db-da35b96073da"
      },
      "execution_count": null,
      "outputs": [
        {
          "output_type": "stream",
          "name": "stdout",
          "text": [
            "second largest is 458\n"
          ]
        }
      ]
    },
    {
      "cell_type": "code",
      "source": [
        "# 8q calculate BMI and categorize it under weight normal weight over weight\n",
        "y = int(input(\"enter your weight\"))\n",
        "if (y<30):\n",
        "    print(\"under weight\")\n",
        "elif (x<=60):\n",
        "    print(\"normal weight\")\n",
        "else:\n",
        "    print(\"over weight\")"
      ],
      "metadata": {
        "colab": {
          "base_uri": "https://localhost:8080/"
        },
        "id": "gsOPJCZCIVX2",
        "outputId": "a362ee74-f271-41c4-ee0b-c159e1deb0db"
      },
      "execution_count": null,
      "outputs": [
        {
          "output_type": "stream",
          "name": "stdout",
          "text": [
            "enter your weight45\n",
            "normal weight\n"
          ]
        }
      ]
    },
    {
      "cell_type": "code",
      "source": [
        "\n",
        "# 9q write a python program to check vote eligiblity program\n",
        "age = int(input(\"enter your age\"))\n",
        "if (age>=18):\n",
        "    print(\"eligible for vote\")\n",
        "else:\n",
        "    print(\"not eligible for vote\")"
      ],
      "metadata": {
        "colab": {
          "base_uri": "https://localhost:8080/"
        },
        "id": "70IrzeEt73yP",
        "outputId": "31cc8be6-01dd-4f1d-9b85-422f5f0a2622"
      },
      "execution_count": 47,
      "outputs": [
        {
          "output_type": "stream",
          "name": "stdout",
          "text": [
            "enter your age17\n",
            "not eligible for vote\n"
          ]
        }
      ]
    },
    {
      "cell_type": "code",
      "source": [
        "age = int(input(\"enter your age\"))\n",
        "if (age>=18):\n",
        "    print(\"eligible for vote\")\n",
        "else:\n",
        "    print(\"not eligible for vote\")"
      ],
      "metadata": {
        "colab": {
          "base_uri": "https://localhost:8080/"
        },
        "id": "5LoXF5Z97_MI",
        "outputId": "3746902a-7b20-4ed7-be7f-85233425be39"
      },
      "execution_count": null,
      "outputs": [
        {
          "output_type": "stream",
          "name": "stdout",
          "text": [
            "enter your age24\n",
            "eligible for vote\n"
          ]
        }
      ]
    },
    {
      "cell_type": "code",
      "source": [
        "# 10q to find the belongs to which type of group\n",
        "# group school less than 22\n",
        "# work group greater than 22 and lessthan 50\n",
        "# retire group greater than 50\n",
        "age = int(input(\"enter your age\"))\n",
        "if (age<=22):\n",
        "    print(\"belongs to school group\")\n",
        "elif (age>22 and age<50):\n",
        "    print(\"belongs to work group\")\n",
        "else:\n",
        "    print(\"belongs to retire group\")\n",
        "\n"
      ],
      "metadata": {
        "colab": {
          "base_uri": "https://localhost:8080/"
        },
        "id": "Bs7I5liC8Gdv",
        "outputId": "af299254-654b-4af9-eef7-36c730375ace"
      },
      "execution_count": null,
      "outputs": [
        {
          "output_type": "stream",
          "name": "stdout",
          "text": [
            "enter your age74\n",
            "belongs to retire group\n"
          ]
        }
      ]
    }
  ]
}