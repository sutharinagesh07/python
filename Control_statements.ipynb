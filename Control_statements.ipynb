{
  "nbformat": 4,
  "nbformat_minor": 0,
  "metadata": {
    "colab": {
      "provenance": []
    },
    "kernelspec": {
      "name": "python3",
      "display_name": "Python 3"
    },
    "language_info": {
      "name": "python"
    }
  },
  "cells": [
    {
      "cell_type": "markdown",
      "source": [
        "# **control statements**\n",
        "\n",
        "-  control statements in Python are used to control the flow of execution of a program.\n",
        "-   The three types of control statements.\n",
        "-   Pass\n",
        "-  Continue\n",
        "-  Break"
      ],
      "metadata": {
        "id": "QYamKo1AY7cv"
      }
    },
    {
      "cell_type": "code",
      "source": [
        "# pass : The pass statement is used as a placeholder for future code\n",
        "\n",
        "num = [1,2,3,4,5,6,7]\n",
        "for i in num:\n",
        "    if i==5:\n",
        "        pass\n",
        "    else:\n",
        "        print(i)"
      ],
      "metadata": {
        "colab": {
          "base_uri": "https://localhost:8080/"
        },
        "id": "-BX5IaPCWU4J",
        "outputId": "bef58948-24a2-4f7f-df56-38a3ebb621a7"
      },
      "execution_count": 15,
      "outputs": [
        {
          "output_type": "stream",
          "name": "stdout",
          "text": [
            "1\n",
            "2\n",
            "3\n",
            "4\n",
            "6\n",
            "7\n"
          ]
        }
      ]
    },
    {
      "cell_type": "code",
      "source": [
        "x = (\"apple\",\"banana\",\"cherry\",\"kiwi\")\n",
        "for i in x:\n",
        "    if i == \"cherry\":\n",
        "        pass\n",
        "    else:\n",
        "        print(i)"
      ],
      "metadata": {
        "colab": {
          "base_uri": "https://localhost:8080/"
        },
        "id": "j128wWRXmADr",
        "outputId": "5643a3ae-f212-4770-d723-066bad43a85a"
      },
      "execution_count": 17,
      "outputs": [
        {
          "output_type": "stream",
          "name": "stdout",
          "text": [
            "apple\n",
            "banana\n",
            "kiwi\n"
          ]
        }
      ]
    },
    {
      "cell_type": "code",
      "source": [
        "# continue : The continue statement is used to skip the remaining code inside a loop for the current iteration only.\n",
        "\n",
        "num = [1,2,3,4,5,6,7]\n",
        "for i in num:\n",
        "    if i==4:\n",
        "        continue\n",
        "    else:\n",
        "        print(i)"
      ],
      "metadata": {
        "colab": {
          "base_uri": "https://localhost:8080/"
        },
        "id": "-d3wdoRqdHhl",
        "outputId": "13bb0a42-e97f-4fe2-e9a0-9b5ac2830e77"
      },
      "execution_count": 10,
      "outputs": [
        {
          "output_type": "stream",
          "name": "stdout",
          "text": [
            "1\n",
            "2\n",
            "3\n",
            "5\n",
            "6\n",
            "7\n"
          ]
        }
      ]
    },
    {
      "cell_type": "code",
      "source": [
        "b = (\"python\",\"java\",\"c\",\"c++\")\n",
        "for i in b:\n",
        "    if i == \"java\":\n",
        "        continue\n",
        "    else:\n",
        "        print(i)"
      ],
      "metadata": {
        "colab": {
          "base_uri": "https://localhost:8080/"
        },
        "id": "7vfXHMfJnmhR",
        "outputId": "d716633e-42c4-4b86-a9d6-96374d70df79"
      },
      "execution_count": 18,
      "outputs": [
        {
          "output_type": "stream",
          "name": "stdout",
          "text": [
            "python\n",
            "c\n",
            "c++\n"
          ]
        }
      ]
    },
    {
      "cell_type": "code",
      "source": [
        "# Break : The break statement is used to immediately exit a loop when a certain condition is met.\n",
        "\n",
        "num = [1,2,3,4,5,6,7]\n",
        "for i in num:\n",
        "    if i==3:\n",
        "        break\n",
        "    else:\n",
        "        print(i)"
      ],
      "metadata": {
        "colab": {
          "base_uri": "https://localhost:8080/"
        },
        "id": "Bw4aK1xaeoPT",
        "outputId": "2370f362-4cfe-421e-dfd1-0de9e15722b3"
      },
      "execution_count": 11,
      "outputs": [
        {
          "output_type": "stream",
          "name": "stdout",
          "text": [
            "1\n",
            "2\n"
          ]
        }
      ]
    },
    {
      "cell_type": "code",
      "source": [
        "z = [\"used\", \"to\", \"immediately\", \"exit\", \"a\", \"loop\",\"when\", \"a\", \"certain\", \"condition\", \"is\", \"met\"]\n",
        "for i in z:\n",
        "    if i == \"when\":\n",
        "        break\n",
        "    else:\n",
        "        print(i)"
      ],
      "metadata": {
        "colab": {
          "base_uri": "https://localhost:8080/"
        },
        "id": "P2zkuWn1n40n",
        "outputId": "0e9d6539-bd43-4aba-9a37-72558e03771a"
      },
      "execution_count": 19,
      "outputs": [
        {
          "output_type": "stream",
          "name": "stdout",
          "text": [
            "used\n",
            "to\n",
            "immediately\n",
            "exit\n",
            "a\n",
            "loop\n"
          ]
        }
      ]
    },
    {
      "cell_type": "code",
      "source": [
        "#\n",
        "x = [\"apple\",\"banana\",\"kiwi\",\"cherry\",\"mango\",\"orange\"]\n",
        "for i in x:\n",
        "    if i == \"kiwi\":\n",
        "       pass\n",
        "    elif i == \"mango\":\n",
        "        continue\n",
        "    else:\n",
        "      print(i)"
      ],
      "metadata": {
        "colab": {
          "base_uri": "https://localhost:8080/"
        },
        "id": "_cUmM5NBfoR4",
        "outputId": "778317c2-8b73-4648-8c2e-d428b26e2d76"
      },
      "execution_count": 20,
      "outputs": [
        {
          "output_type": "stream",
          "name": "stdout",
          "text": [
            "apple\n",
            "banana\n",
            "cherry\n",
            "orange\n"
          ]
        }
      ]
    },
    {
      "cell_type": "code",
      "source": [
        "#\n",
        "for k in range (1,11):\n",
        "    if k == 5:\n",
        "        pass\n",
        "    elif k == 8:\n",
        "        continue\n",
        "    else:\n",
        "        print(k)"
      ],
      "metadata": {
        "colab": {
          "base_uri": "https://localhost:8080/"
        },
        "id": "o7kjfd21ptN9",
        "outputId": "584f152d-590e-4bb8-e9fb-3c89384824a6"
      },
      "execution_count": 22,
      "outputs": [
        {
          "output_type": "stream",
          "name": "stdout",
          "text": [
            "1\n",
            "2\n",
            "3\n",
            "4\n",
            "6\n",
            "7\n",
            "9\n",
            "10\n"
          ]
        }
      ]
    }
  ]
}